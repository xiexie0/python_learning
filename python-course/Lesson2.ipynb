{
 "cells": [
  {
   "cell_type": "markdown",
   "metadata": {},
   "source": [
    "## 第二节课 控制结构"
   ]
  },
  {
   "cell_type": "markdown",
   "metadata": {},
   "source": [
    "\n",
    "控制结构用于控制代码的执行流程。它们决定哪些代码应该执行，什么时候执行，以及执行多少次。\n",
    "\n",
    "控制结构主要分为**条件语句**和**循环语句**两大类。"
   ]
  },
  {
   "cell_type": "markdown",
   "metadata": {},
   "source": [
    "#### 条件语句\n",
    "\n",
    "条件语句根据给定的条件执行代码块。如果条件为真（True），则执行特定代码块；如果条件为假（False），则可以执行另一个代码块。\n",
    "\n",
    "#### --if 基本语法\n",
    "\n",
    "if condition:\n",
    "如果这个条件是true代码将执行\n",
    "\n",
    "#### --if-else 基本语法\n",
    "\n",
    "if condition:\n",
    "如果这个条件是true代码将执行\n",
    "\n",
    " else:\n",
    "如果这个条件是false代码将执行\n",
    "\n",
    "#### --if-elif-else"
   ]
  },
  {
   "cell_type": "code",
   "execution_count": 2,
   "metadata": {},
   "outputs": [
    {
     "name": "stdout",
     "output_type": "stream",
     "text": [
      "you are a teenager\n"
     ]
    }
   ],
   "source": [
    "# 判断是否为成年人\n",
    "age = 13\n",
    "if age >= 18:\n",
    "    print(\"you are an adult\")\n",
    "else:\n",
    "    print(\"you are a teenager\")"
   ]
  },
  {
   "cell_type": "code",
   "execution_count": 4,
   "metadata": {},
   "outputs": [
    {
     "name": "stdout",
     "output_type": "stream",
     "text": [
      "B\n"
     ]
    }
   ],
   "source": [
    "# 判断成绩等级\n",
    "score = 81\n",
    "if score >= 90:\n",
    "    print(\"A\")\n",
    "elif score >= 80:\n",
    "    print(\"B\")\n",
    "elif score >= 60:\n",
    "    print(\"C\")\n",
    "else:\n",
    "    print(\"D\")"
   ]
  },
  {
   "cell_type": "markdown",
   "metadata": {},
   "source": [
    "---"
   ]
  },
  {
   "cell_type": "markdown",
   "metadata": {},
   "source": [
    "#### 循环语句\n",
    "\n",
    "#### for & while\n",
    "\n",
    "#### --for基本语法: \n",
    "\n",
    "for variable in sequence:\n",
    "\n",
    "    为序列中的每个项目执行代码\n",
    "\n",
    "#### --while基本语法：\n",
    "\n",
    "while condition：\n",
    "\n",
    "    如果符合condition就执行\n",
    "\n",
    "#### -- break continue\n",
    "\n"
   ]
  },
  {
   "cell_type": "code",
   "execution_count": 7,
   "metadata": {},
   "outputs": [
    {
     "name": "stdout",
     "output_type": "stream",
     "text": [
      "apple\n",
      "banana\n",
      "orange\n"
     ]
    }
   ],
   "source": [
    "# 打印每个水果f的名称\n",
    "fruits = ['apple', 'banana', 'orange']\n",
    "\n",
    "for fruit in fruits:\n",
    "    print(fruit)"
   ]
  },
  {
   "cell_type": "code",
   "execution_count": 12,
   "metadata": {},
   "outputs": [
    {
     "name": "stdout",
     "output_type": "stream",
     "text": [
      "500500\n"
     ]
    }
   ],
   "source": [
    "# 计算1-1000的和\n",
    "sum = 0\n",
    "for i in range(1, 1001):\n",
    "    sum = sum + i\n",
    "print(sum)"
   ]
  },
  {
   "cell_type": "code",
   "execution_count": 11,
   "metadata": {},
   "outputs": [
    {
     "name": "stdout",
     "output_type": "stream",
     "text": [
      "500500\n"
     ]
    }
   ],
   "source": [
    "# 计算1-1000的和\n",
    "sum = 0\n",
    "i = 1\n",
    "while i <= 1000:\n",
    "    sum = sum + i\n",
    "    i = i + 1\n",
    "print(sum)\n",
    "\n",
    "# while 第一步执行完后 i = 2 sum = 1\n",
    "        # 第二次循环后 i = 3 sum = 3\n",
    "\n",
    "# 计算1到10的和\n",
    "sum = 0\n",
    "i = 1\n",
    "while i <= 10:\n",
    "    sum = sum + i\n",
    "    i = i + 1\n",
    "print(sum)\n",
    "\n"
   ]
  },
  {
   "cell_type": "markdown",
   "metadata": {},
   "source": [
    "#### sum（执行后的sum的值） = sum(执行这个语句前的sum的值) + i\n",
    "\n",
    "这个语句 sum = sum + i 是一个常见的编程操作，用于将变量 i 的值累加到变量 sum 上。\n",
    "\n",
    "#### 语句解释：\n",
    "\n",
    "sum 和 i 是两个变量。\n",
    "\n",
    "sum = sum + i 表示将当前 sum 的值加上 i 的值，然后将结果重新赋值给 sum。\n",
    "\n",
    "#### 具体步骤：\n",
    "\n",
    "读取 sum 的当前值。\n",
    "\n",
    "读取 i 的当前值。\n",
    "\n",
    "计算 sum + i 的结果。\n",
    "\n",
    "将结果赋值回 sum，即更新 sum 的值。\n",
    "\n",
    "#### 具体示例：\n",
    "\n",
    "假设 sum 的初始值是 0，i 的值是 1，然后我们执行 sum = sum + i：\n",
    "\n",
    "初始 sum = 0，i = 1\n",
    "\n",
    "计算 sum + i：0 + 1 = 1\n",
    "\n",
    "更新 sum：sum = 1\n",
    "\n",
    "接下来如果 i 的值是 2，再次执行 sum = sum + i：\n",
    "\n",
    "当前 sum = 1，i = 2\n",
    "\n",
    "计算 sum + i：1 + 2 = 3\n",
    "\n",
    "更新 sum：sum = 3\n",
    "\n",
    "这个过程会在循环中反复进行，累加每次循环中的 i 的值。"
   ]
  },
  {
   "cell_type": "code",
   "execution_count": 15,
   "metadata": {},
   "outputs": [
    {
     "name": "stdout",
     "output_type": "stream",
     "text": [
      "1\n",
      "3\n",
      "5\n",
      "7\n",
      "9\n"
     ]
    }
   ],
   "source": [
    "# 使用break和continue来输出1-10的奇数\n",
    "i = 0\n",
    "while i < 10:\n",
    "    i = i + 1\n",
    "    if i % 2 == 0:\n",
    "        continue\n",
    "    print(i)"
   ]
  },
  {
   "cell_type": "code",
   "execution_count": 1,
   "metadata": {},
   "outputs": [],
   "source": [
    "# 学生成绩管理系统示例\n",
    "\n",
    "students = []  # 存储学生信息的列表\n",
    "\n",
    "# 获取学生数量\n",
    "num_students = int(input(\"Enter the number of students: \"))\n",
    "\n",
    "# 输入每个学生的姓名和成绩\n",
    "for i in range(num_students):\n",
    "    name = input(\"Enter the name of student {}: \".format(i+1))\n",
    "    score = float(input(\"Enter the score of {}: \".format(name)))\n",
    "    students.append({'name': name, 'score': score})\n",
    "\n",
    "# 计算平均成绩、最高成绩和最低成绩\n",
    "total_score = 0\n",
    "max_score = -1\n",
    "min_score = 101\n",
    "for student in students:\n",
    "    total_score += student['score']\n",
    "    if student['score'] > max_score:\n",
    "        max_score = student['score']\n",
    "    if student['score'] < min_score:\n",
    "        min_score = student['score']\n",
    "\n",
    "average_score = total_score / num_students\n",
    "\n",
    "# 输出每个学生的成绩等级\n",
    "for student in students:\n",
    "    if student['score'] >= 90:\n",
    "        grade = 'A'\n",
    "    elif student['score'] >= 80:\n",
    "        grade = 'B'\n",
    "    elif student['score'] >= 70:\n",
    "        grade = 'C'\n",
    "    elif student['score'] >= 60:\n",
    "        grade = 'D'\n",
    "    else:\n",
    "        grade = 'F'\n",
    "    print(\"Student: {}, Score: {}, Grade: {}\".format(student['name'], student['score'], grade))\n",
    "\n",
    "# 输出统计信息\n",
    "print(\"Average Score:\", average_score)\n",
    "print(\"Highest Score:\", max_score)\n",
    "print(\"Lowest Score:\", min_score)\n"
   ]
  },
  {
   "cell_type": "markdown",
   "metadata": {},
   "source": [
    "---"
   ]
  },
  {
   "cell_type": "markdown",
   "metadata": {},
   "source": [
    "\n",
    "**作者**: Yming  \n",
    "**邮箱**: yuemingn@student.unimelb.edu.au  \n",
    "**版权声明**: 本代码仅用于个人学习目的，未经许可，不得用于商业用途。"
   ]
  }
 ],
 "metadata": {
  "kernelspec": {
   "display_name": "Python 3 (ipykernel)",
   "language": "python",
   "name": "python3"
  },
  "language_info": {
   "codemirror_mode": {
    "name": "ipython",
    "version": 3
   },
   "file_extension": ".py",
   "mimetype": "text/x-python",
   "name": "python",
   "nbconvert_exporter": "python",
   "pygments_lexer": "ipython3",
   "version": "3.12.2"
  }
 },
 "nbformat": 4,
 "nbformat_minor": 2
}
