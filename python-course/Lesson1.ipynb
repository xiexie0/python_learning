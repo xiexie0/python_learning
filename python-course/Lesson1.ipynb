{
 "cells": [
  {
   "cell_type": "markdown",
   "metadata": {},
   "source": [
    "## 第一节课 程序与python基础\n"
   ]
  },
  {
   "cell_type": "markdown",
   "metadata": {},
   "source": [
    "#### 一.\n",
    "\n",
    "#### --什么是程序\n",
    "\n",
    "\n",
    "#### --程序的一些基本要素\n"
   ]
  },
  {
   "cell_type": "markdown",
   "metadata": {},
   "source": [
    "\n",
    "---"
   ]
  },
  {
   "cell_type": "markdown",
   "metadata": {},
   "source": [
    "#### 二. \n",
    "\n",
    "#### --语言与程序\n",
    "\n",
    "#### --什么是python\n",
    "\n",
    "#### --各式语言的特点和共通性\n"
   ]
  },
  {
   "cell_type": "markdown",
   "metadata": {},
   "source": [
    "\n",
    "---"
   ]
  },
  {
   "cell_type": "markdown",
   "metadata": {},
   "source": [
    "#### 三.\n",
    "\n",
    "#### --PythonAnywhere\n",
    "网站链接 https://www.pythonanywhere.com/\n",
    "\n",
    "教程链接 https://www.allendowney.com/wp/books/think-python-2e/\n",
    "\n",
    "\n",
    "#### --Anaconda\n",
    "\n",
    "Anaconda 是一个开源的 Python 发行版，包含了 Python 及其依赖项、常用的数据科学包（如 NumPy、Pandas、Matplotlib）、和包管理器（Conda）。它简化了环境配置和包管理，特别适合新手和需要处理复杂环境的开发者。\n",
    "\n",
    "官网 https://www.anaconda.com/\n",
    "\n",
    "安装教程 https://blog.csdn.net/mouse2018/article/details/113830986\n",
    "\n",
    "#### --jupyter notebook\n",
    "\n",
    "Jupyter Notebook 是一个基于 Web 的交互式计算环境，支持多种编程语言，包括 Python、R、Julia 等。它的主要功能是将代码、文本、数学方程式、可视化和其他相关元素组合在一起，创建一个动态文档，用于数据分析、机器学习、科学计算和数据可视化等方面。Jupyter Notebook 提供了一个交互式的界面，使用户能够以增量和可视化的方式构建和执行代码\n",
    "\n",
    "\n",
    "安装教程 https://blog.csdn.net/m0_68678046/article/details/129703799\n",
    "\n",
    "#### --VS code\n",
    "\n",
    "代码编辑器\n",
    "\n",
    "安装教程 https://blog.csdn.net/thefg/article/details/131752996\n",
    "\n"
   ]
  },
  {
   "cell_type": "markdown",
   "metadata": {},
   "source": [
    "\n",
    "--- "
   ]
  },
  {
   "cell_type": "markdown",
   "metadata": {},
   "source": [
    "#### 四. 值，类型和变量\n",
    "\n",
    "--值（value）：可以被变量存储的数据。\n",
    "\n",
    "--类型（type）：值的数据类别，决定了值可以进行的操作和行为。\n",
    "  基本类型：\n",
    "   1. int整数类型（int）：整数值，例如 1, -5, 42\n",
    "   2. 浮点数类型（float）：小数值，例如 3.14, -0.001, 2.0\n",
    "   3. 字符串类型（str）：文本数据，例如 \"hello\", \"Python\"\n",
    "   4. 布尔类型（bool）：布尔值，例如 True, False\n"
   ]
  },
  {
   "cell_type": "code",
   "execution_count": null,
   "metadata": {},
   "outputs": [],
   "source": [
    "x = 10\n",
    "print(\"The value of x is:\", x)\n",
    "print(\"The type of x is:\", type(x))"
   ]
  },
  {
   "cell_type": "markdown",
   "metadata": {},
   "source": [
    "\n",
    "--变量（variable）：变量是用来存储数据的命名空间。它们是程序中用于表示存储在内存中的值的名称。\n",
    "  命名规则：\n",
    "   1. 变量名必须以字母或下划线开头。\n",
    "   2. 变量名可以包含字母、数字和下划线，但不能以数字开头。\n",
    "   3. 变量名对大小写敏感（例如，age 和 Age 是两个不同的变量）。\n",
    "   4. 变量名不能用关键字\n",
    "\n"
   ]
  },
  {
   "cell_type": "code",
   "execution_count": null,
   "metadata": {},
   "outputs": [],
   "source": [
    "# 变量实验\n",
    "a = 1\n",
    "print(a)"
   ]
  },
  {
   "cell_type": "markdown",
   "metadata": {},
   "source": [
    "\n",
    "---\n"
   ]
  },
  {
   "cell_type": "markdown",
   "metadata": {},
   "source": [
    "#### 五. 输入输出注释\n",
    "\n",
    "--input()函数：用于从用户获取输入，返回值为字符串类型。\n",
    "\n",
    "variable = input(\"Prompt message\")\n",
    "\n",
    "--print()函数：用于向控制台输出信息，可以输出字符串、变量和表达式的结果。\n",
    "\n",
    "print(value1, value2, ..., sep=' ', end='\\n')\n",
    "\n",
    "--注释 #"
   ]
  },
  {
   "cell_type": "code",
   "execution_count": null,
   "metadata": {},
   "outputs": [],
   "source": [
    "# 输入用户名字并打印"
   ]
  },
  {
   "cell_type": "code",
   "execution_count": null,
   "metadata": {},
   "outputs": [],
   "source": [
    "# 输出年龄"
   ]
  },
  {
   "cell_type": "code",
   "execution_count": null,
   "metadata": {},
   "outputs": [],
   "source": [
    "# 输入两个数字并计算他们的和"
   ]
  },
  {
   "cell_type": "code",
   "execution_count": null,
   "metadata": {},
   "outputs": [],
   "source": []
  }
 ],
 "metadata": {
  "kernelspec": {
   "display_name": "Python 3",
   "language": "python",
   "name": "python3"
  },
  "language_info": {
   "codemirror_mode": {
    "name": "ipython",
    "version": 3
   },
   "file_extension": ".py",
   "mimetype": "text/x-python",
   "name": "python",
   "nbconvert_exporter": "python",
   "pygments_lexer": "ipython3",
   "version": "3.12.2"
  }
 },
 "nbformat": 4,
 "nbformat_minor": 2
}
