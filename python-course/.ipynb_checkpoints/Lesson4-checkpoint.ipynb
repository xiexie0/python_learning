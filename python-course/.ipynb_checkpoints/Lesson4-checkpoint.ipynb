{
 "cells": [
  {
   "cell_type": "markdown",
   "metadata": {},
   "source": [
    "## Lesson4 函数 "
   ]
  },
  {
   "cell_type": "markdown",
   "metadata": {},
   "source": [
    "#### 一. 函数概念和基本语法\n",
    "\n",
    "函数是组织在一起以执行特定任务的代码段。函数可以提高代码的重用性和可读性。  \n",
    "\n",
    "函数在数学中的概念：f(x) = y = ax + b\n",
    "\n",
    "1 + x = 3  \n",
    "y + x = 3  \n",
    "f(x) = 3 - x "
   ]
  },
  {
   "cell_type": "code",
   "execution_count": 2,
   "metadata": {},
   "outputs": [],
   "source": [
    "# 函数基本语法\n",
    "def function_name(parameters):  \n",
    "    # function body  \n",
    "    return value  # 可选  \n"
   ]
  },
  {
   "cell_type": "code",
   "execution_count": 1,
   "metadata": {},
   "outputs": [
    {
     "name": "stdout",
     "output_type": "stream",
     "text": [
      "Hello, world!\n"
     ]
    }
   ],
   "source": [
    "# 简单的函数定义\n",
    "# 定义一个简单的函数\n",
    "def greet():\n",
    "    print(\"Hello, world!\")\n",
    "\n",
    "# 调用函数\n",
    "greet() # 输出：Hello, world!"
   ]
  },
  {
   "cell_type": "code",
   "execution_count": 2,
   "metadata": {},
   "outputs": [
    {
     "name": "stdout",
     "output_type": "stream",
     "text": [
      "Hello, Jesse!\n"
     ]
    }
   ],
   "source": [
    "# 带有参数的函数定义\n",
    "# 定义带参数的函数\n",
    "def greet(name):\n",
    "    print(f\"Hello, {name}!\")\n",
    "\n",
    "# 调用函数\n",
    "greet(\"Jesse\") # 输出：Hello, name!"
   ]
  },
  {
   "cell_type": "markdown",
   "metadata": {},
   "source": [
    "---"
   ]
  },
  {
   "cell_type": "markdown",
   "metadata": {},
   "source": [
    "#### 二. 参数\n",
    "\n",
    "##### --实参和形参\n",
    "\n",
    "形参（形式参数）：在函数定义中出现的参数，用于接收函数调用时传入的值。形参是占位符，代表传入函数的实际数据。  \n",
    "实参（实际参数）：在函数调用时传递给函数的实际值。实参用于替换函数定义中的形参。"
   ]
  },
  {
   "cell_type": "code",
   "execution_count": 4,
   "metadata": {},
   "outputs": [
    {
     "name": "stdout",
     "output_type": "stream",
     "text": [
      "8\n"
     ]
    }
   ],
   "source": [
    "# 定义函数时使用形参\n",
    "def add(a, b):\n",
    "    return a + b  # a 和 b 是形参，在定义 add 函数时使用。\n",
    "\n",
    "\n",
    "# 调用函数时使用实参\n",
    "result = add(3, 5)  # 3 和 5 是实参，在调用 add 函数时传递给形参 a 和 b。\n",
    "print(result) \n"
   ]
  },
  {
   "cell_type": "markdown",
   "metadata": {},
   "source": [
    "\n",
    "##### --位置参数\n",
    "按位置顺序传递的参数\n"
   ]
  },
  {
   "cell_type": "code",
   "execution_count": 7,
   "metadata": {},
   "outputs": [
    {
     "name": "stdout",
     "output_type": "stream",
     "text": [
      "Student 1 Score: 95\n",
      "Student 2 Score: 80\n",
      "Student 3 Score: 78\n"
     ]
    }
   ],
   "source": [
    "# 定义一个打印学生分数的函数\n",
    "def print_scores(student1, student2, student3):\n",
    "    print(f\"Student 1 Score: {student1}\")\n",
    "    print(f\"Student 2 Score: {student2}\")\n",
    "    print(f\"Student 3 Score: {student3}\")\n",
    "\n",
    "# 使用位置参数调用函数\n",
    "print_scores(95, 80, 78)"
   ]
  },
  {
   "cell_type": "markdown",
   "metadata": {},
   "source": [
    "\n",
    "##### --关键词参数\n",
    "\n",
    "关键字参数通过参数名传递，可以使函数调用更清晰。"
   ]
  },
  {
   "cell_type": "code",
   "execution_count": 9,
   "metadata": {},
   "outputs": [
    {
     "name": "stdout",
     "output_type": "stream",
     "text": [
      "Name: Jesse, Age: 13\n",
      "Name: Andrew, Age: 14\n"
     ]
    }
   ],
   "source": [
    "# 定义一个函数，打印名字和年龄\n",
    "def print_info(name, age):\n",
    "    print(f\"Name: {name}, Age: {age}\")\n",
    "\n",
    "# 使用关键字参数调用函数\n",
    "print_info(name=\"Jesse\", age= 13)  \n",
    "print_info(age =14, name =\"Andrew\")   \n"
   ]
  },
  {
   "cell_type": "markdown",
   "metadata": {},
   "source": [
    "##### --默认参数\n",
    "在函数定义中为形参提供默认值，如果函数调用时未传递该参数，则使用默认值。\n"
   ]
  },
  {
   "cell_type": "code",
   "execution_count": 11,
   "metadata": {},
   "outputs": [
    {
     "name": "stdout",
     "output_type": "stream",
     "text": [
      "Hello, Guest!\n",
      "Hello, Jesse!\n"
     ]
    }
   ],
   "source": [
    "# 定义带默认参数的函数\n",
    "def greet(name=\"Guest\"):\n",
    "    print(f\"Hello, {name}!\")\n",
    "\n",
    "# 调用函数时可以使用或不使用实参\n",
    "greet()        \n",
    "greet(\"Jesse\") \n"
   ]
  },
  {
   "cell_type": "code",
   "execution_count": null,
   "metadata": {},
   "outputs": [
    {
     "name": "stdout",
     "output_type": "stream",
     "text": [
      "I have a cat named Rex.\n",
      "I have a hamster named Nibbles.\n",
      "I have a dog named Rex.\n"
     ]
    }
   ],
   "source": [
    "# 定义带两个形参的函数\n",
    "def describe_pet(pet_name, animal_type=\"dog\"):\n",
    "    print(f\"I have a {animal_type} named {pet_name}.\")\n",
    "\n",
    "# 调用函数时使用关键字参数\n",
    "describe_pet(pet_name=\"Rex\", animal_type=\"cat\")  # 输出：I have a cat named Buddy.\n",
    "describe_pet(animal_type=\"hamster\", pet_name=\"Nibbles\")  # 输出：I have a hamster named Nibbles.\n",
    "describe_pet(pet_name=\"Rex\")  # 输出：I have a dog named Rex."
   ]
  },
  {
   "cell_type": "markdown",
   "metadata": {},
   "source": [
    "---"
   ]
  },
  {
   "cell_type": "markdown",
   "metadata": {},
   "source": [
    "#### 三. 返回值\n",
    "\n",
    "函数可以返回值，使用 return 语句。"
   ]
  },
  {
   "cell_type": "code",
   "execution_count": 12,
   "metadata": {},
   "outputs": [
    {
     "name": "stdout",
     "output_type": "stream",
     "text": [
      "Max value: 20\n"
     ]
    }
   ],
   "source": [
    "# 示例\n",
    "# 定义一个返回两个数中较大值的函数\n",
    "def get_max(a, b):\n",
    "    if a > b:\n",
    "        return a\n",
    "    else:\n",
    "        return b\n",
    "\n",
    "# 调用函数并接收返回值\n",
    "max_value = get_max(10, 20)\n",
    "print(\"Max value:\", max_value)  # 输出：Max value: 20\n",
    "\n"
   ]
  },
  {
   "cell_type": "code",
   "execution_count": 13,
   "metadata": {},
   "outputs": [
    {
     "name": "stdout",
     "output_type": "stream",
     "text": [
      "Sum: 15\n",
      "Difference: 5\n"
     ]
    }
   ],
   "source": [
    "# 定义一个函数，返回两个数的和与差\n",
    "def add_subtract(a, b):\n",
    "    return a + b, a - b\n",
    "\n",
    "# 调用函数并接收返回值\n",
    "sum_value, diff_value = add_subtract(10, 5)\n",
    "print(\"Sum:\", sum_value)      # 输出：Sum: 15\n",
    "print(\"Difference:\", diff_value)  # 输出：Difference: 5\n"
   ]
  },
  {
   "cell_type": "markdown",
   "metadata": {},
   "source": [
    "#### 四. 综合举例"
   ]
  },
  {
   "cell_type": "code",
   "execution_count": 1,
   "metadata": {},
   "outputs": [],
   "source": [
    "# 综合运用函数\n",
    "# 输入两个数字，我要分别得到他的加减乘除的结果\n",
    "# 获取用户输入的函数\n",
    "def get_input():\n",
    "    a = float(input(\"Enter the first number: \"))\n",
    "    b = float(input(\"Enter the second number: \"))\n",
    "    return a, b\n",
    "\n",
    "# 计算和的函数\n",
    "def add(a, b):\n",
    "    return a + b\n",
    "\n",
    "# 计算差的函数\n",
    "def subtract(a, b):\n",
    "    return a - b\n",
    "\n",
    "# 计算积的函数\n",
    "def multiply(a, b):\n",
    "    return a * b\n",
    "\n",
    "# 计算商的函数\n",
    "def divide(a, b):\n",
    "    if b != 0:\n",
    "        return a / b\n",
    "    else:\n",
    "        return \"Error! Division by zero.\"\n",
    "\n",
    "# 主程序\n",
    "def main():\n",
    "    a, b = get_input()\n",
    "    print(f\"The sum of {a} and {b} is: {add(a, b)}\")\n",
    "    print(f\"The difference between {a} and {b} is: {subtract(a, b)}\")\n",
    "    print(f\"The product of {a} and {b} is: {multiply(a, b)}\")\n",
    "    print(f\"The quotient of {a} and {b} is: {divide(a, b)}\")\n",
    "\n",
    "# 调用主程序\n",
    "main()\n"
   ]
  },
  {
   "cell_type": "code",
   "execution_count": null,
   "metadata": {},
   "outputs": [],
   "source": [
    "# 定义一个函数，用于记录和打印学生的信息\n",
    "def student_info(name, age=18, *courses, **additional_info):\n",
    "    print(f\"Name: {name}\")\n",
    "    print(f\"Age: {age}\")\n",
    "\n",
    "    # 打印课程信息\n",
    "    if courses:\n",
    "        print(\"Courses:\", end=\" \")\n",
    "        for course in courses:\n",
    "            print(course, end=\", \")\n",
    "        print()\n",
    "\n",
    "    # 打印其他额外信息\n",
    "    for key, value in additional_info.items():\n",
    "        print(f\"{key}: {value}\")\n",
    "\n",
    "# 调用函数，传入不同类型的参数\n",
    "\n",
    "# 仅传入位置参数和默认参数\n",
    "student_info(\"Alice\")\n",
    "# 输出：\n",
    "# Name: Alice\n",
    "# Age: 18\n",
    "\n",
    "# 传入位置参数、默认参数和不定长位置参数\n",
    "student_info(\"Bob\", 20, \"Math\", \"Science\", \"History\")\n",
    "# 输出：\n",
    "# Name: Bob\n",
    "# Age: 20\n",
    "# Courses: Math, Science, History, \n",
    "\n",
    "# 传入位置参数、默认参数、不定长位置参数和不定长关键字参数\n",
    "student_info(\"Charlie\", 22, \"Art\", \"Music\", hobby=\"painting\", city=\"New York\")\n",
    "# 输出：\n",
    "# Name: Charlie\n",
    "# Age: 22\n",
    "# Courses: Art, Music, \n",
    "# hobby: painting\n",
    "# city: New York\n",
    "\n",
    "\n",
    "# 位置参数：name，例如 \"Alice\"、\"Bob\"、\"Charlie\"。\n",
    "# 默认参数：age，默认为 18，可以在调用时指定不同的值，例如 20、22。\n",
    "# 不定长位置参数：*courses，接收任意数量的课程名称，例如 \"Math\"、\"Science\"、\"History\"、\"Art\"、\"Music\"。\n",
    "# 不定长关键字参数：**additional_info，接收任意数量的额外信息，例如 hobby=\"painting\"、city=\"New York\""
   ]
  },
  {
   "cell_type": "markdown",
   "metadata": {},
   "source": [
    "---"
   ]
  },
  {
   "cell_type": "markdown",
   "metadata": {},
   "source": [
    "**作者**: Yming  \n",
    "**邮箱**: yuemingn@student.unimelb.edu.au  \n",
    "**版权声明**: 本代码仅用于个人学习目的，未经许可，不得用于商业用途。"
   ]
  }
 ],
 "metadata": {
  "kernelspec": {
   "display_name": "Python 3 (ipykernel)",
   "language": "python",
   "name": "python3"
  },
  "language_info": {
   "codemirror_mode": {
    "name": "ipython",
    "version": 3
   },
   "file_extension": ".py",
   "mimetype": "text/x-python",
   "name": "python",
   "nbconvert_exporter": "python",
   "pygments_lexer": "ipython3",
   "version": "3.11.7"
  }
 },
 "nbformat": 4,
 "nbformat_minor": 2
}
