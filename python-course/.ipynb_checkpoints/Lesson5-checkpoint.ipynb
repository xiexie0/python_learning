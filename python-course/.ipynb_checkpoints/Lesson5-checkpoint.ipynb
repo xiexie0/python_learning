{
 "cells": [
  {
   "cell_type": "markdown",
   "metadata": {},
   "source": [
    "## Lesson5 文件操作和异常处理"
   ]
  },
  {
   "cell_type": "markdown",
   "metadata": {},
   "source": [
    "#### 一. 文件基本操作\n",
    "\n",
    "##### --打开文件  \n",
    "\n",
    "使用 open() 函数打开文件，可以指定文件路径和打开模式。  \n",
    "\n",
    "'r'：读取模式（默认）  \n",
    "'w'：写入模式（会覆盖文件内容）  \n",
    "'a'：追加模式（在文件末尾添加内容）  \n",
    "'b'：二进制模式（与其他模式结合使用，如 'rb', 'wb'）  "
   ]
  },
  {
   "cell_type": "code",
   "execution_count": 5,
   "metadata": {},
   "outputs": [],
   "source": [
    "# 打开文件\n",
    "file = open('example.txt', 'r')\n",
    "\n",
    "file.close()"
   ]
  },
  {
   "cell_type": "markdown",
   "metadata": {},
   "source": [
    "##### --读取文件\n",
    "\n",
    "使用 read(), readline() 或 readlines() 方法读取文件内容。"
   ]
  },
  {
   "cell_type": "code",
   "execution_count": 1,
   "metadata": {},
   "outputs": [
    {
     "name": "stdout",
     "output_type": "stream",
     "text": [
      "Hello, world!\n",
      "This is a test file.\n"
     ]
    }
   ],
   "source": [
    "# 打开文件并读取内容\n",
    "file = open('example.txt', 'r')\n",
    "\n",
    "# 读取整个文件内容\n",
    "content = file.read()\n",
    "print(content)\n",
    "\n",
    "# 关闭文件\n",
    "file.close()\n"
   ]
  },
  {
   "cell_type": "markdown",
   "metadata": {},
   "source": [
    "##### --写入文件\n",
    "\n",
    "使用 write() 方法向文件写入内容。"
   ]
  },
  {
   "cell_type": "code",
   "execution_count": 7,
   "metadata": {},
   "outputs": [],
   "source": [
    "# 打开文件并写入内容\n",
    "file = open('example.txt', 'w')\n",
    "\n",
    "# 写入内容\n",
    "file.write(\"Hello, world!\\n\")\n",
    "file.write(\"This is a test file.\")\n",
    "\n",
    "# 关闭文件\n",
    "file.close()\n"
   ]
  },
  {
   "cell_type": "markdown",
   "metadata": {},
   "source": [
    "使用 'a' 模式打开文件，并使用 write() 方法追加内容。"
   ]
  },
  {
   "cell_type": "code",
   "execution_count": null,
   "metadata": {},
   "outputs": [],
   "source": [
    "# 打开文件并追加内容\n",
    "file = open('example.txt', 'a')\n",
    "\n",
    "# 追加内容\n",
    "file.write(\"\\nAppending a new line.\")\n",
    "\n",
    "# 关闭文件\n",
    "file.close()\n"
   ]
  },
  {
   "cell_type": "markdown",
   "metadata": {},
   "source": [
    "with 语句用于简化资源管理，确保资源在使用后能够自动关闭或释放。"
   ]
  },
  {
   "cell_type": "code",
   "execution_count": 2,
   "metadata": {},
   "outputs": [
    {
     "name": "stdout",
     "output_type": "stream",
     "text": [
      "File content:\n",
      " Name,Age,Grade\n",
      "Alice,20,A\n",
      "Bob,22,B\n",
      "\n",
      "Reading line by line:\n",
      "Name,Age,Grade\n",
      "Alice,20,A\n",
      "Bob,22,B\n",
      "Charlie,23,C\n"
     ]
    }
   ],
   "source": [
    "# 创建并写入文件\n",
    "with open('students.txt', 'w') as file:\n",
    "    file.write(\"Name,Age,Grade\\n\")\n",
    "    file.write(\"Alice,20,A\\n\")\n",
    "    file.write(\"Bob,22,B\\n\")\n",
    "\n",
    "# 读取文件内容\n",
    "with open('students.txt', 'r') as file:\n",
    "    content = file.read()\n",
    "    print(\"File content:\\n\", content)\n",
    "\n",
    "# 追加文件内容\n",
    "with open('students.txt', 'a') as file:\n",
    "    file.write(\"Charlie,23,C\\n\")\n",
    "\n",
    "# 逐行读取文件内容\n",
    "with open('students.txt', 'r') as file:\n",
    "    print(\"Reading line by line:\")\n",
    "    for line in file:\n",
    "        print(line.strip())\n"
   ]
  },
  {
   "cell_type": "markdown",
   "metadata": {},
   "source": [
    "---"
   ]
  },
  {
   "cell_type": "markdown",
   "metadata": {},
   "source": [
    "#### 二. 异常处理"
   ]
  },
  {
   "cell_type": "markdown",
   "metadata": {},
   "source": [
    "##### --语法错误"
   ]
  },
  {
   "cell_type": "code",
   "execution_count": 4,
   "metadata": {},
   "outputs": [
    {
     "name": "stdout",
     "output_type": "stream",
     "text": [
      "Hello world\n"
     ]
    }
   ],
   "source": [
    "while True:\n",
    "    print('Hello world')\n",
    "    break"
   ]
  },
  {
   "cell_type": "markdown",
   "metadata": {},
   "source": [
    "##### --异常与异常处理\n",
    "\n",
    "即便 Python 程序的语法是正确的，在运行它的时候，也有可能发生错误。运行期检测到的错误被称为异常。大多数的异常都不会被程序处理，都以错误信息的形式展现。\n",
    "\n",
    "异常处理：try/except"
   ]
  },
  {
   "cell_type": "code",
   "execution_count": 5,
   "metadata": {},
   "outputs": [
    {
     "name": "stdout",
     "output_type": "stream",
     "text": [
      "Error: Cannot divide by zero!\n"
     ]
    }
   ],
   "source": [
    "# 异常处理基本格式\n",
    "# try:\n",
    "#     可能发生异常的代码\n",
    "# except ExceptionType:\n",
    "#     处理异常的代码\n",
    "\n",
    "\n",
    "# 示例：处理除零异常\n",
    "try:\n",
    "    result = 10 / 0\n",
    "except ZeroDivisionError:\n",
    "    print(\"Error: Cannot divide by zero!\")\n"
   ]
  },
  {
   "cell_type": "code",
   "execution_count": null,
   "metadata": {},
   "outputs": [],
   "source": [
    "# 示例：处理多种异常\n",
    "try:\n",
    "    num = int(input(\"Enter a number: \"))\n",
    "    result = 10 / num\n",
    "except ValueError:\n",
    "    print(\"Error: Invalid input! Please enter a valid number.\")\n",
    "except ZeroDivisionError:\n",
    "    print(\"Error: Cannot divide by zero!\")\n"
   ]
  },
  {
   "cell_type": "markdown",
   "metadata": {},
   "source": [
    "else 块"
   ]
  },
  {
   "cell_type": "code",
   "execution_count": null,
   "metadata": {},
   "outputs": [],
   "source": [
    "# 示例：使用 else 块，当没有异常发生时执行\n",
    "try:\n",
    "    num = int(input(\"Enter a number: \"))\n",
    "    result = 10 / num\n",
    "except ValueError:\n",
    "    print(\"Error: Invalid input! Please enter a valid number.\")\n",
    "except ZeroDivisionError:\n",
    "    print(\"Error: Cannot divide by zero!\")\n",
    "else:\n",
    "    print(f\"Result: {result}\")\n"
   ]
  },
  {
   "cell_type": "markdown",
   "metadata": {},
   "source": [
    "finally 块"
   ]
  },
  {
   "cell_type": "code",
   "execution_count": null,
   "metadata": {},
   "outputs": [],
   "source": [
    "# 示例：使用 finally 块，无论是否发生异常都会执行\n",
    "try:\n",
    "    num = int(input(\"Enter a number: \"))\n",
    "    result = 10 / num\n",
    "except ValueError:\n",
    "    print(\"Error: Invalid input! Please enter a valid number.\")\n",
    "except ZeroDivisionError:\n",
    "    print(\"Error: Cannot divide by zero!\")\n",
    "else:\n",
    "    print(f\"Result: {result}\")\n",
    "finally:\n",
    "    print(\"Execution completed.\")\n"
   ]
  },
  {
   "cell_type": "markdown",
   "metadata": {},
   "source": [
    "---"
   ]
  },
  {
   "cell_type": "markdown",
   "metadata": {},
   "source": [
    "**作者**: Yming  \n",
    "**邮箱**: yuemingn@student.unimelb.edu.au  \n",
    "**版权声明**: 本代码仅用于个人学习目的，未经许可，不得用于商业用途。"
   ]
  }
 ],
 "metadata": {
  "kernelspec": {
   "display_name": "Python 3 (ipykernel)",
   "language": "python",
   "name": "python3"
  },
  "language_info": {
   "codemirror_mode": {
    "name": "ipython",
    "version": 3
   },
   "file_extension": ".py",
   "mimetype": "text/x-python",
   "name": "python",
   "nbconvert_exporter": "python",
   "pygments_lexer": "ipython3",
   "version": "3.11.7"
  }
 },
 "nbformat": 4,
 "nbformat_minor": 2
}
