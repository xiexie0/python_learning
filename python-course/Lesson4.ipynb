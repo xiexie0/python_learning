{
 "cells": [
  {
   "cell_type": "markdown",
   "metadata": {},
   "source": [
    "## Lesson4 函数 "
   ]
  },
  {
   "cell_type": "markdown",
   "metadata": {},
   "source": [
    "#### 一. 函数概念和基本语法\n",
    "\n",
    "函数是组织在一起以执行特定任务的代码段。函数可以提高代码的重用性和可读性。  \n"
   ]
  },
  {
   "cell_type": "code",
   "execution_count": 2,
   "metadata": {},
   "outputs": [],
   "source": [
    "# 函数基本语法\n",
    "def function_name(parameters):  \n",
    "    # function body  \n",
    "    return value  # 可选  \n"
   ]
  },
  {
   "cell_type": "code",
   "execution_count": 3,
   "metadata": {},
   "outputs": [],
   "source": [
    "# 简单的函数定义\n"
   ]
  },
  {
   "cell_type": "code",
   "execution_count": 4,
   "metadata": {},
   "outputs": [],
   "source": [
    "# 带有参数的函数定义\n"
   ]
  },
  {
   "cell_type": "markdown",
   "metadata": {},
   "source": [
    "#### 二. 参数\n",
    "\n",
    "##### --实参和形参\n",
    "\n",
    "形参（形式参数）：在函数定义中出现的参数，用于接收函数调用时传入的值。形参是占位符，代表传入函数的实际数据。  \n",
    "实参（实际参数）：在函数调用时传递给函数的实际值。实参用于替换函数定义中的形参。"
   ]
  },
  {
   "cell_type": "markdown",
   "metadata": {},
   "source": [
    "\n",
    "##### --位置参数\n",
    "按位置顺序传递的参数\n"
   ]
  },
  {
   "cell_type": "code",
   "execution_count": null,
   "metadata": {},
   "outputs": [],
   "source": [
    "# 定义函数时使用形参\n",
    "def greet(name):\n",
    "    print(f\"Hello, {name}!\")\n",
    "\n",
    "# 调用函数时使用实参\n",
    "greet(\"Alice\")  # 输出：Hello, Alice!\n",
    "greet(\"Bob\")    # 输出：Hello, Bob!\n"
   ]
  },
  {
   "cell_type": "markdown",
   "metadata": {},
   "source": [
    "\n",
    "##### --关键词参数\n",
    "\n",
    "关键字参数通过参数名传递，可以使函数调用更清晰。"
   ]
  },
  {
   "cell_type": "code",
   "execution_count": null,
   "metadata": {},
   "outputs": [],
   "source": [
    "# 定义带两个形参的函数\n",
    "def describe_pet(pet_name, animal_type=\"dog\"):\n",
    "    print(f\"I have a {animal_type} named {pet_name}.\")\n",
    "\n",
    "# 调用函数时使用关键字参数\n",
    "describe_pet(pet_name=\"Buddy\", animal_type=\"cat\")  # 输出：I have a cat named Buddy.\n",
    "describe_pet(animal_type=\"hamster\", pet_name=\"Nibbles\")  # 输出：I have a hamster named Nibbles.\n",
    "describe_pet(pet_name=\"Rex\")  # 输出：I have a dog named Rex."
   ]
  },
  {
   "cell_type": "markdown",
   "metadata": {},
   "source": [
    "---"
   ]
  },
  {
   "cell_type": "markdown",
   "metadata": {},
   "source": [
    "##### --默认参数\n",
    "在函数定义中为形参提供默认值，如果函数调用时未传递该参数，则使用默认值。\n"
   ]
  },
  {
   "cell_type": "code",
   "execution_count": null,
   "metadata": {},
   "outputs": [],
   "source": [
    "# 定义带默认参数的函数\n",
    "def greet(name=\"Guest\"):\n",
    "    print(f\"Hello, {name}!\")\n",
    "\n",
    "# 调用函数时可以使用或不使用实参\n",
    "greet()        \n",
    "greet(\"Alice\") \n"
   ]
  },
  {
   "cell_type": "markdown",
   "metadata": {},
   "source": [
    "#### 三. 返回值\n",
    "\n",
    "函数可以返回值，使用 return 语句。"
   ]
  },
  {
   "cell_type": "code",
   "execution_count": 7,
   "metadata": {},
   "outputs": [],
   "source": [
    "# 示例"
   ]
  },
  {
   "cell_type": "code",
   "execution_count": null,
   "metadata": {},
   "outputs": [],
   "source": [
    "# 综合运用函数\n",
    "\n",
    "# 获取用户输入的函数\n",
    "def get_input():\n",
    "    a = float(input(\"Enter the first number: \"))\n",
    "    b = float(input(\"Enter the second number: \"))\n",
    "    return a, b\n",
    "\n",
    "# 计算和的函数\n",
    "def add(a, b):\n",
    "    return a + b\n",
    "\n",
    "# 计算差的函数\n",
    "def subtract(a, b):\n",
    "    return a - b\n",
    "\n",
    "# 计算积的函数\n",
    "def multiply(a, b):\n",
    "    return a * b\n",
    "\n",
    "# 计算商的函数\n",
    "def divide(a, b):\n",
    "    if b != 0:\n",
    "        return a / b\n",
    "    else:\n",
    "        return \"Error! Division by zero.\"\n",
    "\n",
    "# 主程序\n",
    "def main():\n",
    "    a, b = get_input()\n",
    "    print(f\"The sum of {a} and {b} is: {add(a, b)}\")\n",
    "    print(f\"The difference between {a} and {b} is: {subtract(a, b)}\")\n",
    "    print(f\"The product of {a} and {b} is: {multiply(a, b)}\")\n",
    "    print(f\"The quotient of {a} and {b} is: {divide(a, b)}\")\n",
    "\n",
    "# 调用主程序\n",
    "main()\n"
   ]
  }
 ],
 "metadata": {
  "kernelspec": {
   "display_name": "Python 3",
   "language": "python",
   "name": "python3"
  },
  "language_info": {
   "codemirror_mode": {
    "name": "ipython",
    "version": 3
   },
   "file_extension": ".py",
   "mimetype": "text/x-python",
   "name": "python",
   "nbconvert_exporter": "python",
   "pygments_lexer": "ipython3",
   "version": "3.12.2"
  }
 },
 "nbformat": 4,
 "nbformat_minor": 2
}
