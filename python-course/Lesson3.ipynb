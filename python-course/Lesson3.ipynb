{
 "cells": [
  {
   "cell_type": "markdown",
   "metadata": {},
   "source": [
    "## Lesson3 数据结构"
   ]
  },
  {
   "cell_type": "markdown",
   "metadata": {},
   "source": [
    "#### 一. 数据结构的概念 \n",
    "\n",
    "**数据结构**（Data Structures）是指存储、组织和管理数据的方式。数据结构通常是由**基本数据类型**组成的。\n",
    "\n",
    "**数据结构和数据类型的关系：**  \n",
    "1. 基本数据类型是构建数据结构的基础：例如，一个列表可以包含多个整数、浮点数、字符串等基本数据类型。  \n",
    "2. 数据结构是更复杂的类型：数据结构通常用来组织和管理多种类型的数据，更适合处理复杂的数据操作和存储需求。  \n",
    "3. 操作和用途不同：基本数据类型通常用于存储单一值，而数据结构用于存储和操作多值的集合。"
   ]
  },
  {
   "cell_type": "markdown",
   "metadata": {},
   "source": [
    "常见的数据结构包括：  \n",
    "--**列表（List）**：有序、可变的元素集合，例如，[1, 2, 3]  \n",
    "--**元组（Tuple）**：有序、不可变的元素集合，例如，(1, 2, 3)  \n",
    "--**集合（Set）**：无序、元素唯一的集合，例如，{1, 2, 3}  \n",
    "--**字典（Dictionary）**：键值对的集合，例如，{\"name\": \"Alice\", \"age\": 25}"
   ]
  },
  {
   "cell_type": "markdown",
   "metadata": {},
   "source": [
    "---"
   ]
  },
  {
   "cell_type": "markdown",
   "metadata": {},
   "source": [
    "#### 二. 列表，元组，集合，字典"
   ]
  },
  {
   "cell_type": "markdown",
   "metadata": {},
   "source": [
    "##### --列表：有序、可变的元素集合\n",
    "\n",
    "列表的基本语法:  \n",
    "my_list = [element1, element2, element3]\n",
    "\n",
    "\n"
   ]
  },
  {
   "cell_type": "code",
   "execution_count": 5,
   "metadata": {},
   "outputs": [
    {
     "name": "stdout",
     "output_type": "stream",
     "text": [
      "['Jesse', 'Andrew']\n",
      "Jesse\n",
      "Andrew\n",
      "['Jesse', 'Andrew', 'Jason']\n",
      "['Jesse', 'Andrew']\n",
      "['Jesse', 'Jason']\n"
     ]
    }
   ],
   "source": [
    "# 创建列表\n",
    "students = [\"Jesse\", \"Andrew\"]\n",
    "print(students)\n",
    "\n",
    "# 访问列表元素\n",
    "print(students[0])\n",
    "print(students[1])\n",
    "\n",
    "# 添加列表元素\n",
    "students.append(\"Jason\")\n",
    "print(students)\n",
    "\n",
    "# 删除列表元素\n",
    "students.remove(\"Jason\")\n",
    "print(students)\n",
    "\n",
    "# 修改列表元素\n",
    "students[1] = \"Jason\"\n",
    "print(students)"
   ]
  },
  {
   "cell_type": "markdown",
   "metadata": {},
   "source": [
    "##### --元组：有序、不可变的元素集合  \n",
    "\n",
    "元组的基本语法：  \n",
    "my_tuple = (element1, element2, element3)\n"
   ]
  },
  {
   "cell_type": "code",
   "execution_count": 10,
   "metadata": {},
   "outputs": [
    {
     "name": "stdout",
     "output_type": "stream",
     "text": [
      "('Jesse', 'Andrew')\n",
      "Jesse\n",
      "Andrew\n",
      "Jesse\n",
      "Andrew\n",
      "2\n"
     ]
    }
   ],
   "source": [
    "# 创建元组\n",
    "students = (\"Jesse\", \"Andrew\")\n",
    "print(students)\n",
    "\n",
    "# 访问元组元素\n",
    "print(students[0])\n",
    "print(students[1])\n",
    "\n",
    "# 不可以改变元组元素！\n",
    "# 遍历元组元素\n",
    "for student in students:\n",
    "    print(student)\n",
    "\n",
    "# 获取元组长度\n",
    "print(len(students))\n"
   ]
  },
  {
   "cell_type": "markdown",
   "metadata": {},
   "source": [
    "##### --集合：无序、元素唯一的集合  \n",
    "集合的基本语法：  \n",
    "my_set = {element1, element2, element3}\n"
   ]
  },
  {
   "cell_type": "code",
   "execution_count": 15,
   "metadata": {},
   "outputs": [
    {
     "name": "stdout",
     "output_type": "stream",
     "text": [
      "{'Andrew', 'Jesse'}\n",
      "{'Andrew', 'Jason', 'Jesse'}\n",
      "{'Andrew', 'Jesse'}\n"
     ]
    }
   ],
   "source": [
    "# 创建集合\n",
    "students = {\"Jesse\", \"Andrew\"}\n",
    "print(students)\n",
    "\n",
    "# 添加集合元素\n",
    "students.add(\"Jason\")\n",
    "print(students)\n",
    "\n",
    "# 删除集合元素\n",
    "students.remove(\"Jason\")\n",
    "print(students)\n",
    "\n",
    "# 不能修改集合元素！\n",
    "# 不能访问某一位置的集合元素！\n"
   ]
  },
  {
   "cell_type": "markdown",
   "metadata": {},
   "source": [
    "##### --字典：键值对的集合  \n",
    "字典的基本语法：  \n",
    "my_dict = {key1: value1, key2: value2, key3: value3}\n",
    "\n"
   ]
  },
  {
   "cell_type": "code",
   "execution_count": 22,
   "metadata": {},
   "outputs": [
    {
     "name": "stdout",
     "output_type": "stream",
     "text": [
      "{'Jesse': 13, 'Andrew': 14}\n",
      "13\n",
      "14\n",
      "{'Jesse': 13, 'Andrew': 14, 'Jason': 15}\n",
      "{'Jesse': 13.5, 'Andrew': 14, 'Jason': 15}\n",
      "{'Jesse': 13.5, 'Andrew': 14}\n",
      "dict_keys(['Jesse', 'Andrew'])\n",
      "dict_values([13.5, 14])\n",
      "dict_items([('Jesse', 13.5), ('Andrew', 14)])\n"
     ]
    }
   ],
   "source": [
    "# 创建字典\n",
    "students = {\"Jesse\": 13, \"Andrew\": 14}\n",
    "print(students)\n",
    "\n",
    "# 访问字典元素\n",
    "print(students[\"Jesse\"])\n",
    "print(students[\"Andrew\"])\n",
    "\n",
    "# 添加或修改键值\n",
    "students[\"Jason\"] = 15\n",
    "print(students)\n",
    "students[\"Jesse\"] = 13.5\n",
    "print(students)\n",
    "\n",
    "# 删除键值\n",
    "del students[\"Jason\"]\n",
    "print(students)\n",
    "\n",
    "# 获取所有键，值，键值对\n",
    "print(students.keys())\n",
    "print(students.values())\n",
    "print(students.items())\n"
   ]
  },
  {
   "cell_type": "markdown",
   "metadata": {},
   "source": [
    "---"
   ]
  },
  {
   "cell_type": "markdown",
   "metadata": {},
   "source": [
    "#### 三. 数据结构的总结和对比\n",
    "\n",
    "##### --列表 (List)  \n",
    "\n",
    "特点：  \n",
    " 1. 有序：列表中的元素按添加顺序排列。\n",
    " 2. 可变：可以随时修改列表中的元素。\n",
    " 3. 重复：列表中可以包含重复的元素。\n",
    " 4. 索引访问：可以通过索引访问任意位置的元素。 \n",
    "    \n",
    "应用方向：  \n",
    " 1. 存储有序的数据集合：适合存储需要保持顺序的数据，例如学生名单、任务列表。  \n",
    " 2. 动态数组：当需要频繁添加、删除、修改元素时，列表非常方便。"
   ]
  },
  {
   "cell_type": "markdown",
   "metadata": {},
   "source": [
    "##### --元组 (Tuple)  \n",
    "\n",
    "特点：  \n",
    "1. 有序：元组中的元素按添加顺序排列。  \n",
    "2. 不可变：一旦创建，元组中的元素不能修改。  \n",
    "3. 重复：元组中可以包含重复的元素。  \n",
    "4. 索引访问：可以通过索引访问任意位置的元素。  \n",
    "\n",
    "应用方向：  \n",
    "1. 存储固定的数据集合：适合存储不需要修改的数据，例如坐标、配置信息。  \n",
    "2. 函数返回值：常用于函数返回多个值。"
   ]
  },
  {
   "cell_type": "markdown",
   "metadata": {},
   "source": [
    "##### --集合 (Set)  \n",
    "\n",
    "特点：  \n",
    "1. 无序：集合中的元素没有特定的顺序。  \n",
    "2. 唯一：集合中的元素不能重复。  \n",
    "3. 可变：可以随时添加或删除元素。  \n",
    "4. 无索引：不能通过索引访问元素。  \n",
    "\n",
    "应用方向： \n",
    "1. 去重：适合用于存储唯一的元素集合，例如用户ID、标签集合。  \n",
    "2. 集合操作：支持集合的数学运算，如交集、并集、差集等。"
   ]
  },
  {
   "cell_type": "markdown",
   "metadata": {},
   "source": [
    "##### --字典 (Dictionary)  \n",
    "\n",
    "特点:  \n",
    "1. 无序：字典中的键值对没有特定的顺序（在Python 3.7及以后版本中，字典保持插入顺序）。  \n",
    "2. 键唯一：字典中的键不能重复。  \n",
    "3. 可变：可以随时修改、添加或删除键值对。  \n",
    "4. 键值对：通过键来访问对应的值。  \n",
    "\n",
    "应用方向:  \n",
    "1. 键值映射：适合用于存储具有映射关系的数据，例如用户信息、配置选项。  \n",
    "2. 快速查找：通过键快速查找对应的值。"
   ]
  },
  {
   "cell_type": "markdown",
   "metadata": {},
   "source": [
    "---"
   ]
  },
  {
   "cell_type": "markdown",
   "metadata": {},
   "source": [
    "\n",
    "**作者**: Yming  \n",
    "**邮箱**: yuemingn@student.unimelb.edu.au  \n",
    "**版权声明**: 本代码仅用于个人学习目的，未经许可，不得用于商业用途。"
   ]
  }
 ],
 "metadata": {
  "kernelspec": {
   "display_name": "Python 3 (ipykernel)",
   "language": "python",
   "name": "python3"
  },
  "language_info": {
   "codemirror_mode": {
    "name": "ipython",
    "version": 3
   },
   "file_extension": ".py",
   "mimetype": "text/x-python",
   "name": "python",
   "nbconvert_exporter": "python",
   "pygments_lexer": "ipython3",
   "version": "3.12.2"
  }
 },
 "nbformat": 4,
 "nbformat_minor": 2
}
