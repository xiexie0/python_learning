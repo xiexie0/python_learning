{
 "cells": [
  {
   "cell_type": "code",
   "execution_count": 33,
   "metadata": {
    "id": "_ObdlnKLEK3C"
   },
   "outputs": [],
   "source": [
    "import torch\n",
    "from torch import nn\n",
    "from torch import optim\n",
    "from torchvision import datasets, transforms\n",
    "from torch.utils.data import random_split, DataLoader"
   ]
  },
  {
   "cell_type": "code",
   "execution_count": 34,
   "metadata": {
    "id": "JjOIAR0_n7m-"
   },
   "outputs": [],
   "source": [
    "# datasets: train and validation\n",
    "train_data = datasets.MNIST('data', train = True, download = True, transform = transforms.ToTensor())\n",
    "train, val = random_split(train_data, [55000, 5000]) #splits into training and validation datasets\n",
    "train_loader = DataLoader(train, batch_size = 32)\n",
    "val_loader = DataLoader(val, batch_size = 32)"
   ]
  },
  {
   "cell_type": "code",
   "execution_count": 35,
   "metadata": {
    "id": "Ih2ip0ZUEeMW"
   },
   "outputs": [],
   "source": [
    "# model\n",
    "model = nn.Sequential(\n",
    "    nn.Linear(28*28, 64),\n",
    "    nn.ReLU(),\n",
    "    nn.Linear(64,64),\n",
    "    nn.ReLU(),\n",
    "    nn.Dropout(0.1), #if overfitting\n",
    "    nn.Linear(64,10)\n",
    ")"
   ]
  },
  {
   "cell_type": "code",
   "execution_count": 36,
   "metadata": {
    "id": "i7vCSwmnVe7P"
   },
   "outputs": [],
   "source": [
    "# more flexible model with residual\n",
    "class ResNet(nn.Module):\n",
    "  def __init__(self):\n",
    "    super().__init__()\n",
    "    self.l1 = nn.Linear(28*28,64)\n",
    "    self.l2 = nn.Linear(64,64)\n",
    "    self.l3 = nn.Linear(64,10)\n",
    "    self.do = nn.Dropout(0.1)\n",
    "  \n",
    "  def forward(self, x):\n",
    "    h1 = nn.functional.relu(self.l1(x))\n",
    "    h2 = nn.functional.relu(self.l2(h1))\n",
    "    do = self.do(h2+h1)\n",
    "    logits = self.l3(do)\n",
    "    return logits\n",
    "\n",
    "model = ResNet().cuda()"
   ]
  },
  {
   "cell_type": "code",
   "execution_count": 37,
   "metadata": {
    "id": "xNX_J7CVFKiF"
   },
   "outputs": [],
   "source": [
    "# optimizer\n",
    "params = model.parameters()\n",
    "optimizer = optim.SGD(params, lr = 1e-2)"
   ]
  },
  {
   "cell_type": "code",
   "execution_count": 38,
   "metadata": {
    "id": "8CpK4XsoFWOf"
   },
   "outputs": [],
   "source": [
    "# loss\n",
    "loss_func = nn.CrossEntropyLoss()  "
   ]
  },
  {
   "cell_type": "code",
   "execution_count": 39,
   "metadata": {
    "colab": {
     "base_uri": "https://localhost:8080/"
    },
    "id": "g0Fxmfe2Fgd8",
    "outputId": "b765d909-5005-4695-aec1-e3afb9a293f4"
   },
   "outputs": [
    {
     "name": "stdout",
     "output_type": "stream",
     "text": [
      "Epoch 1,training loss: 0.84,training accuracy: 0.78\n",
      "Epoch 1,validation loss: 0.38,validation accuracy: 0.90\n",
      "Epoch 2,training loss: 0.38,training accuracy: 0.89\n",
      "Epoch 2,validation loss: 0.30,validation accuracy: 0.91\n",
      "Epoch 3,training loss: 0.31,training accuracy: 0.91\n",
      "Epoch 3,validation loss: 0.26,validation accuracy: 0.92\n",
      "Epoch 4,training loss: 0.27,training accuracy: 0.92\n",
      "Epoch 4,validation loss: 0.23,validation accuracy: 0.93\n",
      "Epoch 5,training loss: 0.24,training accuracy: 0.93\n",
      "Epoch 5,validation loss: 0.21,validation accuracy: 0.94\n"
     ]
    }
   ],
   "source": [
    "# training and validation loops\n",
    "n_epochs = 5\n",
    "for epoch in range(n_epochs):\n",
    "  losses = list()\n",
    "  accuracies = list()\n",
    "  model.train()\n",
    "  for batch in train_loader:\n",
    "    x, y = batch #image and the label\n",
    "    \n",
    "    # reshaping x: b x 1 x 28 x 28\n",
    "    b = x.size(0) #number of rows\n",
    "    x = x.view(b, -1).cuda() \n",
    "\n",
    "    #forward\n",
    "    pred = model(x) #l:prediction\n",
    "\n",
    "    # compute the objective function\n",
    "    loss = loss_func(pred, y.cuda())\n",
    "\n",
    "    # cleaning the gradients\n",
    "    model.zero_grad()\n",
    "    # optimizer.zero_grad()\n",
    "    # params.grad._zero()\n",
    "\n",
    "    # accumulate the partical derivatives of J\n",
    "    loss.backward()\n",
    "    # params.grad._sum(dJ/dparams)\n",
    "\n",
    "    # step in the opposite direction of the gradient\n",
    "    optimizer.step()\n",
    "    # with torch.no_grad(): params = params-lr*params.grad\n",
    "\n",
    "    losses.append(loss.item())\n",
    "    accuracies.append(y.eq(pred.detach().argmax(dim=1).cpu()).float().mean())\n",
    "\n",
    "  print(f'Epoch {epoch +1}', end= ',')\n",
    "  print(f'training loss: {torch.tensor(losses).mean():.2f}', end=',')\n",
    "  print(f'training accuracy: {torch.tensor(accuracies).mean():.2f}')\n",
    "  # print(f'Epoch {epoch +1}, train loss: {torch.tensor(losses).mean():.2f}')\n",
    "    \n",
    "  losses = list()\n",
    "  accuracies = list()\n",
    "  model.eval()\n",
    "\n",
    "  for batch in val_loader:\n",
    "    x, y = batch #image and the label\n",
    "    \n",
    "    # reshaping x: b x 1 x 28 x 28\n",
    "    b = x.size(0) #number of rows\n",
    "    x = x.view(b, -1).cuda() \n",
    "\n",
    "    #forward\n",
    "    with torch.no_grad():\n",
    "      pred = model(x) #l:prediction\n",
    "\n",
    "\n",
    "    # compute the objective function\n",
    "    loss = loss_func(pred, y.cuda())\n",
    "\n",
    "    losses.append(loss.item())\n",
    "    accuracies.append(y.eq(pred.detach().argmax(dim=1).cpu()).float().mean())\n",
    "  \n",
    "  # print(f'Epoch {epoch +1}, validation loss: {torch.tensor(losses).mean():.2f}')\n",
    "  print(f'Epoch {epoch +1}', end= ',')\n",
    "  print(f'validation loss: {torch.tensor(losses).mean():.2f}', end=',')\n",
    "  print(f'validation accuracy: {torch.tensor(accuracies).mean():.2f}')"
   ]
  }
 ],
 "metadata": {
  "accelerator": "GPU",
  "colab": {
   "collapsed_sections": [],
   "name": "mnist_classifier_mys.ipynb",
   "provenance": []
  },
  "kernelspec": {
   "display_name": "Python 3 (ipykernel)",
   "language": "python",
   "name": "python3"
  },
  "language_info": {
   "codemirror_mode": {
    "name": "ipython",
    "version": 3
   },
   "file_extension": ".py",
   "mimetype": "text/x-python",
   "name": "python",
   "nbconvert_exporter": "python",
   "pygments_lexer": "ipython3",
   "version": "3.9.7"
  }
 },
 "nbformat": 4,
 "nbformat_minor": 1
}
