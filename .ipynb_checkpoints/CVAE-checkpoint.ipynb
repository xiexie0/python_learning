{
 "cells": [
  {
   "cell_type": "code",
   "execution_count": 3,
   "metadata": {},
   "outputs": [
    {
     "ename": "ModuleNotFoundError",
     "evalue": "No module named 'torch'",
     "output_type": "error",
     "traceback": [
      "\u001b[0;31m---------------------------------------------------------------------------\u001b[0m",
      "\u001b[0;31mModuleNotFoundError\u001b[0m                       Traceback (most recent call last)",
      "\u001b[0;32m<ipython-input-3-022c001b3632>\u001b[0m in \u001b[0;36m<module>\u001b[0;34m\u001b[0m\n\u001b[1;32m      1\u001b[0m \u001b[0;32mimport\u001b[0m \u001b[0mmatplotlib\u001b[0m\u001b[0;34m.\u001b[0m\u001b[0mpyplot\u001b[0m \u001b[0;32mas\u001b[0m \u001b[0mplt\u001b[0m\u001b[0;34m\u001b[0m\u001b[0;34m\u001b[0m\u001b[0m\n\u001b[0;32m----> 2\u001b[0;31m \u001b[0;32mimport\u001b[0m \u001b[0mtorch\u001b[0m\u001b[0;34m\u001b[0m\u001b[0;34m\u001b[0m\u001b[0m\n\u001b[0m\u001b[1;32m      3\u001b[0m \u001b[0;32mimport\u001b[0m \u001b[0mtorch\u001b[0m\u001b[0;34m.\u001b[0m\u001b[0mnn\u001b[0m \u001b[0;32mas\u001b[0m \u001b[0mnn\u001b[0m\u001b[0;34m\u001b[0m\u001b[0;34m\u001b[0m\u001b[0m\n\u001b[1;32m      4\u001b[0m \u001b[0;32mimport\u001b[0m \u001b[0mtorch\u001b[0m\u001b[0;34m.\u001b[0m\u001b[0moptim\u001b[0m \u001b[0;32mas\u001b[0m \u001b[0moptim\u001b[0m\u001b[0;34m\u001b[0m\u001b[0;34m\u001b[0m\u001b[0m\n\u001b[1;32m      5\u001b[0m \u001b[0;32mimport\u001b[0m \u001b[0mtorchvision\u001b[0m\u001b[0;34m.\u001b[0m\u001b[0mdatasets\u001b[0m \u001b[0;32mas\u001b[0m \u001b[0mdatasets\u001b[0m\u001b[0;34m\u001b[0m\u001b[0;34m\u001b[0m\u001b[0m\n",
      "\u001b[0;31mModuleNotFoundError\u001b[0m: No module named 'torch'"
     ]
    }
   ],
   "source": [
    "import matplotlib.pyplot as plt\n",
    "import numpy as np\n",
    "import torch\n",
    "import torch.nn as nn\n",
    "import torch.optim as optim\n",
    "import torchvision.datasets as datasets\n",
    "import torchvision.transforms as transforms\n",
    "from torch.utils.data import DataLoader\n",
    "from torchvision.utils import save_image\n",
    "\n",
    "\n"
   ]
  },
  {
   "cell_type": "markdown",
   "metadata": {},
   "source": [
    "Define parameters. Similar to CNN that we explored before. "
   ]
  },
  {
   "cell_type": "code",
   "execution_count": null,
   "metadata": {},
   "outputs": [],
   "source": [
    "# Device configuration\n",
    "device = torch.device('cuda' if torch.cuda.is_available() else 'cpu')\n",
    "\n",
    "# Hyperparameters\n",
    "latent_dim = 20\n",
    "hidden_dim = 16\n",
    "batch_size = 128\n",
    "epochs = 20\n",
    "learning_rate = 1e-3\n",
    "\n",
    "# MNIST dataset\n",
    "transform = transforms.Compose([\n",
    "    transforms.ToTensor(),\n",
    "    transforms.Normalize((0.5,), (0.5,))\n",
    "])\n",
    "\n",
    "train_dataset = datasets.MNIST(root='./data', train=True, transform=transform, download=True)\n",
    "train_loader = DataLoader(dataset=train_dataset, batch_size=batch_size, shuffle=True)"
   ]
  },
  {
   "cell_type": "code",
   "execution_count": null,
   "metadata": {},
   "outputs": [],
   "source": [
    "# CVAE model\n",
    "class CVAE(nn.Module):\n",
    "    def __init__(self, latent_dim, hidden_dim):\n",
    "        super(CVAE, self).__init__()\n",
    "\n",
    "        # Encoder\n",
    "        self.encoder = nn.Sequential(\n",
    "            nn.Conv2d(1, hidden_dim, kernel_size=3, stride=1, padding=1),\n",
    "            nn.ReLU(),\n",
    "            nn.MaxPool2d(kernel_size=2, stride=2),\n",
    "            nn.Conv2d(hidden_dim, hidden_dim, kernel_size=3, stride=1, padding=1),\n",
    "            nn.ReLU(),\n",
    "            nn.MaxPool2d(kernel_size=2, stride=2),\n",
    "            nn.Flatten()\n",
    "        )\n",
    "\n",
    "        self.fc_mu = nn.Linear(hidden_dim * 7 * 7, latent_dim)\n",
    "        self.fc_logvar = nn.Linear(hidden_dim * 7 * 7, latent_dim)\n",
    "\n",
    "        # Decoder\n",
    "        self.decoder = nn.Sequential(\n",
    "            nn.Linear(latent_dim, hidden_dim * 7 * 7),\n",
    "            nn.ReLU(),\n",
    "            nn.Unflatten(1, (hidden_dim, 7, 7)),\n",
    "            nn.ConvTranspose2d(hidden_dim, hidden_dim, kernel_size=3, stride=2, padding=1, output_padding=1),\n",
    "            nn.ReLU(),\n",
    "            nn.ConvTranspose2d(hidden_dim, 1, kernel_size=3, stride=2, padding=1, output_padding=1),\n",
    "            nn.Sigmoid()\n",
    "        )\n",
    "\n",
    "    def reparameterize(self, mu, log_var):\n",
    "        std = torch.exp(0.5 * log_var)\n",
    "        eps = torch.randn_like(std)\n",
    "        return mu + eps * std\n",
    "\n",
    "    def forward(self, x):\n",
    "        x = self.encoder(x)\n",
    "        mu = self.fc_mu(x)\n",
    "        log_var = self.fc_logvar(x)\n",
    "        z = self.reparameterize(mu, log_var)\n",
    "        reconstructed = self.decoder(z)\n",
    "        return reconstructed, mu, log_var\n",
    "\n",
    "model = CVAE(latent_dim, hidden_dim).to(device)\n",
    "\n",
    "# Loss function\n",
    "def loss_fn(reconstructed, x, mu, log_var):\n",
    "    reconstruction_loss = nn.BCELoss(reduction='sum')(reconstructed, x)\n",
    "    kl_divergence = -0.5 * torch.sum(1 + log_var - mu.pow(2) - log_var.exp())\n",
    "    return reconstruction_loss + kl_divergence\n",
    "\n",
    "# Optimizer\n",
    "optimizer = optim.Adam(model.parameters(), lr=learning_rate)"
   ]
  },
  {
   "cell_type": "code",
   "execution_count": 1,
   "metadata": {},
   "outputs": [
    {
     "name": "stdout",
     "output_type": "stream",
     "text": [
      "Epoch [1/20], Step [100/469], Loss: -3431116.2500\n",
      "Epoch [1/20], Step [200/469], Loss: -3407157.5000\n",
      "Epoch [1/20], Step [300/469], Loss: -3378056.2500\n",
      "Epoch [1/20], Step [400/469], Loss: -3449300.7500\n",
      "Epoch [2/20], Step [100/469], Loss: -3421046.0000\n",
      "Epoch [2/20], Step [200/469], Loss: -3371421.7500\n",
      "Epoch [2/20], Step [300/469], Loss: -3501955.0000\n",
      "Epoch [2/20], Step [400/469], Loss: -3556976.0000\n",
      "Epoch [3/20], Step [100/469], Loss: -3511111.0000\n",
      "Epoch [3/20], Step [200/469], Loss: -4136954.5000\n",
      "Epoch [3/20], Step [300/469], Loss: -3881751.7500\n",
      "Epoch [3/20], Step [400/469], Loss: -4268615.5000\n",
      "Epoch [4/20], Step [100/469], Loss: -5230705.0000\n",
      "Epoch [4/20], Step [200/469], Loss: -5977470.5000\n",
      "Epoch [4/20], Step [300/469], Loss: -6057869.0000\n",
      "Epoch [4/20], Step [400/469], Loss: -6353562.0000\n",
      "Epoch [5/20], Step [100/469], Loss: -6594374.0000\n",
      "Epoch [5/20], Step [200/469], Loss: -6724852.0000\n",
      "Epoch [5/20], Step [300/469], Loss: -6960642.0000\n",
      "Epoch [5/20], Step [400/469], Loss: -7106445.5000\n",
      "Epoch [6/20], Step [100/469], Loss: -7044880.0000\n",
      "Epoch [6/20], Step [200/469], Loss: -7154960.5000\n",
      "Epoch [6/20], Step [300/469], Loss: -7183384.0000\n",
      "Epoch [6/20], Step [400/469], Loss: -7230717.5000\n",
      "Epoch [7/20], Step [100/469], Loss: -7391333.0000\n",
      "Epoch [7/20], Step [200/469], Loss: -7417831.0000\n",
      "Epoch [7/20], Step [300/469], Loss: -7342011.0000\n",
      "Epoch [7/20], Step [400/469], Loss: -7509833.5000\n",
      "Epoch [8/20], Step [100/469], Loss: -7517286.0000\n",
      "Epoch [8/20], Step [200/469], Loss: -7423978.0000\n",
      "Epoch [8/20], Step [300/469], Loss: -7523986.5000\n",
      "Epoch [8/20], Step [400/469], Loss: -7581343.5000\n",
      "Epoch [9/20], Step [100/469], Loss: -7430019.5000\n",
      "Epoch [9/20], Step [200/469], Loss: -7641292.5000\n",
      "Epoch [9/20], Step [300/469], Loss: -7622158.0000\n",
      "Epoch [9/20], Step [400/469], Loss: -7664203.5000\n",
      "Epoch [10/20], Step [100/469], Loss: -7564817.0000\n",
      "Epoch [10/20], Step [200/469], Loss: -7615391.5000\n",
      "Epoch [10/20], Step [300/469], Loss: -7707286.5000\n",
      "Epoch [10/20], Step [400/469], Loss: -7634485.0000\n",
      "Epoch [11/20], Step [100/469], Loss: -7773602.0000\n",
      "Epoch [11/20], Step [200/469], Loss: -7740687.5000\n",
      "Epoch [11/20], Step [300/469], Loss: -7741467.0000\n",
      "Epoch [11/20], Step [400/469], Loss: -7730466.0000\n",
      "Epoch [12/20], Step [100/469], Loss: -7789125.0000\n",
      "Epoch [12/20], Step [200/469], Loss: -7802400.5000\n",
      "Epoch [12/20], Step [300/469], Loss: -7713895.5000\n",
      "Epoch [12/20], Step [400/469], Loss: -7742695.0000\n",
      "Epoch [13/20], Step [100/469], Loss: -7709924.5000\n",
      "Epoch [13/20], Step [200/469], Loss: -7764132.0000\n",
      "Epoch [13/20], Step [300/469], Loss: -7710883.0000\n",
      "Epoch [13/20], Step [400/469], Loss: -7742933.5000\n",
      "Epoch [14/20], Step [100/469], Loss: -7822888.0000\n",
      "Epoch [14/20], Step [200/469], Loss: -7719430.0000\n",
      "Epoch [14/20], Step [300/469], Loss: -7859237.5000\n",
      "Epoch [14/20], Step [400/469], Loss: -7851749.0000\n",
      "Epoch [15/20], Step [100/469], Loss: -7866776.5000\n",
      "Epoch [15/20], Step [200/469], Loss: -7795491.0000\n",
      "Epoch [15/20], Step [300/469], Loss: -7816014.0000\n",
      "Epoch [15/20], Step [400/469], Loss: -7849298.0000\n",
      "Epoch [16/20], Step [100/469], Loss: -7918854.0000\n",
      "Epoch [16/20], Step [200/469], Loss: -7848236.0000\n",
      "Epoch [16/20], Step [300/469], Loss: -7867410.5000\n",
      "Epoch [16/20], Step [400/469], Loss: -7936767.5000\n",
      "Epoch [17/20], Step [100/469], Loss: -7846077.5000\n",
      "Epoch [17/20], Step [200/469], Loss: -7935519.0000\n",
      "Epoch [17/20], Step [300/469], Loss: -7841097.0000\n",
      "Epoch [17/20], Step [400/469], Loss: -7907346.5000\n",
      "Epoch [18/20], Step [100/469], Loss: -7927087.5000\n",
      "Epoch [18/20], Step [200/469], Loss: -8006374.0000\n",
      "Epoch [18/20], Step [300/469], Loss: -7918510.5000\n",
      "Epoch [18/20], Step [400/469], Loss: -7922381.0000\n",
      "Epoch [19/20], Step [100/469], Loss: -7884493.0000\n",
      "Epoch [19/20], Step [200/469], Loss: -7955998.5000\n",
      "Epoch [19/20], Step [300/469], Loss: -7960664.0000\n",
      "Epoch [19/20], Step [400/469], Loss: -7924830.0000\n",
      "Epoch [20/20], Step [100/469], Loss: -7885964.5000\n",
      "Epoch [20/20], Step [200/469], Loss: -7968768.0000\n",
      "Epoch [20/20], Step [300/469], Loss: -7981428.0000\n",
      "Epoch [20/20], Step [400/469], Loss: -7906840.5000\n"
     ]
    }
   ],
   "source": [
    "# Training\n",
    "total_steps = len(train_loader)\n",
    "for epoch in range(epochs):\n",
    "    for i, (images, _) in enumerate(train_loader):\n",
    "        images = images.to(device)\n",
    "        \n",
    "        # Forward pass\n",
    "        reconstructed, mu, log_var = model(images)\n",
    "        loss = loss_fn(reconstructed, images, mu, log_var)\n",
    "\n",
    "        # Backward and optimize\n",
    "        optimizer.zero_grad()\n",
    "        loss.backward()\n",
    "        optimizer.step()\n",
    "\n",
    "        if (i+1) % 100 == 0:\n",
    "            print(f'Epoch [{epoch+1}/{epochs}], Step [{i+1}/{total_steps}], Loss: {loss.item():.4f}')\n",
    "\n",
    "# Generate and save sample images\n",
    "with torch.no_grad():\n",
    "    # Generate random latent vectors\n",
    "    z = torch.randn(batch_size, latent_dim).to(device)\n",
    "    generated = model.decoder(z).cpu()\n",
    "    save_image(generated.view(generated.size(0), 1, 28, 28), 'generated_samples.png')\n",
    "\n",
    "# Save the trained model\n",
    "torch.save(model.state_dict(), 'cvae_model.pth')"
   ]
  },
  {
   "cell_type": "code",
   "execution_count": 5,
   "metadata": {},
   "outputs": [
    {
     "data": {
      "text/plain": [
       "<All keys matched successfully>"
      ]
     },
     "execution_count": 5,
     "metadata": {},
     "output_type": "execute_result"
    }
   ],
   "source": [
    "# Create a new instance of the model\n",
    "model = CVAE(latent_dim, hidden_dim).to(device)\n",
    "\n",
    "# Load the saved model's state dict\n",
    "model.load_state_dict(torch.load('cvae_model.pth'))"
   ]
  },
  {
   "cell_type": "code",
   "execution_count": 8,
   "metadata": {},
   "outputs": [
    {
     "data": {
      "image/png": "[encoded data removed]",
      "text/plain": [
       "<Figure size 1152x288 with 16 Axes>"
      ]
     },
     "metadata": {
      "needs_background": "light"
     },
     "output_type": "display_data"
    }
   ],
   "source": [
    "# Set device\n",
    "device = torch.device(\"cuda\" if torch.cuda.is_available() else \"cpu\")\n",
    "\n",
    "# Load the trained model\n",
    "model = CVAE(latent_dim, hidden_dim).to(device)\n",
    "model.load_state_dict(torch.load('cvae_model.pth'))\n",
    "model.eval()\n",
    "\n",
    "# Get a batch of test data\n",
    "test_dataset = datasets.MNIST(root='./data', train=False, download=True, transform=transform) # Test dataset\n",
    "test_loader = torch.utils.data.DataLoader(test_dataset, batch_size=8, shuffle=True)\n",
    "test_batch, _ = next(iter(test_loader))\n",
    "test_batch = test_batch.to(device)\n",
    "\n",
    "# Generate predictions using the trained model\n",
    "with torch.no_grad():\n",
    "    reconstructed_batch, _, _ = model(test_batch)\n",
    "\n",
    "# Convert tensors to numpy arrays\n",
    "original_images = test_batch.cpu().numpy()\n",
    "reconstructed_images = reconstructed_batch.cpu().numpy()\n",
    "\n",
    "# Plot the original and reconstructed images side by side\n",
    "fig, axes = plt.subplots(nrows=2, ncols=8, figsize=(16, 4))\n",
    "\n",
    "for i in range(8):\n",
    "    # Original image\n",
    "    axes[0, i].imshow(original_images[i].squeeze(), cmap='gray')\n",
    "    axes[0, i].axis('off')\n",
    "    axes[0, i].set_title('Original')\n",
    "\n",
    "    # Reconstructed image\n",
    "    axes[1, i].imshow(reconstructed_images[i].squeeze(), cmap='gray')\n",
    "    axes[1, i].axis('off')\n",
    "    axes[1, i].set_title('Reconstructed')\n",
    "\n",
    "plt.tight_layout()\n",
    "plt.show()\n"
   ]
  },
  {
   "cell_type": "markdown",
   "metadata": {},
   "source": [
    "Output is similar to input. So what's the purpose? <br>\n",
    "The decompressed outputs even seems to be degraded compared to the original inputs. So why bother? \n",
    "\n",
    "There are two reasons. <br>\n",
    "(1) Dimensionality reduction: the latent space representation of the data is typically smaller than original one.  \n",
    "(2) Data denoising: see the following example. "
   ]
  },
  {
   "cell_type": "code",
   "execution_count": 15,
   "metadata": {},
   "outputs": [
    {
     "data": {
      "image/png": "[encoded data removed]",
      "text/plain": [
       "<Figure size 1152x288 with 16 Axes>"
      ]
     },
     "metadata": {
      "needs_background": "light"
     },
     "output_type": "display_data"
    }
   ],
   "source": [
    "# Set device\n",
    "device = torch.device(\"cuda\" if torch.cuda.is_available() else \"cpu\")\n",
    "\n",
    "# Load the trained model\n",
    "model = CVAE(latent_dim, hidden_dim).to(device)\n",
    "model.load_state_dict(torch.load('cvae_model.pth'))\n",
    "model.eval()\n",
    "\n",
    "# Get a batch of test data\n",
    "test_loader = torch.utils.data.DataLoader(test_dataset, batch_size=8, shuffle=True)\n",
    "test_batch, _ = next(iter(test_loader))\n",
    "test_batch = test_batch.to(device)\n",
    "\n",
    "# Define the standard deviation of the Gaussian noise\n",
    "noise_stddev = 0.4\n",
    "\n",
    "# Add Gaussian noise to the test data\n",
    "noise = torch.randn_like(test_batch) * noise_stddev\n",
    "noisy_test_batch = test_batch + noise\n",
    "\n",
    "# Generate reconstructions from the noisy test data\n",
    "with torch.no_grad():\n",
    "    reconstructed_batch, _, _ = model(noisy_test_batch)\n",
    "\n",
    "# Convert tensors to numpy arrays\n",
    "noisy_images = noisy_test_batch.cpu().numpy()\n",
    "reconstructed_images = reconstructed_batch.cpu().numpy()\n",
    "\n",
    "# Plot the noisy and reconstructed images side by side\n",
    "fig, axes = plt.subplots(nrows=2, ncols=8, figsize=(16, 4))\n",
    "\n",
    "for i in range(8):\n",
    "    # Noisy image\n",
    "    axes[0, i].imshow(noisy_images[i].squeeze(), cmap='gray')\n",
    "    axes[0, i].axis('off')\n",
    "    axes[0, i].set_title('Noisy')\n",
    "\n",
    "    # Reconstructed image\n",
    "    axes[1, i].imshow(reconstructed_images[i].squeeze(), cmap='gray')\n",
    "    axes[1, i].axis('off')\n",
    "    axes[1, i].set_title('Reconstructed')\n",
    "\n",
    "plt.tight_layout()\n",
    "plt.show()\n"
   ]
  },
  {
   "cell_type": "markdown",
   "metadata": {},
   "source": [
    "Homework for you: <br>\n",
    "(1) Train the autoencoder on your own devices with MNIST data, and try to input other images that are <br>\n",
    "a) two digit numbers<br>\n",
    "b) not numbers (i.e. English letter, Greek letter, Kanji, your own handwriting, etc.)<br>\n",
    "Note the input images will have to be black and white. If you encounter problems, try asking ChatGPT to explain the problems to you. Of course, your lecturers and TAs will be happy to help as well. \n",
    "\n",
    "(2) Research about the strength and weakness of CNN. Find the intuitions of convolutional kernels and motivations of using convolutional kernels. Again, use ChatGPT, your lecturers, and TAs when neccessary. <br>\n",
    "\n",
    "(3) Find other applications of CNN. \n",
    "\n",
    "Please post your solution on Slack or send me your solution to jack7z@bu.edu "
   ]
  }
 ],
 "metadata": {
  "kernelspec": {
   "display_name": "Python 3",
   "language": "python",
   "name": "python3"
  },
  "language_info": {
   "codemirror_mode": {
    "name": "ipython",
    "version": 3
   },
   "file_extension": ".py",
   "mimetype": "text/x-python",
   "name": "python",
   "nbconvert_exporter": "python",
   "pygments_lexer": "ipython3",
   "version": "3.8.5"
  }
 },
 "nbformat": 4,
 "nbformat_minor": 5
}
