{
 "cells": [
  {
   "cell_type": "code",
   "execution_count": 33,
   "id": "eadf2d2f",
   "metadata": {},
   "outputs": [],
   "source": [
    "import torch\n",
    "import torch.nn as nn\n",
    "import torch.optim as optim\n",
    "from torch.utils.data import DataLoader\n",
    "from torchvision import datasets, transforms"
   ]
  },
  {
   "cell_type": "markdown",
   "id": "4461b07f",
   "metadata": {},
   "source": [
    "Defining a CNN model is not that different from defining a vanilla NN model. The major differences are \n",
    "1) Instead of having fully connected layers (nn.Linear), we have convolutional layers (nn.Conv2d) <br>\n",
    "2) We have maxpool layer for regularization"
   ]
  },
  {
   "cell_type": "code",
   "execution_count": 37,
   "id": "3f2ad030",
   "metadata": {},
   "outputs": [],
   "source": [
    "# Define the CNN model\n",
    "class CNN(nn.Module):\n",
    "    def __init__(self):\n",
    "        super(CNN, self).__init__()\n",
    "        self.conv1 = nn.Conv2d(1, 32, kernel_size=3, stride=1, padding=1) # First convolutional layer\n",
    "        self.conv2 = nn.Conv2d(32, 64, kernel_size=3, stride=1, padding=1) # Second convolutional layer\n",
    "        self.relu = nn.ReLU() # ReLU activation function\n",
    "        self.maxpool = nn.MaxPool2d(kernel_size=2) # Max pooling layer\n",
    "        self.fc1 = nn.Linear(7 * 7 * 64, 128) # First fully connected layer\n",
    "        self.fc2 = nn.Linear(128, 10) # Second fully connected layer\n",
    "\n",
    "    def forward(self, x):\n",
    "        x = self.conv1(x) # Apply first convolutional layer\n",
    "        x = self.relu(x) # Apply ReLU activation\n",
    "        x = self.maxpool(x) # Apply max pooling\n",
    "        x = self.conv2(x) # Apply second convolutional layer\n",
    "        x = self.relu(x) # Apply ReLU activation\n",
    "        x = self.maxpool(x) # Apply max pooling\n",
    "        x = x.view(x.size(0), -1) # Flatten the tensor\n",
    "        x = self.fc1(x) # Apply first fully connected layer\n",
    "        x = self.relu(x) # Apply ReLU activation\n",
    "        x = self.fc2(x) # Apply second fully connected layer\n",
    "        return x"
   ]
  },
  {
   "cell_type": "markdown",
   "id": "218bebd9",
   "metadata": {},
   "source": [
    "The following processes are definied exactly the same as last class:\n",
    "1. Data loading (MNIST) <br>\n",
    "2. Model loading (Architecture.to(device)) <br>\n",
    "3. Loss function (Cross-entropy) <br>\n",
    "4. Optimization method (Adam)"
   ]
  },
  {
   "cell_type": "code",
   "execution_count": 35,
   "id": "687141c9",
   "metadata": {},
   "outputs": [],
   "source": [
    "# Set device (GPU if available, otherwise CPU)\n",
    "device = torch.device('cuda' if torch.cuda.is_available() else 'cpu')\n",
    "\n",
    "# Define data transformations\n",
    "transform = transforms.Compose([\n",
    "    transforms.ToTensor(), # Convert image to tensor\n",
    "    transforms.Normalize((0.5,), (0.5,)) # Normalize image pixel values\n",
    "])\n",
    "\n",
    "# Load MNIST dataset\n",
    "train_dataset = datasets.MNIST(root='./data', train=True, download=True, transform=transform) # Training dataset\n",
    "test_dataset = datasets.MNIST(root='./data', train=False, download=True, transform=transform) # Test dataset\n",
    "\n",
    "# Create data loaders\n",
    "train_loader = DataLoader(train_dataset, batch_size=64, shuffle=True) # Training data loader\n",
    "test_loader = DataLoader(test_dataset, batch_size=64, shuffle=False) # Test data loader\n",
    "\n",
    "# Create CNN model\n",
    "model = CNN().to(device) # Instantiate the CNN model and move it to the device\n",
    "\n",
    "# Define loss function and optimizer\n",
    "criterion = nn.CrossEntropyLoss() # Cross-entropy loss function\n",
    "optimizer = optim.Adam(model.parameters(), lr=0.001) # Adam optimizer for parameter updates"
   ]
  },
  {
   "cell_type": "markdown",
   "id": "d3937999",
   "metadata": {},
   "source": [
    "Here are some visualizations of the train and test sets"
   ]
  },
  {
   "cell_type": "code",
   "execution_count": 41,
   "id": "1b657c98",
   "metadata": {},
   "outputs": [
    {
     "name": "stdout",
     "output_type": "stream",
     "text": [
      "Train\n"
     ]
    },
    {
     "data": {
      "image/png": "[encoded data removed]",
      "text/plain": [
       "<Figure size 720x288 with 10 Axes>"
      ]
     },
     "metadata": {
      "needs_background": "light"
     },
     "output_type": "display_data"
    },
    {
     "name": "stdout",
     "output_type": "stream",
     "text": [
      "Test\n"
     ]
    },
    {
     "data": {
      "image/png": "[encoded data removed]",
      "text/plain": [
       "<Figure size 720x288 with 10 Axes>"
      ]
     },
     "metadata": {
      "needs_background": "light"
     },
     "output_type": "display_data"
    },
    {
     "name": "stdout",
     "output_type": "stream",
     "text": [
      "Train Dataset Size: 60000 examples\n",
      "Test Dataset Size: 10000 examples\n"
     ]
    }
   ],
   "source": [
    "import matplotlib.pyplot as plt\n",
    "\n",
    "# Plot examples from the training set\n",
    "print('Train')\n",
    "fig, axes = plt.subplots(nrows=2, ncols=5, figsize=(10, 4))\n",
    "for i, ax in enumerate(axes.flat):\n",
    "    image, label = train_dataset[i]\n",
    "    ax.imshow(image.squeeze(), cmap='gray')\n",
    "    ax.set_title(f'True Label: {label}')\n",
    "    ax.axis('off')\n",
    "\n",
    "plt.tight_layout()\n",
    "plt.show()\n",
    "\n",
    "print('Test')\n",
    "# Plot examples from the test set\n",
    "fig, axes = plt.subplots(nrows=2, ncols=5, figsize=(10, 4))\n",
    "for i, ax in enumerate(axes.flat):\n",
    "    image, label = test_dataset[i]\n",
    "    ax.imshow(image.squeeze(), cmap='gray')\n",
    "    ax.set_title(f'True Label: {label}')\n",
    "    ax.axis('off')\n",
    "\n",
    "plt.tight_layout()\n",
    "plt.show()\n",
    "\n",
    "# Get the sizes of the train and test datasets\n",
    "train_size = len(train_dataset)\n",
    "test_size = len(test_dataset)\n",
    "# Print the sizes of the train and test datasets\n",
    "print(f\"Train Dataset Size: {train_size} examples\")\n",
    "print(f\"Test Dataset Size: {test_size} examples\")"
   ]
  },
  {
   "cell_type": "markdown",
   "id": "9087eb29",
   "metadata": {},
   "source": [
    "Training is almost exactly the same as last class. "
   ]
  },
  {
   "cell_type": "code",
   "execution_count": null,
   "id": "31537543",
   "metadata": {},
   "outputs": [],
   "source": [
    "# Training loop\n",
    "num_epochs = 5\n",
    "for epoch in range(num_epochs):\n",
    "    running_loss = 0.0\n",
    "    for images, labels in train_loader:\n",
    "        images = images.to(device) # Move input images to the device\n",
    "        labels = labels.to(device) # Move labels to the device\n",
    "\n",
    "        optimizer.zero_grad() # Zero the gradients\n",
    "\n",
    "        outputs = model(images) # Forward pass\n",
    "        loss = criterion(outputs, labels) # Compute the loss\n",
    "        loss.backward() # Backward pass\n",
    "        optimizer.step() # Update the weights\n",
    "\n",
    "        running_loss += loss.item()\n",
    "\n",
    "    print(f'Epoch {epoch+1}/{num_epochs}, Loss: {running_loss/len(train_loader)}')"
   ]
  },
  {
   "cell_type": "markdown",
   "id": "fb08ca01",
   "metadata": {},
   "source": [
    "Evaluate on test set. We see that accuracy improves from 94% to 98%"
   ]
  },
  {
   "cell_type": "code",
   "execution_count": 38,
   "id": "872ab3f7",
   "metadata": {},
   "outputs": [
    {
     "name": "stdout",
     "output_type": "stream",
     "text": [
      "Accuracy on the test set: 98.53%\n"
     ]
    }
   ],
   "source": [
    "# Evaluation\n",
    "model.eval() # Set the model to evaluation mode\n",
    "with torch.no_grad():\n",
    "    correct = 0\n",
    "    total = 0\n",
    "    for images, labels in test_loader:\n",
    "        images = images.to(device) # Move input images to the device\n",
    "        labels = labels.to(device) # Move labels to the device\n",
    "\n",
    "        outputs = model(images) # Forward pass\n",
    "        _, predicted = torch.max(outputs.data, 1) # Get the predicted labels\n",
    "        total += labels.size(0) # Increment the total count\n",
    "        correct += (predicted == labels).sum().item() # Count the correct predictions\n",
    "\n",
    "    print(f'Accuracy on the test set: {100 * correct / total}%')"
   ]
  },
  {
   "cell_type": "code",
   "execution_count": 5,
   "id": "9b0ef551",
   "metadata": {},
   "outputs": [
    {
     "name": "stdout",
     "output_type": "stream",
     "text": [
      "Train Dataset Size: 60000 examples\n",
      "Test Dataset Size: 10000 examples\n"
     ]
    }
   ],
   "source": []
  }
 ],
 "metadata": {
  "kernelspec": {
   "display_name": "Python 3 (ipykernel)",
   "language": "python",
   "name": "python3"
  },
  "language_info": {
   "codemirror_mode": {
    "name": "ipython",
    "version": 3
   },
   "file_extension": ".py",
   "mimetype": "text/x-python",
   "name": "python",
   "nbconvert_exporter": "python",
   "pygments_lexer": "ipython3",
   "version": "3.9.9"
  }
 },
 "nbformat": 4,
 "nbformat_minor": 5
}
