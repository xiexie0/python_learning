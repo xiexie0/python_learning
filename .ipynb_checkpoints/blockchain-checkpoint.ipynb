{
  "nbformat": 4,
  "nbformat_minor": 0,
  "metadata": {
    "colab": {
      "provenance": []
    },
    "kernelspec": {
      "name": "python3",
      "display_name": "Python 3"
    },
    "language_info": {
      "name": "python"
    }
  },
  "cells": [
    {
      "cell_type": "code",
      "execution_count": 1,
      "metadata": {
        "id": "UrLwqp1qb7cu"
      },
      "outputs": [],
      "source": [
        "import sys\n",
        "import hashlib\n",
        "import numpy as np\n",
        "import random\n",
        "from datetime import date\n",
        "import time"
      ]
    },
    {
      "cell_type": "code",
      "source": [
        "# input parameters\n",
        "previous_hash = '' #empty hash\n",
        "block_number = 0\n",
        "numberOfBlocks = 10\n",
        "difficulty = 4 #number of prefix zeros (hash-problem difficulty)\n",
        "transactions ='Schroedinger paid Einstein 1 qBTC'\n",
        "MAX_NONCE = 2**32-1"
      ],
      "metadata": {
        "id": "Nbne2chPcZVm"
      },
      "execution_count": 2,
      "outputs": []
    },
    {
      "cell_type": "code",
      "source": [
        "filename_log = 'mining_log.txt'"
      ],
      "metadata": {
        "id": "kq-v7nz1Gyrl"
      },
      "execution_count": 3,
      "outputs": []
    },
    {
      "cell_type": "code",
      "source": [
        "with open(filename_log, 'a') as o:\n",
        "    o.write('mining started \\n')\n",
        "    o.write('difficulty:'+ str(difficulty)+ '\\n')\n",
        "    o.write('previous_hash:' + str(previous_hash)+ '\\n')\n",
        "    o.write('transactions:' + str(transactions) +'\\n')\n",
        "    o.write('block_number:' + str(block_number) + '\\n')"
      ],
      "metadata": {
        "id": "tDG_steMGo3I"
      },
      "execution_count": 4,
      "outputs": []
    },
    {
      "cell_type": "code",
      "source": [
        "# example of using the hash functions\n",
        "hash_test = hashlib.sha3_256('Hello Word!'.encode()).hexdigest() # hashing the 'text' input"
      ],
      "metadata": {
        "id": "xym6JOADeJ5V"
      },
      "execution_count": 5,
      "outputs": []
    },
    {
      "cell_type": "code",
      "source": [
        "print(hash_test)"
      ],
      "metadata": {
        "colab": {
          "base_uri": "https://localhost:8080/"
        },
        "id": "jbjmoPNCDmo6",
        "outputId": "8b7ce372-a333-4ae9-ae6e-938bd1abe43c"
      },
      "execution_count": 6,
      "outputs": [
        {
          "output_type": "stream",
          "name": "stdout",
          "text": [
            "7daa59633983cea91eaa27d338e1b6696c9c997ee46c9adeb358049ac2551500\n"
          ]
        }
      ]
    },
    {
      "cell_type": "code",
      "source": [
        "text = 'Schroedinger paid Einstein 1 qBTC'"
      ],
      "metadata": {
        "id": "F932r6qbE6Su"
      },
      "execution_count": 7,
      "outputs": []
    },
    {
      "cell_type": "code",
      "source": [
        "# loop for building a blockchain\n",
        "counter = 0\n",
        "hash = hashlib.sha3_256(text.encode(\"ascii\")).hexdigest() # hashing the 'text' input\n",
        "#string-type output\n",
        "print ('hash-hex:', hash, 'length:', len(hash))\n",
        "\n",
        "scale = 16 #hex base\n",
        "hash_bin = bin(int(hash, scale))[2:].zfill(len(hash)*4)\n",
        "print ('hash-binary:', str(hash_bin), 'length:', len(hash_bin))"
      ],
      "metadata": {
        "colab": {
          "base_uri": "https://localhost:8080/"
        },
        "id": "1abAfo9EcGvr",
        "outputId": "959d3f94-3760-4a00-e412-4734e4471f0f"
      },
      "execution_count": 9,
      "outputs": [
        {
          "output_type": "stream",
          "name": "stdout",
          "text": [
            "hash-hex: e426ea9b8fd42ef03208a183874aedb33440fa1fd0def6c22d8d6b032aab711a length: 64\n",
            "hash-binary: 1110010000100110111010101001101110001111110101000010111011110000001100100000100010100001100000111000011101001010111011011011001100110100010000001111101000011111110100001101111011110110110000100010110110001101011010110000001100101010101010110111000100011010 length: 256\n"
          ]
        }
      ]
    },
    {
      "cell_type": "code",
      "source": [
        "def mine(block_number, transactions, previous_hash, prefix_zeros):\n",
        "\n",
        "    prefix_str = '0'*prefix_zeros #sets the difficulty, in hex format, bin: multiply by 4\n",
        "\n",
        "    start = time.time()\n",
        "    comp_time_block = 0\n",
        "\n",
        "    for i in range(MAX_NONCE):\n",
        "#             random.seed(i)\n",
        "        nonce = random.randint(0, MAX_NONCE)\n",
        "        text = str(block_number) + transactions + previous_hash + str(nonce) #hash input\n",
        "        # print ('text:', text, '\\n'  )\n",
        "        hash = hashlib.sha3_256(text.encode(\"ascii\")).hexdigest() # hashing the 'text' input\n",
        "\n",
        "        #write to log file\n",
        "        with open(filename_log, 'a') as o:\n",
        "            o.write(str(i) + ' nonce:' + str(nonce)+'\\n')\n",
        "            o.write('hash:'+ str(hash)+'\\n\\n')\n",
        "\n",
        "        if hash.startswith(prefix_str):\n",
        "            break\n",
        "\n",
        "    print(f\"PoW completed. Successfully mined a block with a nonce value:{nonce}\")\n",
        "    with open(filename_log, 'a') as o:\n",
        "        o.write('PoW completed. Successfully mined a block with a nonce value' +str(nonce)+'\\n')\n",
        "\n",
        "    comp_time = str((time.time() - start))\n",
        "    print(f\"mining ended. mining time: {comp_time} seconds\")\n",
        "    print('final hash:', hash)\n",
        "    print('suitable nonce:', nonce)\n",
        "\n",
        "    return [hash, nonce, comp_time]\n",
        "\n",
        "    raise BaseException(f\"Couldn't find correct has after trying {MAX_NONCE} times\")\n",
        ""
      ],
      "metadata": {
        "id": "hIkO63KwcbWL"
      },
      "execution_count": 10,
      "outputs": []
    },
    {
      "cell_type": "code",
      "source": [
        "#executing mining algorithm\n",
        "counter = 0\n",
        "while counter < numberOfBlocks:\n",
        " [hash, nonce, comp_time] = mine(block_number,transactions, previous_hash, difficulty)\n",
        " previous_hash = hash\n",
        " block_number+= 1\n",
        " counter+= 1"
      ],
      "metadata": {
        "colab": {
          "base_uri": "https://localhost:8080/"
        },
        "id": "Mgnk3GMfI5Up",
        "outputId": "7a363f06-ba12-4383-e277-38d17d3b7e29"
      },
      "execution_count": 13,
      "outputs": [
        {
          "output_type": "stream",
          "name": "stdout",
          "text": [
            "PoW completed. Successfully mined a block with a nonce value:4041100526\n",
            "mining ended. mining time: 4.032551288604736 seconds\n",
            "final hash: 00008b148cd4ab10ffa0cd0613269197835407e7ffd764b3eecd1b73904f29e9\n",
            "suitable nonce: 4041100526\n",
            "PoW completed. Successfully mined a block with a nonce value:3706826375\n",
            "mining ended. mining time: 0.2093050479888916 seconds\n",
            "final hash: 00008117cd0a0776a9aaa2b15e2fb2157cc2f015afe87fdeb82d2c59e8927c78\n",
            "suitable nonce: 3706826375\n",
            "PoW completed. Successfully mined a block with a nonce value:2777816219\n",
            "mining ended. mining time: 0.03736686706542969 seconds\n",
            "final hash: 0000733e0c2c39e60f4e13d81ab13c22a59e9db4c092aa593a8cfdf6511b6227\n",
            "suitable nonce: 2777816219\n",
            "PoW completed. Successfully mined a block with a nonce value:895218498\n",
            "mining ended. mining time: 0.2111513614654541 seconds\n",
            "final hash: 00007bea625b5b45e7f0563f0a0729ec34982fa7606a5fbdb5ed6aa870c9454b\n",
            "suitable nonce: 895218498\n",
            "PoW completed. Successfully mined a block with a nonce value:36231838\n",
            "mining ended. mining time: 0.8213562965393066 seconds\n",
            "final hash: 0000ad7b6d5ecad4bb6681c7b56f2685c1fa17def0751d6b33ffaf3cbfb2eec5\n",
            "suitable nonce: 36231838\n",
            "PoW completed. Successfully mined a block with a nonce value:1669240813\n",
            "mining ended. mining time: 2.2867417335510254 seconds\n",
            "final hash: 00001508ea7b4afd230c22520397009fac7ce75b0b4f9e75943e0d5079535aa5\n",
            "suitable nonce: 1669240813\n",
            "PoW completed. Successfully mined a block with a nonce value:1662700299\n",
            "mining ended. mining time: 0.2740931510925293 seconds\n",
            "final hash: 0000f999c13c3f7f70b305085b59c050f696c19656b3d3167bfd0fa7ea1e48c0\n",
            "suitable nonce: 1662700299\n",
            "PoW completed. Successfully mined a block with a nonce value:4227166787\n",
            "mining ended. mining time: 0.4737522602081299 seconds\n",
            "final hash: 00008b3fe871e8204325167312047337429f662e23c81f457e8ff636e29974dd\n",
            "suitable nonce: 4227166787\n",
            "PoW completed. Successfully mined a block with a nonce value:2471183214\n",
            "mining ended. mining time: 0.23853111267089844 seconds\n",
            "final hash: 000022a81d81d2a91ca77f88d5a760340aa93ae455d6f83bdd890ba4eba370c3\n",
            "suitable nonce: 2471183214\n",
            "PoW completed. Successfully mined a block with a nonce value:569973282\n",
            "mining ended. mining time: 2.557739496231079 seconds\n",
            "final hash: 00005f087dfe82a072b78128f9b72b19adb4c316e761c725a6228b1bcb54c4c6\n",
            "suitable nonce: 569973282\n"
          ]
        }
      ]
    }
  ]
}