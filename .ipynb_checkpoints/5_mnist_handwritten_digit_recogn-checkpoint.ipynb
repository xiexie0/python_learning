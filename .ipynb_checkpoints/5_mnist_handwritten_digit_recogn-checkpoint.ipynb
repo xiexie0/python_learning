{
  "nbformat": 4,
  "nbformat_minor": 0,
  "metadata": {
    "colab": {
      "name": "mnist handwritten digit recogn.ipynb",
      "provenance": [],
      "collapsed_sections": []
    },
    "kernelspec": {
      "name": "python3",
      "display_name": "Python 3"
    },
    "language_info": {
      "name": "python"
    }
  },
  "cells": [
    {
      "cell_type": "code",
      "execution_count": null,
      "metadata": {
        "id": "rn7R1V373p2L"
      },
      "outputs": [],
      "source": [
        "import torch\n",
        "import torch.nn.functional as F\n",
        "import numpy as np\n",
        "from torchvision import datasets, transforms\n",
        "import matplotlib.pyplot as plt\n"
      ]
    },
    {
      "cell_type": "code",
      "source": [
        "#loading the datasets\n",
        "mnist_train = datasets.MNIST(root='./datasets', train = True,transform = transforms.ToTensor(), download = True)\n",
        "\n",
        "mnist_test = datasets.MNIST(root='./datasets', train = False,transform = transforms.ToTensor(), download = True)\n",
        "\n",
        "len(mnist_test)\n"
      ],
      "metadata": {
        "colab": {
          "base_uri": "https://localhost:8080/"
        },
        "id": "3DSNfflW5L7p",
        "outputId": "44f7d5bd-2e90-43ce-c272-eb9bd9c66daf"
      },
      "execution_count": null,
      "outputs": [
        {
          "output_type": "execute_result",
          "data": {
            "text/plain": [
              "10000"
            ]
          },
          "metadata": {},
          "execution_count": 59
        }
      ]
    },
    {
      "cell_type": "code",
      "source": [
        "#displaying the images\n",
        "image,label = mnist_train[0]\n",
        "image = image.reshape([28,28])\n",
        "plt.imshow(image, cmap = 'gray')\n",
        "print(label)"
      ],
      "metadata": {
        "colab": {
          "base_uri": "https://localhost:8080/",
          "height": 283
        },
        "id": "TaCtF86_5-vn",
        "outputId": "dd0e014a-c5aa-4caf-daba-55320da92504"
      },
      "execution_count": null,
      "outputs": [
        {
          "output_type": "stream",
          "name": "stdout",
          "text": [
            "5\n"
          ]
        },
        {
          "output_type": "display_data",
          "data": {
            "text/plain": [
              "<Figure size 432x288 with 1 Axes>"
            ],
            "image/png": "[encoded data removed]"
          },
          "metadata": {
            "needs_background": "light"
          }
        }
      ]
    },
    {
      "cell_type": "code",
      "source": [
        "mnist_train[0]"
      ],
      "metadata": {
        "id": "kz8GQk8T7Nff",
        "colab": {
          "base_uri": "https://localhost:8080/"
        },
        "outputId": "519c2479-3e71-4cea-acc6-06bea3b54032"
      },
      "execution_count": null,
      "outputs": [
        {
          "output_type": "execute_result",
          "data": {
            "text/plain": [
              "(tensor([[[0.0000, 0.0000, 0.0000, 0.0000, 0.0000, 0.0000, 0.0000, 0.0000,\n",
              "           0.0000, 0.0000, 0.0000, 0.0000, 0.0000, 0.0000, 0.0000, 0.0000,\n",
              "           0.0000, 0.0000, 0.0000, 0.0000, 0.0000, 0.0000, 0.0000, 0.0000,\n",
              "           0.0000, 0.0000, 0.0000, 0.0000],\n",
              "          [0.0000, 0.0000, 0.0000, 0.0000, 0.0000, 0.0000, 0.0000, 0.0000,\n",
              "           0.0000, 0.0000, 0.0000, 0.0000, 0.0000, 0.0000, 0.0000, 0.0000,\n",
              "           0.0000, 0.0000, 0.0000, 0.0000, 0.0000, 0.0000, 0.0000, 0.0000,\n",
              "           0.0000, 0.0000, 0.0000, 0.0000],\n",
              "          [0.0000, 0.0000, 0.0000, 0.0000, 0.0000, 0.0000, 0.0000, 0.0000,\n",
              "           0.0000, 0.0000, 0.0000, 0.0000, 0.0000, 0.0000, 0.0000, 0.0000,\n",
              "           0.0000, 0.0000, 0.0000, 0.0000, 0.0000, 0.0000, 0.0000, 0.0000,\n",
              "           0.0000, 0.0000, 0.0000, 0.0000],\n",
              "          [0.0000, 0.0000, 0.0000, 0.0000, 0.0000, 0.0000, 0.0000, 0.0000,\n",
              "           0.0000, 0.0000, 0.0000, 0.0000, 0.0000, 0.0000, 0.0000, 0.0000,\n",
              "           0.0000, 0.0000, 0.0000, 0.0000, 0.0000, 0.0000, 0.0000, 0.0000,\n",
              "           0.0000, 0.0000, 0.0000, 0.0000],\n",
              "          [0.0000, 0.0000, 0.0000, 0.0000, 0.0000, 0.0000, 0.0000, 0.0000,\n",
              "           0.0000, 0.0000, 0.0000, 0.0000, 0.0000, 0.0000, 0.0000, 0.0000,\n",
              "           0.0000, 0.0000, 0.0000, 0.0000, 0.0000, 0.0000, 0.0000, 0.0000,\n",
              "           0.0000, 0.0000, 0.0000, 0.0000],\n",
              "          [0.0000, 0.0000, 0.0000, 0.0000, 0.0000, 0.0000, 0.0000, 0.0000,\n",
              "           0.0000, 0.0000, 0.0000, 0.0000, 0.0118, 0.0706, 0.0706, 0.0706,\n",
              "           0.4941, 0.5333, 0.6863, 0.1020, 0.6510, 1.0000, 0.9686, 0.4980,\n",
              "           0.0000, 0.0000, 0.0000, 0.0000],\n",
              "          [0.0000, 0.0000, 0.0000, 0.0000, 0.0000, 0.0000, 0.0000, 0.0000,\n",
              "           0.1176, 0.1412, 0.3686, 0.6039, 0.6667, 0.9922, 0.9922, 0.9922,\n",
              "           0.9922, 0.9922, 0.8824, 0.6745, 0.9922, 0.9490, 0.7647, 0.2510,\n",
              "           0.0000, 0.0000, 0.0000, 0.0000],\n",
              "          [0.0000, 0.0000, 0.0000, 0.0000, 0.0000, 0.0000, 0.0000, 0.1922,\n",
              "           0.9333, 0.9922, 0.9922, 0.9922, 0.9922, 0.9922, 0.9922, 0.9922,\n",
              "           0.9922, 0.9843, 0.3647, 0.3216, 0.3216, 0.2196, 0.1529, 0.0000,\n",
              "           0.0000, 0.0000, 0.0000, 0.0000],\n",
              "          [0.0000, 0.0000, 0.0000, 0.0000, 0.0000, 0.0000, 0.0000, 0.0706,\n",
              "           0.8588, 0.9922, 0.9922, 0.9922, 0.9922, 0.9922, 0.7765, 0.7137,\n",
              "           0.9686, 0.9451, 0.0000, 0.0000, 0.0000, 0.0000, 0.0000, 0.0000,\n",
              "           0.0000, 0.0000, 0.0000, 0.0000],\n",
              "          [0.0000, 0.0000, 0.0000, 0.0000, 0.0000, 0.0000, 0.0000, 0.0000,\n",
              "           0.3137, 0.6118, 0.4196, 0.9922, 0.9922, 0.8039, 0.0431, 0.0000,\n",
              "           0.1686, 0.6039, 0.0000, 0.0000, 0.0000, 0.0000, 0.0000, 0.0000,\n",
              "           0.0000, 0.0000, 0.0000, 0.0000],\n",
              "          [0.0000, 0.0000, 0.0000, 0.0000, 0.0000, 0.0000, 0.0000, 0.0000,\n",
              "           0.0000, 0.0549, 0.0039, 0.6039, 0.9922, 0.3529, 0.0000, 0.0000,\n",
              "           0.0000, 0.0000, 0.0000, 0.0000, 0.0000, 0.0000, 0.0000, 0.0000,\n",
              "           0.0000, 0.0000, 0.0000, 0.0000],\n",
              "          [0.0000, 0.0000, 0.0000, 0.0000, 0.0000, 0.0000, 0.0000, 0.0000,\n",
              "           0.0000, 0.0000, 0.0000, 0.5451, 0.9922, 0.7451, 0.0078, 0.0000,\n",
              "           0.0000, 0.0000, 0.0000, 0.0000, 0.0000, 0.0000, 0.0000, 0.0000,\n",
              "           0.0000, 0.0000, 0.0000, 0.0000],\n",
              "          [0.0000, 0.0000, 0.0000, 0.0000, 0.0000, 0.0000, 0.0000, 0.0000,\n",
              "           0.0000, 0.0000, 0.0000, 0.0431, 0.7451, 0.9922, 0.2745, 0.0000,\n",
              "           0.0000, 0.0000, 0.0000, 0.0000, 0.0000, 0.0000, 0.0000, 0.0000,\n",
              "           0.0000, 0.0000, 0.0000, 0.0000],\n",
              "          [0.0000, 0.0000, 0.0000, 0.0000, 0.0000, 0.0000, 0.0000, 0.0000,\n",
              "           0.0000, 0.0000, 0.0000, 0.0000, 0.1373, 0.9451, 0.8824, 0.6275,\n",
              "           0.4235, 0.0039, 0.0000, 0.0000, 0.0000, 0.0000, 0.0000, 0.0000,\n",
              "           0.0000, 0.0000, 0.0000, 0.0000],\n",
              "          [0.0000, 0.0000, 0.0000, 0.0000, 0.0000, 0.0000, 0.0000, 0.0000,\n",
              "           0.0000, 0.0000, 0.0000, 0.0000, 0.0000, 0.3176, 0.9412, 0.9922,\n",
              "           0.9922, 0.4667, 0.0980, 0.0000, 0.0000, 0.0000, 0.0000, 0.0000,\n",
              "           0.0000, 0.0000, 0.0000, 0.0000],\n",
              "          [0.0000, 0.0000, 0.0000, 0.0000, 0.0000, 0.0000, 0.0000, 0.0000,\n",
              "           0.0000, 0.0000, 0.0000, 0.0000, 0.0000, 0.0000, 0.1765, 0.7294,\n",
              "           0.9922, 0.9922, 0.5882, 0.1059, 0.0000, 0.0000, 0.0000, 0.0000,\n",
              "           0.0000, 0.0000, 0.0000, 0.0000],\n",
              "          [0.0000, 0.0000, 0.0000, 0.0000, 0.0000, 0.0000, 0.0000, 0.0000,\n",
              "           0.0000, 0.0000, 0.0000, 0.0000, 0.0000, 0.0000, 0.0000, 0.0627,\n",
              "           0.3647, 0.9882, 0.9922, 0.7333, 0.0000, 0.0000, 0.0000, 0.0000,\n",
              "           0.0000, 0.0000, 0.0000, 0.0000],\n",
              "          [0.0000, 0.0000, 0.0000, 0.0000, 0.0000, 0.0000, 0.0000, 0.0000,\n",
              "           0.0000, 0.0000, 0.0000, 0.0000, 0.0000, 0.0000, 0.0000, 0.0000,\n",
              "           0.0000, 0.9765, 0.9922, 0.9765, 0.2510, 0.0000, 0.0000, 0.0000,\n",
              "           0.0000, 0.0000, 0.0000, 0.0000],\n",
              "          [0.0000, 0.0000, 0.0000, 0.0000, 0.0000, 0.0000, 0.0000, 0.0000,\n",
              "           0.0000, 0.0000, 0.0000, 0.0000, 0.0000, 0.0000, 0.1804, 0.5098,\n",
              "           0.7176, 0.9922, 0.9922, 0.8118, 0.0078, 0.0000, 0.0000, 0.0000,\n",
              "           0.0000, 0.0000, 0.0000, 0.0000],\n",
              "          [0.0000, 0.0000, 0.0000, 0.0000, 0.0000, 0.0000, 0.0000, 0.0000,\n",
              "           0.0000, 0.0000, 0.0000, 0.0000, 0.1529, 0.5804, 0.8980, 0.9922,\n",
              "           0.9922, 0.9922, 0.9804, 0.7137, 0.0000, 0.0000, 0.0000, 0.0000,\n",
              "           0.0000, 0.0000, 0.0000, 0.0000],\n",
              "          [0.0000, 0.0000, 0.0000, 0.0000, 0.0000, 0.0000, 0.0000, 0.0000,\n",
              "           0.0000, 0.0000, 0.0941, 0.4471, 0.8667, 0.9922, 0.9922, 0.9922,\n",
              "           0.9922, 0.7882, 0.3059, 0.0000, 0.0000, 0.0000, 0.0000, 0.0000,\n",
              "           0.0000, 0.0000, 0.0000, 0.0000],\n",
              "          [0.0000, 0.0000, 0.0000, 0.0000, 0.0000, 0.0000, 0.0000, 0.0000,\n",
              "           0.0902, 0.2588, 0.8353, 0.9922, 0.9922, 0.9922, 0.9922, 0.7765,\n",
              "           0.3176, 0.0078, 0.0000, 0.0000, 0.0000, 0.0000, 0.0000, 0.0000,\n",
              "           0.0000, 0.0000, 0.0000, 0.0000],\n",
              "          [0.0000, 0.0000, 0.0000, 0.0000, 0.0000, 0.0000, 0.0706, 0.6706,\n",
              "           0.8588, 0.9922, 0.9922, 0.9922, 0.9922, 0.7647, 0.3137, 0.0353,\n",
              "           0.0000, 0.0000, 0.0000, 0.0000, 0.0000, 0.0000, 0.0000, 0.0000,\n",
              "           0.0000, 0.0000, 0.0000, 0.0000],\n",
              "          [0.0000, 0.0000, 0.0000, 0.0000, 0.2157, 0.6745, 0.8863, 0.9922,\n",
              "           0.9922, 0.9922, 0.9922, 0.9569, 0.5216, 0.0431, 0.0000, 0.0000,\n",
              "           0.0000, 0.0000, 0.0000, 0.0000, 0.0000, 0.0000, 0.0000, 0.0000,\n",
              "           0.0000, 0.0000, 0.0000, 0.0000],\n",
              "          [0.0000, 0.0000, 0.0000, 0.0000, 0.5333, 0.9922, 0.9922, 0.9922,\n",
              "           0.8314, 0.5294, 0.5176, 0.0627, 0.0000, 0.0000, 0.0000, 0.0000,\n",
              "           0.0000, 0.0000, 0.0000, 0.0000, 0.0000, 0.0000, 0.0000, 0.0000,\n",
              "           0.0000, 0.0000, 0.0000, 0.0000],\n",
              "          [0.0000, 0.0000, 0.0000, 0.0000, 0.0000, 0.0000, 0.0000, 0.0000,\n",
              "           0.0000, 0.0000, 0.0000, 0.0000, 0.0000, 0.0000, 0.0000, 0.0000,\n",
              "           0.0000, 0.0000, 0.0000, 0.0000, 0.0000, 0.0000, 0.0000, 0.0000,\n",
              "           0.0000, 0.0000, 0.0000, 0.0000],\n",
              "          [0.0000, 0.0000, 0.0000, 0.0000, 0.0000, 0.0000, 0.0000, 0.0000,\n",
              "           0.0000, 0.0000, 0.0000, 0.0000, 0.0000, 0.0000, 0.0000, 0.0000,\n",
              "           0.0000, 0.0000, 0.0000, 0.0000, 0.0000, 0.0000, 0.0000, 0.0000,\n",
              "           0.0000, 0.0000, 0.0000, 0.0000],\n",
              "          [0.0000, 0.0000, 0.0000, 0.0000, 0.0000, 0.0000, 0.0000, 0.0000,\n",
              "           0.0000, 0.0000, 0.0000, 0.0000, 0.0000, 0.0000, 0.0000, 0.0000,\n",
              "           0.0000, 0.0000, 0.0000, 0.0000, 0.0000, 0.0000, 0.0000, 0.0000,\n",
              "           0.0000, 0.0000, 0.0000, 0.0000]]]), 5)"
            ]
          },
          "metadata": {},
          "execution_count": 61
        }
      ]
    },
    {
      "cell_type": "code",
      "source": [
        "train_loader = torch.utils.data.DataLoader(mnist_train, batch_size = 100, shuffle = True)\n",
        "\n",
        "test_loader = torch.utils.data.DataLoader(mnist_test, batch_size = 100, shuffle = False)"
      ],
      "metadata": {
        "id": "GSB2y8T9CgCt"
      },
      "execution_count": null,
      "outputs": []
    },
    {
      "cell_type": "code",
      "source": [
        "data_train_iter = iter(train_loader)\n",
        "images, labels = data_train_iter.next()\n",
        "print(images.shape)\n",
        "print(labels.shape)"
      ],
      "metadata": {
        "colab": {
          "base_uri": "https://localhost:8080/"
        },
        "id": "_3sMdPkVDMCs",
        "outputId": "7a870742-c5a9-47db-f81c-6666966afc35"
      },
      "execution_count": null,
      "outputs": [
        {
          "output_type": "stream",
          "name": "stdout",
          "text": [
            "torch.Size([100, 1, 28, 28])\n",
            "torch.Size([100])\n"
          ]
        }
      ]
    },
    {
      "cell_type": "code",
      "source": [
        "x = images.view(-1, 28*28)"
      ],
      "metadata": {
        "id": "9rwq0HOeDePT"
      },
      "execution_count": null,
      "outputs": []
    },
    {
      "cell_type": "code",
      "source": [
        "len(x[10])"
      ],
      "metadata": {
        "colab": {
          "base_uri": "https://localhost:8080/"
        },
        "id": "sXIS9V78E-8K",
        "outputId": "ef1e1729-3e49-4519-b530-2bc67e1d49e2"
      },
      "execution_count": null,
      "outputs": [
        {
          "output_type": "execute_result",
          "data": {
            "text/plain": [
              "784"
            ]
          },
          "metadata": {},
          "execution_count": 65
        }
      ]
    },
    {
      "cell_type": "code",
      "source": [
        "W = torch.randn(784,10)/np.sqrt(784)\n",
        "W.requires_grad_()"
      ],
      "metadata": {
        "colab": {
          "base_uri": "https://localhost:8080/"
        },
        "id": "T8M2_uxpE_kZ",
        "outputId": "5a195f33-6325-404e-92fa-779811d92c3d"
      },
      "execution_count": null,
      "outputs": [
        {
          "output_type": "execute_result",
          "data": {
            "text/plain": [
              "tensor([[ 0.0485,  0.0021, -0.0370,  ..., -0.0265, -0.0015, -0.0020],\n",
              "        [-0.0473,  0.0362,  0.0032,  ..., -0.0222, -0.0183, -0.0151],\n",
              "        [-0.0078,  0.0128,  0.0347,  ...,  0.0131,  0.0131, -0.0146],\n",
              "        ...,\n",
              "        [-0.0033, -0.0108, -0.0103,  ...,  0.0271,  0.0066, -0.0019],\n",
              "        [ 0.0322, -0.0275,  0.0258,  ..., -0.0298,  0.0235,  0.0035],\n",
              "        [-0.0097,  0.0340,  0.0223,  ..., -0.0309,  0.0086, -0.0584]],\n",
              "       requires_grad=True)"
            ]
          },
          "metadata": {},
          "execution_count": 66
        }
      ]
    },
    {
      "cell_type": "code",
      "source": [
        "b = torch.randn(10, requires_grad=True)\n",
        "b"
      ],
      "metadata": {
        "colab": {
          "base_uri": "https://localhost:8080/"
        },
        "id": "w9Wgf04IF5jg",
        "outputId": "b19b1bf0-f2b6-4ad3-aa74-06e02bda538f"
      },
      "execution_count": null,
      "outputs": [
        {
          "output_type": "execute_result",
          "data": {
            "text/plain": [
              "tensor([ 1.3207,  0.5679,  0.7825, -1.2485,  0.3943, -2.7897,  0.9654,  0.7026,\n",
              "        -1.9507, -2.8996], requires_grad=True)"
            ]
          },
          "metadata": {},
          "execution_count": 67
        }
      ]
    },
    {
      "cell_type": "code",
      "source": [
        "y = torch.matmul(x,W) + b\n",
        "y[0,:]"
      ],
      "metadata": {
        "colab": {
          "base_uri": "https://localhost:8080/"
        },
        "id": "RUWaMnCrF7BQ",
        "outputId": "2b1ae199-d8d1-49ff-ac65-23dffbfdad51"
      },
      "execution_count": null,
      "outputs": [
        {
          "output_type": "execute_result",
          "data": {
            "text/plain": [
              "tensor([ 1.7729,  0.1582,  0.5394, -1.4596,  0.4134, -2.9432,  1.3189,  0.6964,\n",
              "        -1.8468, -3.2539], grad_fn=<SliceBackward0>)"
            ]
          },
          "metadata": {},
          "execution_count": 68
        }
      ]
    },
    {
      "cell_type": "code",
      "source": [
        "py = F.softmax(y,dim=1)\n",
        "py[0]"
      ],
      "metadata": {
        "colab": {
          "base_uri": "https://localhost:8080/"
        },
        "id": "BjQEiFQsGpqY",
        "outputId": "b7f7e10c-733b-4a94-85e1-2ce9e2509000"
      },
      "execution_count": null,
      "outputs": [
        {
          "output_type": "execute_result",
          "data": {
            "text/plain": [
              "tensor([0.3566, 0.0709, 0.1038, 0.0141, 0.0916, 0.0032, 0.2264, 0.1215, 0.0096,\n",
              "        0.0023], grad_fn=<SelectBackward0>)"
            ]
          },
          "metadata": {},
          "execution_count": 69
        }
      ]
    },
    {
      "cell_type": "code",
      "source": [
        "lr = 0.01\n",
        "optimizer = torch.optim.SGD([W,b],lr)"
      ],
      "metadata": {
        "id": "mtOw5UZAHlaB"
      },
      "execution_count": null,
      "outputs": []
    },
    {
      "cell_type": "code",
      "source": [
        "cross_entropy = F.cross_entropy(y,labels)\n",
        "cross_entropy.backward()"
      ],
      "metadata": {
        "id": "Ch5-uNDYKZZ_"
      },
      "execution_count": null,
      "outputs": []
    },
    {
      "cell_type": "code",
      "source": [
        "b.grad"
      ],
      "metadata": {
        "colab": {
          "base_uri": "https://localhost:8080/"
        },
        "id": "iN2MpCl7K4YB",
        "outputId": "c7c0bf64-e531-46f7-f160-055f0a146875"
      },
      "execution_count": null,
      "outputs": [
        {
          "output_type": "execute_result",
          "data": {
            "text/plain": [
              "tensor([ 0.3251, -0.0526,  0.0175, -0.1426,  0.0442, -0.1166,  0.0706,  0.0113,\n",
              "        -0.0703, -0.0866])"
            ]
          },
          "metadata": {},
          "execution_count": 72
        }
      ]
    },
    {
      "cell_type": "code",
      "source": [
        "optimizer.step()"
      ],
      "metadata": {
        "id": "H-cZ2m9WLCjh"
      },
      "execution_count": null,
      "outputs": []
    },
    {
      "cell_type": "code",
      "source": [
        "b"
      ],
      "metadata": {
        "colab": {
          "base_uri": "https://localhost:8080/"
        },
        "id": "-IMy5iW2LHxR",
        "outputId": "f1259657-f60b-4a1b-b7c0-0054785b8623"
      },
      "execution_count": null,
      "outputs": [
        {
          "output_type": "execute_result",
          "data": {
            "text/plain": [
              "tensor([ 1.3174,  0.5684,  0.7823, -1.2471,  0.3939, -2.7885,  0.9647,  0.7024,\n",
              "        -1.9500, -2.8987], requires_grad=True)"
            ]
          },
          "metadata": {},
          "execution_count": 74
        }
      ]
    },
    {
      "cell_type": "code",
      "source": [
        "# training cycle\n",
        "for images,labels in train_loader:\n",
        "  optimizer.zero_grad()\n",
        "  x = images.view(-1, 28*28)\n",
        "  y = torch.matmul(x,W) + b\n",
        "  loss_func = F.cross_entropy(y,labels)\n",
        "  loss_func.backward()\n",
        "  optimizer.step()\n",
        "  print(loss_func)"
      ],
      "metadata": {
        "colab": {
          "base_uri": "https://localhost:8080/"
        },
        "id": "0XiIbNOkLIvo",
        "outputId": "8de28132-918c-4819-ab58-0803142cd9b0"
      },
      "execution_count": null,
      "outputs": [
        {
          "output_type": "stream",
          "name": "stdout",
          "text": [
            "tensor(3.2477, grad_fn=<NllLossBackward0>)\n",
            "tensor(3.2393, grad_fn=<NllLossBackward0>)\n",
            "tensor(3.0056, grad_fn=<NllLossBackward0>)\n",
            "tensor(2.6132, grad_fn=<NllLossBackward0>)\n",
            "tensor(3.0111, grad_fn=<NllLossBackward0>)\n",
            "tensor(2.8797, grad_fn=<NllLossBackward0>)\n",
            "tensor(2.5765, grad_fn=<NllLossBackward0>)\n",
            "tensor(3.0011, grad_fn=<NllLossBackward0>)\n",
            "tensor(2.7606, grad_fn=<NllLossBackward0>)\n",
            "tensor(2.5320, grad_fn=<NllLossBackward0>)\n",
            "tensor(2.8304, grad_fn=<NllLossBackward0>)\n",
            "tensor(2.7020, grad_fn=<NllLossBackward0>)\n",
            "tensor(2.6308, grad_fn=<NllLossBackward0>)\n",
            "tensor(2.8401, grad_fn=<NllLossBackward0>)\n",
            "tensor(2.6437, grad_fn=<NllLossBackward0>)\n",
            "tensor(2.6987, grad_fn=<NllLossBackward0>)\n",
            "tensor(2.4879, grad_fn=<NllLossBackward0>)\n",
            "tensor(2.4888, grad_fn=<NllLossBackward0>)\n",
            "tensor(2.4081, grad_fn=<NllLossBackward0>)\n",
            "tensor(2.3516, grad_fn=<NllLossBackward0>)\n",
            "tensor(2.6489, grad_fn=<NllLossBackward0>)\n",
            "tensor(2.3117, grad_fn=<NllLossBackward0>)\n",
            "tensor(2.3639, grad_fn=<NllLossBackward0>)\n",
            "tensor(2.5639, grad_fn=<NllLossBackward0>)\n",
            "tensor(2.3065, grad_fn=<NllLossBackward0>)\n",
            "tensor(2.3506, grad_fn=<NllLossBackward0>)\n",
            "tensor(2.2230, grad_fn=<NllLossBackward0>)\n",
            "tensor(2.2545, grad_fn=<NllLossBackward0>)\n",
            "tensor(2.2059, grad_fn=<NllLossBackward0>)\n",
            "tensor(2.1637, grad_fn=<NllLossBackward0>)\n",
            "tensor(2.1782, grad_fn=<NllLossBackward0>)\n",
            "tensor(2.1234, grad_fn=<NllLossBackward0>)\n",
            "tensor(2.2314, grad_fn=<NllLossBackward0>)\n",
            "tensor(2.1322, grad_fn=<NllLossBackward0>)\n",
            "tensor(2.1096, grad_fn=<NllLossBackward0>)\n",
            "tensor(2.1644, grad_fn=<NllLossBackward0>)\n",
            "tensor(2.0629, grad_fn=<NllLossBackward0>)\n",
            "tensor(2.1447, grad_fn=<NllLossBackward0>)\n",
            "tensor(2.1232, grad_fn=<NllLossBackward0>)\n",
            "tensor(2.0877, grad_fn=<NllLossBackward0>)\n",
            "tensor(2.1071, grad_fn=<NllLossBackward0>)\n",
            "tensor(2.0942, grad_fn=<NllLossBackward0>)\n",
            "tensor(2.0885, grad_fn=<NllLossBackward0>)\n",
            "tensor(2.0052, grad_fn=<NllLossBackward0>)\n",
            "tensor(1.9116, grad_fn=<NllLossBackward0>)\n",
            "tensor(2.0053, grad_fn=<NllLossBackward0>)\n",
            "tensor(1.8991, grad_fn=<NllLossBackward0>)\n",
            "tensor(1.9290, grad_fn=<NllLossBackward0>)\n",
            "tensor(2.0112, grad_fn=<NllLossBackward0>)\n",
            "tensor(1.9834, grad_fn=<NllLossBackward0>)\n",
            "tensor(2.0840, grad_fn=<NllLossBackward0>)\n",
            "tensor(1.9639, grad_fn=<NllLossBackward0>)\n",
            "tensor(2.0071, grad_fn=<NllLossBackward0>)\n",
            "tensor(1.9121, grad_fn=<NllLossBackward0>)\n",
            "tensor(1.9478, grad_fn=<NllLossBackward0>)\n",
            "tensor(2.0089, grad_fn=<NllLossBackward0>)\n",
            "tensor(1.8712, grad_fn=<NllLossBackward0>)\n",
            "tensor(1.8629, grad_fn=<NllLossBackward0>)\n",
            "tensor(1.8489, grad_fn=<NllLossBackward0>)\n",
            "tensor(1.9385, grad_fn=<NllLossBackward0>)\n",
            "tensor(2.0051, grad_fn=<NllLossBackward0>)\n",
            "tensor(1.8532, grad_fn=<NllLossBackward0>)\n",
            "tensor(1.8047, grad_fn=<NllLossBackward0>)\n",
            "tensor(1.9053, grad_fn=<NllLossBackward0>)\n",
            "tensor(1.9833, grad_fn=<NllLossBackward0>)\n",
            "tensor(1.8205, grad_fn=<NllLossBackward0>)\n",
            "tensor(1.7871, grad_fn=<NllLossBackward0>)\n",
            "tensor(1.7927, grad_fn=<NllLossBackward0>)\n",
            "tensor(1.7593, grad_fn=<NllLossBackward0>)\n",
            "tensor(1.6274, grad_fn=<NllLossBackward0>)\n",
            "tensor(1.7885, grad_fn=<NllLossBackward0>)\n",
            "tensor(1.8465, grad_fn=<NllLossBackward0>)\n",
            "tensor(1.7879, grad_fn=<NllLossBackward0>)\n",
            "tensor(1.7587, grad_fn=<NllLossBackward0>)\n",
            "tensor(1.7716, grad_fn=<NllLossBackward0>)\n",
            "tensor(1.8397, grad_fn=<NllLossBackward0>)\n",
            "tensor(1.6958, grad_fn=<NllLossBackward0>)\n",
            "tensor(1.7307, grad_fn=<NllLossBackward0>)\n",
            "tensor(1.6826, grad_fn=<NllLossBackward0>)\n",
            "tensor(1.7585, grad_fn=<NllLossBackward0>)\n",
            "tensor(1.7237, grad_fn=<NllLossBackward0>)\n",
            "tensor(1.7033, grad_fn=<NllLossBackward0>)\n",
            "tensor(1.7732, grad_fn=<NllLossBackward0>)\n",
            "tensor(1.8420, grad_fn=<NllLossBackward0>)\n",
            "tensor(1.7061, grad_fn=<NllLossBackward0>)\n",
            "tensor(1.6485, grad_fn=<NllLossBackward0>)\n",
            "tensor(1.5520, grad_fn=<NllLossBackward0>)\n",
            "tensor(1.8303, grad_fn=<NllLossBackward0>)\n",
            "tensor(1.5667, grad_fn=<NllLossBackward0>)\n",
            "tensor(1.6915, grad_fn=<NllLossBackward0>)\n",
            "tensor(1.7054, grad_fn=<NllLossBackward0>)\n",
            "tensor(1.6553, grad_fn=<NllLossBackward0>)\n",
            "tensor(1.6766, grad_fn=<NllLossBackward0>)\n",
            "tensor(1.6756, grad_fn=<NllLossBackward0>)\n",
            "tensor(1.5907, grad_fn=<NllLossBackward0>)\n",
            "tensor(1.6337, grad_fn=<NllLossBackward0>)\n",
            "tensor(1.6212, grad_fn=<NllLossBackward0>)\n",
            "tensor(1.6614, grad_fn=<NllLossBackward0>)\n",
            "tensor(1.6537, grad_fn=<NllLossBackward0>)\n",
            "tensor(1.6344, grad_fn=<NllLossBackward0>)\n",
            "tensor(1.6611, grad_fn=<NllLossBackward0>)\n",
            "tensor(1.5463, grad_fn=<NllLossBackward0>)\n",
            "tensor(1.6737, grad_fn=<NllLossBackward0>)\n",
            "tensor(1.5739, grad_fn=<NllLossBackward0>)\n",
            "tensor(1.5326, grad_fn=<NllLossBackward0>)\n",
            "tensor(1.5676, grad_fn=<NllLossBackward0>)\n",
            "tensor(1.5882, grad_fn=<NllLossBackward0>)\n",
            "tensor(1.5203, grad_fn=<NllLossBackward0>)\n",
            "tensor(1.5765, grad_fn=<NllLossBackward0>)\n",
            "tensor(1.5378, grad_fn=<NllLossBackward0>)\n",
            "tensor(1.5116, grad_fn=<NllLossBackward0>)\n",
            "tensor(1.5458, grad_fn=<NllLossBackward0>)\n",
            "tensor(1.6440, grad_fn=<NllLossBackward0>)\n",
            "tensor(1.6146, grad_fn=<NllLossBackward0>)\n",
            "tensor(1.4895, grad_fn=<NllLossBackward0>)\n",
            "tensor(1.4089, grad_fn=<NllLossBackward0>)\n",
            "tensor(1.5514, grad_fn=<NllLossBackward0>)\n",
            "tensor(1.5556, grad_fn=<NllLossBackward0>)\n",
            "tensor(1.5209, grad_fn=<NllLossBackward0>)\n",
            "tensor(1.4989, grad_fn=<NllLossBackward0>)\n",
            "tensor(1.5447, grad_fn=<NllLossBackward0>)\n",
            "tensor(1.4534, grad_fn=<NllLossBackward0>)\n",
            "tensor(1.3928, grad_fn=<NllLossBackward0>)\n",
            "tensor(1.4851, grad_fn=<NllLossBackward0>)\n",
            "tensor(1.4593, grad_fn=<NllLossBackward0>)\n",
            "tensor(1.5432, grad_fn=<NllLossBackward0>)\n",
            "tensor(1.5451, grad_fn=<NllLossBackward0>)\n",
            "tensor(1.4488, grad_fn=<NllLossBackward0>)\n",
            "tensor(1.4163, grad_fn=<NllLossBackward0>)\n",
            "tensor(1.3982, grad_fn=<NllLossBackward0>)\n",
            "tensor(1.4344, grad_fn=<NllLossBackward0>)\n",
            "tensor(1.4585, grad_fn=<NllLossBackward0>)\n",
            "tensor(1.3788, grad_fn=<NllLossBackward0>)\n",
            "tensor(1.4307, grad_fn=<NllLossBackward0>)\n",
            "tensor(1.4849, grad_fn=<NllLossBackward0>)\n",
            "tensor(1.4478, grad_fn=<NllLossBackward0>)\n",
            "tensor(1.3903, grad_fn=<NllLossBackward0>)\n",
            "tensor(1.4015, grad_fn=<NllLossBackward0>)\n",
            "tensor(1.3533, grad_fn=<NllLossBackward0>)\n",
            "tensor(1.3704, grad_fn=<NllLossBackward0>)\n",
            "tensor(1.6097, grad_fn=<NllLossBackward0>)\n",
            "tensor(1.3739, grad_fn=<NllLossBackward0>)\n",
            "tensor(1.3473, grad_fn=<NllLossBackward0>)\n",
            "tensor(1.2568, grad_fn=<NllLossBackward0>)\n",
            "tensor(1.4391, grad_fn=<NllLossBackward0>)\n",
            "tensor(1.4335, grad_fn=<NllLossBackward0>)\n",
            "tensor(1.4941, grad_fn=<NllLossBackward0>)\n",
            "tensor(1.3491, grad_fn=<NllLossBackward0>)\n",
            "tensor(1.4256, grad_fn=<NllLossBackward0>)\n",
            "tensor(1.3701, grad_fn=<NllLossBackward0>)\n",
            "tensor(1.3343, grad_fn=<NllLossBackward0>)\n",
            "tensor(1.3437, grad_fn=<NllLossBackward0>)\n",
            "tensor(1.2638, grad_fn=<NllLossBackward0>)\n",
            "tensor(1.3811, grad_fn=<NllLossBackward0>)\n",
            "tensor(1.4752, grad_fn=<NllLossBackward0>)\n",
            "tensor(1.4640, grad_fn=<NllLossBackward0>)\n",
            "tensor(1.3724, grad_fn=<NllLossBackward0>)\n",
            "tensor(1.4360, grad_fn=<NllLossBackward0>)\n",
            "tensor(1.2548, grad_fn=<NllLossBackward0>)\n",
            "tensor(1.3848, grad_fn=<NllLossBackward0>)\n",
            "tensor(1.2521, grad_fn=<NllLossBackward0>)\n",
            "tensor(1.3330, grad_fn=<NllLossBackward0>)\n",
            "tensor(1.4556, grad_fn=<NllLossBackward0>)\n",
            "tensor(1.4785, grad_fn=<NllLossBackward0>)\n",
            "tensor(1.3197, grad_fn=<NllLossBackward0>)\n",
            "tensor(1.1178, grad_fn=<NllLossBackward0>)\n",
            "tensor(1.4691, grad_fn=<NllLossBackward0>)\n",
            "tensor(1.2650, grad_fn=<NllLossBackward0>)\n",
            "tensor(1.3534, grad_fn=<NllLossBackward0>)\n",
            "tensor(1.3330, grad_fn=<NllLossBackward0>)\n",
            "tensor(1.1605, grad_fn=<NllLossBackward0>)\n",
            "tensor(1.3984, grad_fn=<NllLossBackward0>)\n",
            "tensor(1.3540, grad_fn=<NllLossBackward0>)\n",
            "tensor(1.3069, grad_fn=<NllLossBackward0>)\n",
            "tensor(1.3121, grad_fn=<NllLossBackward0>)\n",
            "tensor(1.3682, grad_fn=<NllLossBackward0>)\n",
            "tensor(1.4175, grad_fn=<NllLossBackward0>)\n",
            "tensor(1.2162, grad_fn=<NllLossBackward0>)\n",
            "tensor(1.1876, grad_fn=<NllLossBackward0>)\n",
            "tensor(1.2891, grad_fn=<NllLossBackward0>)\n",
            "tensor(1.2773, grad_fn=<NllLossBackward0>)\n",
            "tensor(1.5099, grad_fn=<NllLossBackward0>)\n",
            "tensor(1.2973, grad_fn=<NllLossBackward0>)\n",
            "tensor(1.1973, grad_fn=<NllLossBackward0>)\n",
            "tensor(1.2210, grad_fn=<NllLossBackward0>)\n",
            "tensor(1.2661, grad_fn=<NllLossBackward0>)\n",
            "tensor(1.3542, grad_fn=<NllLossBackward0>)\n",
            "tensor(1.2982, grad_fn=<NllLossBackward0>)\n",
            "tensor(1.2882, grad_fn=<NllLossBackward0>)\n",
            "tensor(1.2363, grad_fn=<NllLossBackward0>)\n",
            "tensor(1.2963, grad_fn=<NllLossBackward0>)\n",
            "tensor(1.1406, grad_fn=<NllLossBackward0>)\n",
            "tensor(1.2459, grad_fn=<NllLossBackward0>)\n",
            "tensor(1.3455, grad_fn=<NllLossBackward0>)\n",
            "tensor(1.3349, grad_fn=<NllLossBackward0>)\n",
            "tensor(1.3013, grad_fn=<NllLossBackward0>)\n",
            "tensor(1.2008, grad_fn=<NllLossBackward0>)\n",
            "tensor(1.3278, grad_fn=<NllLossBackward0>)\n",
            "tensor(1.1952, grad_fn=<NllLossBackward0>)\n",
            "tensor(1.2231, grad_fn=<NllLossBackward0>)\n",
            "tensor(1.1498, grad_fn=<NllLossBackward0>)\n",
            "tensor(1.3091, grad_fn=<NllLossBackward0>)\n",
            "tensor(1.1605, grad_fn=<NllLossBackward0>)\n",
            "tensor(1.0866, grad_fn=<NllLossBackward0>)\n",
            "tensor(1.2472, grad_fn=<NllLossBackward0>)\n",
            "tensor(1.2065, grad_fn=<NllLossBackward0>)\n",
            "tensor(1.2737, grad_fn=<NllLossBackward0>)\n",
            "tensor(1.2269, grad_fn=<NllLossBackward0>)\n",
            "tensor(1.2150, grad_fn=<NllLossBackward0>)\n",
            "tensor(1.2270, grad_fn=<NllLossBackward0>)\n",
            "tensor(1.1431, grad_fn=<NllLossBackward0>)\n",
            "tensor(1.1244, grad_fn=<NllLossBackward0>)\n",
            "tensor(1.1984, grad_fn=<NllLossBackward0>)\n",
            "tensor(1.1719, grad_fn=<NllLossBackward0>)\n",
            "tensor(1.2220, grad_fn=<NllLossBackward0>)\n",
            "tensor(1.1684, grad_fn=<NllLossBackward0>)\n",
            "tensor(1.1591, grad_fn=<NllLossBackward0>)\n",
            "tensor(1.2567, grad_fn=<NllLossBackward0>)\n",
            "tensor(1.0822, grad_fn=<NllLossBackward0>)\n",
            "tensor(1.0465, grad_fn=<NllLossBackward0>)\n",
            "tensor(1.2837, grad_fn=<NllLossBackward0>)\n",
            "tensor(1.0515, grad_fn=<NllLossBackward0>)\n",
            "tensor(1.1541, grad_fn=<NllLossBackward0>)\n",
            "tensor(1.3849, grad_fn=<NllLossBackward0>)\n",
            "tensor(1.2224, grad_fn=<NllLossBackward0>)\n",
            "tensor(1.1439, grad_fn=<NllLossBackward0>)\n",
            "tensor(1.2334, grad_fn=<NllLossBackward0>)\n",
            "tensor(1.1805, grad_fn=<NllLossBackward0>)\n",
            "tensor(1.1961, grad_fn=<NllLossBackward0>)\n",
            "tensor(1.2534, grad_fn=<NllLossBackward0>)\n",
            "tensor(1.1533, grad_fn=<NllLossBackward0>)\n",
            "tensor(1.2867, grad_fn=<NllLossBackward0>)\n",
            "tensor(1.2551, grad_fn=<NllLossBackward0>)\n",
            "tensor(1.1012, grad_fn=<NllLossBackward0>)\n",
            "tensor(1.2482, grad_fn=<NllLossBackward0>)\n",
            "tensor(1.0799, grad_fn=<NllLossBackward0>)\n",
            "tensor(1.1042, grad_fn=<NllLossBackward0>)\n",
            "tensor(1.2095, grad_fn=<NllLossBackward0>)\n",
            "tensor(1.2489, grad_fn=<NllLossBackward0>)\n",
            "tensor(1.0556, grad_fn=<NllLossBackward0>)\n",
            "tensor(1.0917, grad_fn=<NllLossBackward0>)\n",
            "tensor(1.1217, grad_fn=<NllLossBackward0>)\n",
            "tensor(1.1636, grad_fn=<NllLossBackward0>)\n",
            "tensor(1.0403, grad_fn=<NllLossBackward0>)\n",
            "tensor(1.2081, grad_fn=<NllLossBackward0>)\n",
            "tensor(1.2954, grad_fn=<NllLossBackward0>)\n",
            "tensor(1.1041, grad_fn=<NllLossBackward0>)\n",
            "tensor(1.2022, grad_fn=<NllLossBackward0>)\n",
            "tensor(1.1977, grad_fn=<NllLossBackward0>)\n",
            "tensor(1.2665, grad_fn=<NllLossBackward0>)\n",
            "tensor(1.0701, grad_fn=<NllLossBackward0>)\n",
            "tensor(1.0669, grad_fn=<NllLossBackward0>)\n",
            "tensor(1.1215, grad_fn=<NllLossBackward0>)\n",
            "tensor(1.1212, grad_fn=<NllLossBackward0>)\n",
            "tensor(1.1039, grad_fn=<NllLossBackward0>)\n",
            "tensor(1.1667, grad_fn=<NllLossBackward0>)\n",
            "tensor(1.0446, grad_fn=<NllLossBackward0>)\n",
            "tensor(1.0825, grad_fn=<NllLossBackward0>)\n",
            "tensor(1.0288, grad_fn=<NllLossBackward0>)\n",
            "tensor(0.9776, grad_fn=<NllLossBackward0>)\n",
            "tensor(1.1363, grad_fn=<NllLossBackward0>)\n",
            "tensor(1.1517, grad_fn=<NllLossBackward0>)\n",
            "tensor(1.1063, grad_fn=<NllLossBackward0>)\n",
            "tensor(1.0058, grad_fn=<NllLossBackward0>)\n",
            "tensor(1.1358, grad_fn=<NllLossBackward0>)\n",
            "tensor(1.1411, grad_fn=<NllLossBackward0>)\n",
            "tensor(1.0936, grad_fn=<NllLossBackward0>)\n",
            "tensor(1.0521, grad_fn=<NllLossBackward0>)\n",
            "tensor(1.0059, grad_fn=<NllLossBackward0>)\n",
            "tensor(1.0616, grad_fn=<NllLossBackward0>)\n",
            "tensor(1.0672, grad_fn=<NllLossBackward0>)\n",
            "tensor(1.0408, grad_fn=<NllLossBackward0>)\n",
            "tensor(1.0751, grad_fn=<NllLossBackward0>)\n",
            "tensor(1.0178, grad_fn=<NllLossBackward0>)\n",
            "tensor(1.1765, grad_fn=<NllLossBackward0>)\n",
            "tensor(1.0818, grad_fn=<NllLossBackward0>)\n",
            "tensor(1.1944, grad_fn=<NllLossBackward0>)\n",
            "tensor(1.0545, grad_fn=<NllLossBackward0>)\n",
            "tensor(1.1313, grad_fn=<NllLossBackward0>)\n",
            "tensor(0.9877, grad_fn=<NllLossBackward0>)\n",
            "tensor(1.0630, grad_fn=<NllLossBackward0>)\n",
            "tensor(0.9894, grad_fn=<NllLossBackward0>)\n",
            "tensor(0.9949, grad_fn=<NllLossBackward0>)\n",
            "tensor(0.9614, grad_fn=<NllLossBackward0>)\n",
            "tensor(0.9912, grad_fn=<NllLossBackward0>)\n",
            "tensor(0.9944, grad_fn=<NllLossBackward0>)\n",
            "tensor(1.0899, grad_fn=<NllLossBackward0>)\n",
            "tensor(0.9902, grad_fn=<NllLossBackward0>)\n",
            "tensor(1.1574, grad_fn=<NllLossBackward0>)\n",
            "tensor(1.1074, grad_fn=<NllLossBackward0>)\n",
            "tensor(1.0172, grad_fn=<NllLossBackward0>)\n",
            "tensor(1.1095, grad_fn=<NllLossBackward0>)\n",
            "tensor(0.9941, grad_fn=<NllLossBackward0>)\n",
            "tensor(1.0924, grad_fn=<NllLossBackward0>)\n",
            "tensor(1.0028, grad_fn=<NllLossBackward0>)\n",
            "tensor(1.0736, grad_fn=<NllLossBackward0>)\n",
            "tensor(1.0188, grad_fn=<NllLossBackward0>)\n",
            "tensor(1.1623, grad_fn=<NllLossBackward0>)\n",
            "tensor(1.1311, grad_fn=<NllLossBackward0>)\n",
            "tensor(1.0621, grad_fn=<NllLossBackward0>)\n",
            "tensor(0.9843, grad_fn=<NllLossBackward0>)\n",
            "tensor(0.9577, grad_fn=<NllLossBackward0>)\n",
            "tensor(1.0211, grad_fn=<NllLossBackward0>)\n",
            "tensor(1.0398, grad_fn=<NllLossBackward0>)\n",
            "tensor(1.0842, grad_fn=<NllLossBackward0>)\n",
            "tensor(1.0222, grad_fn=<NllLossBackward0>)\n",
            "tensor(0.9451, grad_fn=<NllLossBackward0>)\n",
            "tensor(1.0204, grad_fn=<NllLossBackward0>)\n",
            "tensor(1.0670, grad_fn=<NllLossBackward0>)\n",
            "tensor(1.0393, grad_fn=<NllLossBackward0>)\n",
            "tensor(1.1441, grad_fn=<NllLossBackward0>)\n",
            "tensor(0.9402, grad_fn=<NllLossBackward0>)\n",
            "tensor(1.0673, grad_fn=<NllLossBackward0>)\n",
            "tensor(0.9760, grad_fn=<NllLossBackward0>)\n",
            "tensor(0.9080, grad_fn=<NllLossBackward0>)\n",
            "tensor(0.9800, grad_fn=<NllLossBackward0>)\n",
            "tensor(0.9093, grad_fn=<NllLossBackward0>)\n",
            "tensor(1.0198, grad_fn=<NllLossBackward0>)\n",
            "tensor(0.9764, grad_fn=<NllLossBackward0>)\n",
            "tensor(0.9516, grad_fn=<NllLossBackward0>)\n",
            "tensor(0.9768, grad_fn=<NllLossBackward0>)\n",
            "tensor(1.0318, grad_fn=<NllLossBackward0>)\n",
            "tensor(1.0464, grad_fn=<NllLossBackward0>)\n",
            "tensor(0.9626, grad_fn=<NllLossBackward0>)\n",
            "tensor(0.9694, grad_fn=<NllLossBackward0>)\n",
            "tensor(1.0527, grad_fn=<NllLossBackward0>)\n",
            "tensor(1.0584, grad_fn=<NllLossBackward0>)\n",
            "tensor(0.9939, grad_fn=<NllLossBackward0>)\n",
            "tensor(1.1687, grad_fn=<NllLossBackward0>)\n",
            "tensor(1.0134, grad_fn=<NllLossBackward0>)\n",
            "tensor(1.0718, grad_fn=<NllLossBackward0>)\n",
            "tensor(1.0493, grad_fn=<NllLossBackward0>)\n",
            "tensor(0.9447, grad_fn=<NllLossBackward0>)\n",
            "tensor(0.9394, grad_fn=<NllLossBackward0>)\n",
            "tensor(0.9746, grad_fn=<NllLossBackward0>)\n",
            "tensor(0.9217, grad_fn=<NllLossBackward0>)\n",
            "tensor(0.8611, grad_fn=<NllLossBackward0>)\n",
            "tensor(1.1710, grad_fn=<NllLossBackward0>)\n",
            "tensor(0.8555, grad_fn=<NllLossBackward0>)\n",
            "tensor(0.9905, grad_fn=<NllLossBackward0>)\n",
            "tensor(1.0110, grad_fn=<NllLossBackward0>)\n",
            "tensor(0.9605, grad_fn=<NllLossBackward0>)\n",
            "tensor(0.9127, grad_fn=<NllLossBackward0>)\n",
            "tensor(1.0688, grad_fn=<NllLossBackward0>)\n",
            "tensor(0.9657, grad_fn=<NllLossBackward0>)\n",
            "tensor(1.0350, grad_fn=<NllLossBackward0>)\n",
            "tensor(0.9932, grad_fn=<NllLossBackward0>)\n",
            "tensor(1.0539, grad_fn=<NllLossBackward0>)\n",
            "tensor(1.0199, grad_fn=<NllLossBackward0>)\n",
            "tensor(0.9364, grad_fn=<NllLossBackward0>)\n",
            "tensor(1.0225, grad_fn=<NllLossBackward0>)\n",
            "tensor(0.9656, grad_fn=<NllLossBackward0>)\n",
            "tensor(1.0711, grad_fn=<NllLossBackward0>)\n",
            "tensor(1.0214, grad_fn=<NllLossBackward0>)\n",
            "tensor(0.9397, grad_fn=<NllLossBackward0>)\n",
            "tensor(0.9403, grad_fn=<NllLossBackward0>)\n",
            "tensor(0.9431, grad_fn=<NllLossBackward0>)\n",
            "tensor(1.1748, grad_fn=<NllLossBackward0>)\n",
            "tensor(0.8563, grad_fn=<NllLossBackward0>)\n",
            "tensor(0.9125, grad_fn=<NllLossBackward0>)\n",
            "tensor(0.8632, grad_fn=<NllLossBackward0>)\n",
            "tensor(0.9475, grad_fn=<NllLossBackward0>)\n",
            "tensor(0.9292, grad_fn=<NllLossBackward0>)\n",
            "tensor(0.9319, grad_fn=<NllLossBackward0>)\n",
            "tensor(0.8530, grad_fn=<NllLossBackward0>)\n",
            "tensor(0.9390, grad_fn=<NllLossBackward0>)\n",
            "tensor(0.8967, grad_fn=<NllLossBackward0>)\n",
            "tensor(0.9144, grad_fn=<NllLossBackward0>)\n",
            "tensor(0.8081, grad_fn=<NllLossBackward0>)\n",
            "tensor(1.0236, grad_fn=<NllLossBackward0>)\n",
            "tensor(1.0036, grad_fn=<NllLossBackward0>)\n",
            "tensor(0.9697, grad_fn=<NllLossBackward0>)\n",
            "tensor(0.8862, grad_fn=<NllLossBackward0>)\n",
            "tensor(0.9081, grad_fn=<NllLossBackward0>)\n",
            "tensor(0.9372, grad_fn=<NllLossBackward0>)\n",
            "tensor(1.0737, grad_fn=<NllLossBackward0>)\n",
            "tensor(0.8922, grad_fn=<NllLossBackward0>)\n",
            "tensor(0.8174, grad_fn=<NllLossBackward0>)\n",
            "tensor(0.8272, grad_fn=<NllLossBackward0>)\n",
            "tensor(0.8497, grad_fn=<NllLossBackward0>)\n",
            "tensor(0.9119, grad_fn=<NllLossBackward0>)\n",
            "tensor(0.8711, grad_fn=<NllLossBackward0>)\n",
            "tensor(0.9115, grad_fn=<NllLossBackward0>)\n",
            "tensor(0.9380, grad_fn=<NllLossBackward0>)\n",
            "tensor(0.8832, grad_fn=<NllLossBackward0>)\n",
            "tensor(0.8330, grad_fn=<NllLossBackward0>)\n",
            "tensor(0.8818, grad_fn=<NllLossBackward0>)\n",
            "tensor(0.8955, grad_fn=<NllLossBackward0>)\n",
            "tensor(0.9358, grad_fn=<NllLossBackward0>)\n",
            "tensor(0.9373, grad_fn=<NllLossBackward0>)\n",
            "tensor(0.9769, grad_fn=<NllLossBackward0>)\n",
            "tensor(0.9469, grad_fn=<NllLossBackward0>)\n",
            "tensor(0.9353, grad_fn=<NllLossBackward0>)\n",
            "tensor(0.8654, grad_fn=<NllLossBackward0>)\n",
            "tensor(1.0756, grad_fn=<NllLossBackward0>)\n",
            "tensor(0.9590, grad_fn=<NllLossBackward0>)\n",
            "tensor(0.8874, grad_fn=<NllLossBackward0>)\n",
            "tensor(0.9173, grad_fn=<NllLossBackward0>)\n",
            "tensor(0.7978, grad_fn=<NllLossBackward0>)\n",
            "tensor(0.8410, grad_fn=<NllLossBackward0>)\n",
            "tensor(1.0607, grad_fn=<NllLossBackward0>)\n",
            "tensor(0.8629, grad_fn=<NllLossBackward0>)\n",
            "tensor(0.8894, grad_fn=<NllLossBackward0>)\n",
            "tensor(0.9720, grad_fn=<NllLossBackward0>)\n",
            "tensor(0.9740, grad_fn=<NllLossBackward0>)\n",
            "tensor(0.8386, grad_fn=<NllLossBackward0>)\n",
            "tensor(0.8306, grad_fn=<NllLossBackward0>)\n",
            "tensor(0.8255, grad_fn=<NllLossBackward0>)\n",
            "tensor(0.9397, grad_fn=<NllLossBackward0>)\n",
            "tensor(0.8929, grad_fn=<NllLossBackward0>)\n",
            "tensor(1.0227, grad_fn=<NllLossBackward0>)\n",
            "tensor(0.8498, grad_fn=<NllLossBackward0>)\n",
            "tensor(0.9648, grad_fn=<NllLossBackward0>)\n",
            "tensor(0.9275, grad_fn=<NllLossBackward0>)\n",
            "tensor(0.8807, grad_fn=<NllLossBackward0>)\n",
            "tensor(0.9222, grad_fn=<NllLossBackward0>)\n",
            "tensor(0.7771, grad_fn=<NllLossBackward0>)\n",
            "tensor(0.9401, grad_fn=<NllLossBackward0>)\n",
            "tensor(0.8658, grad_fn=<NllLossBackward0>)\n",
            "tensor(0.8608, grad_fn=<NllLossBackward0>)\n",
            "tensor(0.9424, grad_fn=<NllLossBackward0>)\n",
            "tensor(0.9011, grad_fn=<NllLossBackward0>)\n",
            "tensor(0.8811, grad_fn=<NllLossBackward0>)\n",
            "tensor(0.9155, grad_fn=<NllLossBackward0>)\n",
            "tensor(0.8298, grad_fn=<NllLossBackward0>)\n",
            "tensor(0.8327, grad_fn=<NllLossBackward0>)\n",
            "tensor(0.9338, grad_fn=<NllLossBackward0>)\n",
            "tensor(1.0667, grad_fn=<NllLossBackward0>)\n",
            "tensor(0.8960, grad_fn=<NllLossBackward0>)\n",
            "tensor(0.7781, grad_fn=<NllLossBackward0>)\n",
            "tensor(0.8592, grad_fn=<NllLossBackward0>)\n",
            "tensor(0.9204, grad_fn=<NllLossBackward0>)\n",
            "tensor(0.8845, grad_fn=<NllLossBackward0>)\n",
            "tensor(0.9211, grad_fn=<NllLossBackward0>)\n",
            "tensor(0.8879, grad_fn=<NllLossBackward0>)\n",
            "tensor(0.9136, grad_fn=<NllLossBackward0>)\n",
            "tensor(0.7156, grad_fn=<NllLossBackward0>)\n",
            "tensor(0.9796, grad_fn=<NllLossBackward0>)\n",
            "tensor(0.9348, grad_fn=<NllLossBackward0>)\n",
            "tensor(0.8812, grad_fn=<NllLossBackward0>)\n",
            "tensor(0.7213, grad_fn=<NllLossBackward0>)\n",
            "tensor(0.9012, grad_fn=<NllLossBackward0>)\n",
            "tensor(0.8153, grad_fn=<NllLossBackward0>)\n",
            "tensor(1.0107, grad_fn=<NllLossBackward0>)\n",
            "tensor(0.9021, grad_fn=<NllLossBackward0>)\n",
            "tensor(0.9881, grad_fn=<NllLossBackward0>)\n",
            "tensor(0.9354, grad_fn=<NllLossBackward0>)\n",
            "tensor(0.8117, grad_fn=<NllLossBackward0>)\n",
            "tensor(0.8504, grad_fn=<NllLossBackward0>)\n",
            "tensor(0.8421, grad_fn=<NllLossBackward0>)\n",
            "tensor(0.6838, grad_fn=<NllLossBackward0>)\n",
            "tensor(0.9487, grad_fn=<NllLossBackward0>)\n",
            "tensor(0.8387, grad_fn=<NllLossBackward0>)\n",
            "tensor(0.7707, grad_fn=<NllLossBackward0>)\n",
            "tensor(0.9861, grad_fn=<NllLossBackward0>)\n",
            "tensor(0.8644, grad_fn=<NllLossBackward0>)\n",
            "tensor(0.8656, grad_fn=<NllLossBackward0>)\n",
            "tensor(0.7080, grad_fn=<NllLossBackward0>)\n",
            "tensor(0.7913, grad_fn=<NllLossBackward0>)\n",
            "tensor(0.8026, grad_fn=<NllLossBackward0>)\n",
            "tensor(0.9438, grad_fn=<NllLossBackward0>)\n",
            "tensor(0.8414, grad_fn=<NllLossBackward0>)\n",
            "tensor(0.9366, grad_fn=<NllLossBackward0>)\n",
            "tensor(0.8705, grad_fn=<NllLossBackward0>)\n",
            "tensor(0.8484, grad_fn=<NllLossBackward0>)\n",
            "tensor(0.7167, grad_fn=<NllLossBackward0>)\n",
            "tensor(0.8741, grad_fn=<NllLossBackward0>)\n",
            "tensor(0.8961, grad_fn=<NllLossBackward0>)\n",
            "tensor(0.8922, grad_fn=<NllLossBackward0>)\n",
            "tensor(0.8022, grad_fn=<NllLossBackward0>)\n",
            "tensor(0.8267, grad_fn=<NllLossBackward0>)\n",
            "tensor(0.8183, grad_fn=<NllLossBackward0>)\n",
            "tensor(0.8131, grad_fn=<NllLossBackward0>)\n",
            "tensor(0.8551, grad_fn=<NllLossBackward0>)\n",
            "tensor(0.8468, grad_fn=<NllLossBackward0>)\n",
            "tensor(0.8343, grad_fn=<NllLossBackward0>)\n",
            "tensor(0.9596, grad_fn=<NllLossBackward0>)\n",
            "tensor(0.8175, grad_fn=<NllLossBackward0>)\n",
            "tensor(0.9400, grad_fn=<NllLossBackward0>)\n",
            "tensor(0.7304, grad_fn=<NllLossBackward0>)\n",
            "tensor(0.8919, grad_fn=<NllLossBackward0>)\n",
            "tensor(0.9683, grad_fn=<NllLossBackward0>)\n",
            "tensor(0.8409, grad_fn=<NllLossBackward0>)\n",
            "tensor(0.8023, grad_fn=<NllLossBackward0>)\n",
            "tensor(0.8773, grad_fn=<NllLossBackward0>)\n",
            "tensor(0.8439, grad_fn=<NllLossBackward0>)\n",
            "tensor(0.8085, grad_fn=<NllLossBackward0>)\n",
            "tensor(0.8481, grad_fn=<NllLossBackward0>)\n",
            "tensor(0.8164, grad_fn=<NllLossBackward0>)\n",
            "tensor(0.7870, grad_fn=<NllLossBackward0>)\n",
            "tensor(0.8044, grad_fn=<NllLossBackward0>)\n",
            "tensor(0.8037, grad_fn=<NllLossBackward0>)\n",
            "tensor(0.8422, grad_fn=<NllLossBackward0>)\n",
            "tensor(0.7127, grad_fn=<NllLossBackward0>)\n",
            "tensor(0.6683, grad_fn=<NllLossBackward0>)\n",
            "tensor(0.6881, grad_fn=<NllLossBackward0>)\n",
            "tensor(0.6832, grad_fn=<NllLossBackward0>)\n",
            "tensor(0.7955, grad_fn=<NllLossBackward0>)\n",
            "tensor(0.8014, grad_fn=<NllLossBackward0>)\n",
            "tensor(0.9325, grad_fn=<NllLossBackward0>)\n",
            "tensor(0.8268, grad_fn=<NllLossBackward0>)\n",
            "tensor(0.8700, grad_fn=<NllLossBackward0>)\n",
            "tensor(0.8312, grad_fn=<NllLossBackward0>)\n",
            "tensor(0.7749, grad_fn=<NllLossBackward0>)\n",
            "tensor(0.6821, grad_fn=<NllLossBackward0>)\n",
            "tensor(0.7422, grad_fn=<NllLossBackward0>)\n",
            "tensor(0.8098, grad_fn=<NllLossBackward0>)\n",
            "tensor(0.7882, grad_fn=<NllLossBackward0>)\n",
            "tensor(0.8619, grad_fn=<NllLossBackward0>)\n",
            "tensor(0.7705, grad_fn=<NllLossBackward0>)\n",
            "tensor(0.8589, grad_fn=<NllLossBackward0>)\n",
            "tensor(0.9334, grad_fn=<NllLossBackward0>)\n",
            "tensor(0.7521, grad_fn=<NllLossBackward0>)\n",
            "tensor(0.9422, grad_fn=<NllLossBackward0>)\n",
            "tensor(0.7690, grad_fn=<NllLossBackward0>)\n",
            "tensor(0.7354, grad_fn=<NllLossBackward0>)\n",
            "tensor(0.7489, grad_fn=<NllLossBackward0>)\n",
            "tensor(0.7014, grad_fn=<NllLossBackward0>)\n",
            "tensor(0.9330, grad_fn=<NllLossBackward0>)\n",
            "tensor(0.7924, grad_fn=<NllLossBackward0>)\n",
            "tensor(0.7940, grad_fn=<NllLossBackward0>)\n",
            "tensor(0.7643, grad_fn=<NllLossBackward0>)\n",
            "tensor(0.8506, grad_fn=<NllLossBackward0>)\n",
            "tensor(0.8314, grad_fn=<NllLossBackward0>)\n",
            "tensor(0.9089, grad_fn=<NllLossBackward0>)\n",
            "tensor(0.9237, grad_fn=<NllLossBackward0>)\n",
            "tensor(0.7727, grad_fn=<NllLossBackward0>)\n",
            "tensor(0.9163, grad_fn=<NllLossBackward0>)\n",
            "tensor(0.6496, grad_fn=<NllLossBackward0>)\n",
            "tensor(0.8614, grad_fn=<NllLossBackward0>)\n",
            "tensor(0.8069, grad_fn=<NllLossBackward0>)\n",
            "tensor(0.7655, grad_fn=<NllLossBackward0>)\n",
            "tensor(0.8115, grad_fn=<NllLossBackward0>)\n",
            "tensor(0.8323, grad_fn=<NllLossBackward0>)\n",
            "tensor(0.7795, grad_fn=<NllLossBackward0>)\n",
            "tensor(0.8114, grad_fn=<NllLossBackward0>)\n",
            "tensor(0.8766, grad_fn=<NllLossBackward0>)\n",
            "tensor(0.8335, grad_fn=<NllLossBackward0>)\n",
            "tensor(0.7746, grad_fn=<NllLossBackward0>)\n",
            "tensor(0.8411, grad_fn=<NllLossBackward0>)\n",
            "tensor(0.8577, grad_fn=<NllLossBackward0>)\n",
            "tensor(0.7581, grad_fn=<NllLossBackward0>)\n",
            "tensor(0.7119, grad_fn=<NllLossBackward0>)\n",
            "tensor(0.9156, grad_fn=<NllLossBackward0>)\n",
            "tensor(0.7307, grad_fn=<NllLossBackward0>)\n",
            "tensor(0.9228, grad_fn=<NllLossBackward0>)\n",
            "tensor(0.7206, grad_fn=<NllLossBackward0>)\n",
            "tensor(0.8508, grad_fn=<NllLossBackward0>)\n",
            "tensor(0.8793, grad_fn=<NllLossBackward0>)\n",
            "tensor(0.8014, grad_fn=<NllLossBackward0>)\n",
            "tensor(0.7694, grad_fn=<NllLossBackward0>)\n",
            "tensor(0.7166, grad_fn=<NllLossBackward0>)\n",
            "tensor(0.7386, grad_fn=<NllLossBackward0>)\n",
            "tensor(0.7848, grad_fn=<NllLossBackward0>)\n",
            "tensor(0.7214, grad_fn=<NllLossBackward0>)\n",
            "tensor(0.7224, grad_fn=<NllLossBackward0>)\n",
            "tensor(0.8376, grad_fn=<NllLossBackward0>)\n",
            "tensor(0.8612, grad_fn=<NllLossBackward0>)\n",
            "tensor(0.7132, grad_fn=<NllLossBackward0>)\n",
            "tensor(0.8808, grad_fn=<NllLossBackward0>)\n",
            "tensor(0.7696, grad_fn=<NllLossBackward0>)\n",
            "tensor(0.8550, grad_fn=<NllLossBackward0>)\n",
            "tensor(0.8684, grad_fn=<NllLossBackward0>)\n",
            "tensor(0.6794, grad_fn=<NllLossBackward0>)\n",
            "tensor(0.6506, grad_fn=<NllLossBackward0>)\n",
            "tensor(0.7643, grad_fn=<NllLossBackward0>)\n",
            "tensor(0.7169, grad_fn=<NllLossBackward0>)\n",
            "tensor(0.8606, grad_fn=<NllLossBackward0>)\n",
            "tensor(0.9126, grad_fn=<NllLossBackward0>)\n",
            "tensor(0.8820, grad_fn=<NllLossBackward0>)\n",
            "tensor(0.8322, grad_fn=<NllLossBackward0>)\n",
            "tensor(0.8297, grad_fn=<NllLossBackward0>)\n",
            "tensor(0.7550, grad_fn=<NllLossBackward0>)\n",
            "tensor(0.7226, grad_fn=<NllLossBackward0>)\n",
            "tensor(0.7113, grad_fn=<NllLossBackward0>)\n",
            "tensor(0.8956, grad_fn=<NllLossBackward0>)\n",
            "tensor(0.9061, grad_fn=<NllLossBackward0>)\n",
            "tensor(0.6655, grad_fn=<NllLossBackward0>)\n",
            "tensor(0.8734, grad_fn=<NllLossBackward0>)\n",
            "tensor(0.7119, grad_fn=<NllLossBackward0>)\n",
            "tensor(0.7124, grad_fn=<NllLossBackward0>)\n",
            "tensor(0.7894, grad_fn=<NllLossBackward0>)\n",
            "tensor(0.6879, grad_fn=<NllLossBackward0>)\n",
            "tensor(0.7812, grad_fn=<NllLossBackward0>)\n",
            "tensor(0.8119, grad_fn=<NllLossBackward0>)\n",
            "tensor(0.8098, grad_fn=<NllLossBackward0>)\n",
            "tensor(0.8351, grad_fn=<NllLossBackward0>)\n",
            "tensor(0.7989, grad_fn=<NllLossBackward0>)\n",
            "tensor(0.7808, grad_fn=<NllLossBackward0>)\n",
            "tensor(0.7623, grad_fn=<NllLossBackward0>)\n",
            "tensor(0.7883, grad_fn=<NllLossBackward0>)\n",
            "tensor(0.8286, grad_fn=<NllLossBackward0>)\n",
            "tensor(0.6846, grad_fn=<NllLossBackward0>)\n",
            "tensor(0.8343, grad_fn=<NllLossBackward0>)\n",
            "tensor(0.6742, grad_fn=<NllLossBackward0>)\n",
            "tensor(0.7961, grad_fn=<NllLossBackward0>)\n",
            "tensor(0.8089, grad_fn=<NllLossBackward0>)\n",
            "tensor(0.7332, grad_fn=<NllLossBackward0>)\n",
            "tensor(0.7048, grad_fn=<NllLossBackward0>)\n",
            "tensor(0.8286, grad_fn=<NllLossBackward0>)\n"
          ]
        }
      ]
    },
    {
      "cell_type": "code",
      "source": [
        ""
      ],
      "metadata": {
        "id": "1VMaezovOvkj"
      },
      "execution_count": null,
      "outputs": []
    },
    {
      "cell_type": "code",
      "source": [
        "correct = 0\n",
        "total = len(mnist_test)\n",
        "with torch.no_grad():\n",
        "  for images,labels in test_loader:\n",
        "    x = images.view(-1, 28*28)\n",
        "    y = torch.matmul(x,W) + b\n",
        "\n",
        "    prediction = torch.argmax(y, dim=1)\n",
        "    correct+=torch.sum((prediction == labels).float())\n",
        "\n",
        "print('Test accuracy: {}'.format(correct/total))"
      ],
      "metadata": {
        "colab": {
          "base_uri": "https://localhost:8080/"
        },
        "id": "FeScov-MMdH0",
        "outputId": "b452c813-fdde-466a-9fcd-95e939cf9814"
      },
      "execution_count": null,
      "outputs": [
        {
          "output_type": "stream",
          "name": "stdout",
          "text": [
            "Test accuracy: 0.8327999711036682\n"
          ]
        }
      ]
    },
    {
      "cell_type": "code",
      "source": [
        "fig, ax = plt.subplots(1,10, figsize = (20,2))\n",
        "\n",
        "for digit in range(10):\n",
        "  ax[digit].imshow(W[:,digit].detach().view(28,28), cmap = 'gray')"
      ],
      "metadata": {
        "colab": {
          "base_uri": "https://localhost:8080/",
          "height": 145
        },
        "id": "3ZnkHqG8OwKq",
        "outputId": "36bb0586-b5f9-4a9e-e2be-d930c4a23184"
      },
      "execution_count": null,
      "outputs": [
        {
          "output_type": "display_data",
          "data": {
            "text/plain": [
              "<Figure size 1440x144 with 10 Axes>"
            ],
            "image/png": "[encoded data removed]"
          },
          "metadata": {
            "needs_background": "light"
          }
        }
      ]
    }
  ]
}