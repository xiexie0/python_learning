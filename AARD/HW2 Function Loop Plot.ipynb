{
 "cells": [
  {
   "cell_type": "code",
   "execution_count": 59,
   "id": "65960879",
   "metadata": {},
   "outputs": [],
   "source": [
    "import math\n",
    "import matplotlib\n",
    "import matplotlib.pyplot as plt\n",
    "import numpy as np\n",
    "from numpy.linalg import norm"
   ]
  },
  {
   "cell_type": "markdown",
   "id": "82660c15",
   "metadata": {},
   "source": [
    "Two tribes are on two groups of islands. The location of each island in each group are the following \n"
   ]
  },
  {
   "cell_type": "code",
   "execution_count": 56,
   "id": "0484d306",
   "metadata": {},
   "outputs": [],
   "source": [
    "tribe_1 = np.array([[ 0.7       , -2.        ],\n",
    "       [ 0.57031819, -1.38989504],\n",
    "       [ 0.20369591, -0.88528276],\n",
    "       [-0.33647451, -0.57341523],\n",
    "       [-0.95679269, -0.50821716],\n",
    "       [-1.55      , -0.70096189],\n",
    "       [-2.01352549, -1.11832212]])\n",
    "\n",
    "\n",
    "tribe_2 = np.array([[ 2.87764129,  2.22745751],\n",
    "       [ 2.38267867,  1.35515319],\n",
    "       [ 1.58470935,  0.74757783],\n",
    "       [ 0.61216208,  0.50251733],\n",
    "       [-0.37843706,  0.65941282],\n",
    "       [-1.22765662,  1.19301284],\n",
    "       [-1.79881943,  2.01743742],\n",
    "       [-2.        ,  3.        ]])"
   ]
  },
  {
   "cell_type": "markdown",
   "id": "3f0bd63d",
   "metadata": {},
   "source": [
    "1. Plot the two tribes\n",
    "\n",
    "hints:\n",
    "\n",
    "(1) use the scatter function to make the plot <br>\n",
    "(2) use x[:,0] to access first column of x, and x[:,1] to access second column of x <br>"
   ]
  },
  {
   "cell_type": "code",
   "execution_count": null,
   "id": "44bbd523",
   "metadata": {},
   "outputs": [],
   "source": []
  },
  {
   "cell_type": "markdown",
   "id": "28f9b69f",
   "metadata": {},
   "source": [
    "2. Write a function that compute the distance between two islands\n",
    "\n",
    "hints:\n",
    "\n",
    "(1) suppose island a is located at (1,2) and island b is located at (4,6), the distance between a and b is $$ \\sqrt{(4-1)^2 + (6-2)^2} = \\sqrt{3^2 + 4^2} = \\sqrt {9+16} =  \\sqrt {25} = 5$$  \n",
    "(2) alternatively, we can also use built-in python functions to find distance between a and b. Look up ***np.linalg.norm(a-b)***"
   ]
  },
  {
   "cell_type": "code",
   "execution_count": null,
   "id": "33b4091e",
   "metadata": {},
   "outputs": [],
   "source": []
  },
  {
   "cell_type": "markdown",
   "id": "8ea0b456",
   "metadata": {},
   "source": [
    "3. Find the smallest distance from tribe 1 to tribe 2 and print the distance. \n",
    "\n",
    "hints:\n",
    "\n",
    "(1) use nested for loops to iterate all possible combinations of island from tribe 1 and island from tribe 2\n",
    "(2) call the distance function you wrote above to measure distances between islands \n",
    "(3) store all the distances into a list, and find the smallest value in the list "
   ]
  },
  {
   "cell_type": "code",
   "execution_count": null,
   "id": "a52fb956",
   "metadata": {},
   "outputs": [],
   "source": []
  },
  {
   "cell_type": "markdown",
   "id": "3564a710",
   "metadata": {},
   "source": [
    "4. (Optional) Find which two islands have the smallest distance and circle them up on the plot \n",
    "\n"
   ]
  },
  {
   "cell_type": "code",
   "execution_count": null,
   "id": "c7bc7c12",
   "metadata": {},
   "outputs": [],
   "source": []
  },
  {
   "cell_type": "code",
   "execution_count": null,
   "id": "e255b79c",
   "metadata": {},
   "outputs": [],
   "source": []
  },
  {
   "cell_type": "code",
   "execution_count": null,
   "id": "df825093",
   "metadata": {},
   "outputs": [],
   "source": []
  },
  {
   "cell_type": "code",
   "execution_count": null,
   "id": "378b4382",
   "metadata": {},
   "outputs": [],
   "source": []
  },
  {
   "cell_type": "code",
   "execution_count": null,
   "id": "560bf8ee",
   "metadata": {},
   "outputs": [],
   "source": []
  },
  {
   "cell_type": "code",
   "execution_count": null,
   "id": "88678492",
   "metadata": {},
   "outputs": [],
   "source": []
  },
  {
   "cell_type": "code",
   "execution_count": null,
   "id": "97d2c7c6",
   "metadata": {},
   "outputs": [],
   "source": []
  },
  {
   "cell_type": "code",
   "execution_count": null,
   "id": "a87cadc7",
   "metadata": {},
   "outputs": [],
   "source": []
  },
  {
   "cell_type": "code",
   "execution_count": null,
   "id": "5133eb56",
   "metadata": {},
   "outputs": [],
   "source": []
  }
 ],
 "metadata": {
  "kernelspec": {
   "display_name": "Python 3 (ipykernel)",
   "language": "python",
   "name": "python3"
  },
  "language_info": {
   "codemirror_mode": {
    "name": "ipython",
    "version": 3
   },
   "file_extension": ".py",
   "mimetype": "text/x-python",
   "name": "python",
   "nbconvert_exporter": "python",
   "pygments_lexer": "ipython3",
   "version": "3.9.9"
  }
 },
 "nbformat": 4,
 "nbformat_minor": 5
}
