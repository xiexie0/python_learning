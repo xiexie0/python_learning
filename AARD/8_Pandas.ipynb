{
 "cells": [
  {
   "cell_type": "code",
   "execution_count": 37,
   "id": "ded1a2d2",
   "metadata": {},
   "outputs": [],
   "source": [
    "import pandas as pd\n",
    "import matplotlib.pyplot as plt\n",
    "\n",
    "import torch\n",
    "import torch.nn as nn\n",
    "import torch.optim as optim\n",
    "import pandas as pd\n",
    "from sklearn.model_selection import train_test_split\n",
    "from sklearn.preprocessing import LabelEncoder,MinMaxScaler\n",
    "\n"
   ]
  },
  {
   "cell_type": "markdown",
   "id": "db5b7e6d",
   "metadata": {},
   "source": [
    "Pandas is a versatile tool for data processing. "
   ]
  },
  {
   "cell_type": "code",
   "execution_count": 20,
   "id": "75022926",
   "metadata": {},
   "outputs": [],
   "source": [
    "\n",
    "data = {\n",
    "    \"John\": {\n",
    "        \"blood_pressure\": 120,\n",
    "        \"blood_oxygen\": 98\n",
    "    },\n",
    "    \"Jane \": {\n",
    "        \"blood_pressure\": 130,\n",
    "        \"blood_oxygen\": 95\n",
    "    },\n",
    "    \"Mike\": {\n",
    "        \"blood_pressure\": 140,\n",
    "        \"blood_oxygen\": 96\n",
    "    }\n",
    "}"
   ]
  },
  {
   "cell_type": "markdown",
   "id": "a9aa56a0",
   "metadata": {},
   "source": [
    "First we can convert the dictionary into a pandas dataframe. The benefit of doing so is that we can easily visualize the data and manipulate it with pandas methods. "
   ]
  },
  {
   "cell_type": "code",
   "execution_count": 21,
   "id": "b2d1b3a7",
   "metadata": {},
   "outputs": [
    {
     "name": "stdout",
     "output_type": "stream",
     "text": [
      "                John  Jane   Mike\n",
      "blood_pressure   120    130   140\n",
      "blood_oxygen      98     95    96\n"
     ]
    }
   ],
   "source": [
    "patient_df = pd.DataFrame(data)\n",
    "print(patient_df)"
   ]
  },
  {
   "cell_type": "markdown",
   "id": "ec12f664",
   "metadata": {},
   "source": [
    "Suppose we prefer to have patient names in columns instead of in rows, we can transpose the dataframe."
   ]
  },
  {
   "cell_type": "code",
   "execution_count": 22,
   "id": "d49298a6",
   "metadata": {},
   "outputs": [
    {
     "name": "stdout",
     "output_type": "stream",
     "text": [
      "       blood_pressure  blood_oxygen\n",
      "John              120            98\n",
      "Jane              130            95\n",
      "Mike              140            96\n"
     ]
    }
   ],
   "source": [
    "patient_df = pd.DataFrame(data).T\n",
    "print(patient_df)"
   ]
  },
  {
   "cell_type": "markdown",
   "id": "b496545f",
   "metadata": {},
   "source": [
    "We might want to hide the patient names when we publicize the data. Pandas allow us to change index easily"
   ]
  },
  {
   "cell_type": "code",
   "execution_count": 23,
   "id": "53525104",
   "metadata": {},
   "outputs": [
    {
     "name": "stdout",
     "output_type": "stream",
     "text": [
      "Index(['P1', 'P2', 'P3'], dtype='object')\n",
      "====================\n"
     ]
    },
    {
     "data": {
      "text/html": [
       "<div>\n",
       "<style scoped>\n",
       "    .dataframe tbody tr th:only-of-type {\n",
       "        vertical-align: middle;\n",
       "    }\n",
       "\n",
       "    .dataframe tbody tr th {\n",
       "        vertical-align: top;\n",
       "    }\n",
       "\n",
       "    .dataframe thead th {\n",
       "        text-align: right;\n",
       "    }\n",
       "</style>\n",
       "<table border=\"1\" class=\"dataframe\">\n",
       "  <thead>\n",
       "    <tr style=\"text-align: right;\">\n",
       "      <th></th>\n",
       "      <th>blood_pressure</th>\n",
       "      <th>blood_oxygen</th>\n",
       "    </tr>\n",
       "  </thead>\n",
       "  <tbody>\n",
       "    <tr>\n",
       "      <th>P1</th>\n",
       "      <td>120</td>\n",
       "      <td>98</td>\n",
       "    </tr>\n",
       "    <tr>\n",
       "      <th>P2</th>\n",
       "      <td>130</td>\n",
       "      <td>95</td>\n",
       "    </tr>\n",
       "    <tr>\n",
       "      <th>P3</th>\n",
       "      <td>140</td>\n",
       "      <td>96</td>\n",
       "    </tr>\n",
       "  </tbody>\n",
       "</table>\n",
       "</div>"
      ],
      "text/plain": [
       "    blood_pressure  blood_oxygen\n",
       "P1             120            98\n",
       "P2             130            95\n",
       "P3             140            96"
      ]
     },
     "execution_count": 23,
     "metadata": {},
     "output_type": "execute_result"
    }
   ],
   "source": [
    "patient_df.index = ['P1', 'P2', 'P3']\n",
    "print(patient_df.index)\n",
    "print('====================')\n",
    "patient_df"
   ]
  },
  {
   "cell_type": "markdown",
   "id": "f9ee5c41",
   "metadata": {},
   "source": [
    "To access a row, we can call the name of the row"
   ]
  },
  {
   "cell_type": "code",
   "execution_count": 24,
   "id": "c9e87299",
   "metadata": {},
   "outputs": [
    {
     "name": "stdout",
     "output_type": "stream",
     "text": [
      "blood_pressure    130\n",
      "blood_oxygen       95\n",
      "Name: P2, dtype: int64\n"
     ]
    }
   ],
   "source": [
    "print(patient_df.loc['P2'])"
   ]
  },
  {
   "cell_type": "markdown",
   "id": "52507b13",
   "metadata": {},
   "source": [
    "To access columns of the dataframe, there are more than one method. "
   ]
  },
  {
   "cell_type": "code",
   "execution_count": 25,
   "id": "06976908",
   "metadata": {},
   "outputs": [
    {
     "name": "stdout",
     "output_type": "stream",
     "text": [
      "P1    120\n",
      "P2    130\n",
      "P3    140\n",
      "Name: blood_pressure, dtype: int64\n",
      "====================\n",
      "P1    120\n",
      "P2    130\n",
      "P3    140\n",
      "Name: blood_pressure, dtype: int64\n"
     ]
    }
   ],
   "source": [
    "print(patient_df['blood_pressure'])\n",
    "print('====================')\n",
    "print(patient_df.blood_pressure)\n"
   ]
  },
  {
   "cell_type": "markdown",
   "id": "070a6dc1",
   "metadata": {},
   "source": [
    "We can also access locations of dataframes numerically. "
   ]
  },
  {
   "cell_type": "code",
   "execution_count": 26,
   "id": "a968171c",
   "metadata": {},
   "outputs": [
    {
     "name": "stdout",
     "output_type": "stream",
     "text": [
      "blood_pressure    120\n",
      "blood_oxygen       98\n",
      "Name: P1, dtype: int64\n",
      "====================\n",
      "98\n",
      "====================\n",
      "P1    98\n",
      "P2    95\n",
      "P3    96\n",
      "Name: blood_oxygen, dtype: int64\n"
     ]
    }
   ],
   "source": [
    "print(patient_df.iloc[0])\n",
    "print('====================')\n",
    "print(patient_df.iloc[0,1])\n",
    "print('====================')\n",
    "print(patient_df.iloc[:,1])\n"
   ]
  },
  {
   "cell_type": "markdown",
   "id": "e7fc71da",
   "metadata": {},
   "source": [
    "Now we can store the data into a csv file for later usage. "
   ]
  },
  {
   "cell_type": "code",
   "execution_count": 27,
   "id": "f7d5028b",
   "metadata": {},
   "outputs": [],
   "source": [
    "patient_df.to_csv(\"Patient_info.csv\")"
   ]
  },
  {
   "cell_type": "markdown",
   "id": "7dac91d9",
   "metadata": {},
   "source": [
    "You might be wondering how to retrieve the information in csv files. "
   ]
  },
  {
   "cell_type": "code",
   "execution_count": 28,
   "id": "024a648f",
   "metadata": {},
   "outputs": [
    {
     "name": "stdout",
     "output_type": "stream",
     "text": [
      "   Id  SepalLengthCm  SepalWidthCm  PetalLengthCm  PetalWidthCm      Species\n",
      "0   1            5.1           3.5            1.4           0.2  Iris-setosa\n",
      "1   2            4.9           3.0            1.4           0.2  Iris-setosa\n",
      "2   3            4.7           3.2            1.3           0.2  Iris-setosa\n",
      "3   4            4.6           3.1            1.5           0.2  Iris-setosa\n",
      "4   5            5.0           3.6            1.4           0.2  Iris-setosa\n",
      "====================\n",
      "      Id  SepalLengthCm  SepalWidthCm  PetalLengthCm  PetalWidthCm  \\\n",
      "140  141            6.7           3.1            5.6           2.4   \n",
      "141  142            6.9           3.1            5.1           2.3   \n",
      "142  143            5.8           2.7            5.1           1.9   \n",
      "143  144            6.8           3.2            5.9           2.3   \n",
      "144  145            6.7           3.3            5.7           2.5   \n",
      "145  146            6.7           3.0            5.2           2.3   \n",
      "146  147            6.3           2.5            5.0           1.9   \n",
      "147  148            6.5           3.0            5.2           2.0   \n",
      "148  149            6.2           3.4            5.4           2.3   \n",
      "149  150            5.9           3.0            5.1           1.8   \n",
      "\n",
      "            Species  \n",
      "140  Iris-virginica  \n",
      "141  Iris-virginica  \n",
      "142  Iris-virginica  \n",
      "143  Iris-virginica  \n",
      "144  Iris-virginica  \n",
      "145  Iris-virginica  \n",
      "146  Iris-virginica  \n",
      "147  Iris-virginica  \n",
      "148  Iris-virginica  \n",
      "149  Iris-virginica  \n",
      "====================\n",
      "(150, 6)\n"
     ]
    }
   ],
   "source": [
    "data = pd.read_csv(\"Iris.csv\")\n",
    "print(data.head())\n",
    "print('====================')\n",
    "print(data.tail(10))\n",
    "print('====================')\n",
    "print(data.shape)\n"
   ]
  },
  {
   "cell_type": "markdown",
   "id": "7396e5aa",
   "metadata": {},
   "source": [
    "Some useful tricks to have a general idea of the dataset. "
   ]
  },
  {
   "cell_type": "code",
   "execution_count": 29,
   "id": "a1eb310b",
   "metadata": {},
   "outputs": [
    {
     "data": {
      "text/html": [
       "<div>\n",
       "<style scoped>\n",
       "    .dataframe tbody tr th:only-of-type {\n",
       "        vertical-align: middle;\n",
       "    }\n",
       "\n",
       "    .dataframe tbody tr th {\n",
       "        vertical-align: top;\n",
       "    }\n",
       "\n",
       "    .dataframe thead th {\n",
       "        text-align: right;\n",
       "    }\n",
       "</style>\n",
       "<table border=\"1\" class=\"dataframe\">\n",
       "  <thead>\n",
       "    <tr style=\"text-align: right;\">\n",
       "      <th></th>\n",
       "      <th>Id</th>\n",
       "      <th>SepalLengthCm</th>\n",
       "      <th>SepalWidthCm</th>\n",
       "      <th>PetalLengthCm</th>\n",
       "      <th>PetalWidthCm</th>\n",
       "    </tr>\n",
       "  </thead>\n",
       "  <tbody>\n",
       "    <tr>\n",
       "      <th>count</th>\n",
       "      <td>150.000000</td>\n",
       "      <td>150.000000</td>\n",
       "      <td>150.000000</td>\n",
       "      <td>150.000000</td>\n",
       "      <td>150.000000</td>\n",
       "    </tr>\n",
       "    <tr>\n",
       "      <th>mean</th>\n",
       "      <td>75.500000</td>\n",
       "      <td>5.843333</td>\n",
       "      <td>3.054000</td>\n",
       "      <td>3.758667</td>\n",
       "      <td>1.198667</td>\n",
       "    </tr>\n",
       "    <tr>\n",
       "      <th>std</th>\n",
       "      <td>43.445368</td>\n",
       "      <td>0.828066</td>\n",
       "      <td>0.433594</td>\n",
       "      <td>1.764420</td>\n",
       "      <td>0.763161</td>\n",
       "    </tr>\n",
       "    <tr>\n",
       "      <th>min</th>\n",
       "      <td>1.000000</td>\n",
       "      <td>4.300000</td>\n",
       "      <td>2.000000</td>\n",
       "      <td>1.000000</td>\n",
       "      <td>0.100000</td>\n",
       "    </tr>\n",
       "    <tr>\n",
       "      <th>25%</th>\n",
       "      <td>38.250000</td>\n",
       "      <td>5.100000</td>\n",
       "      <td>2.800000</td>\n",
       "      <td>1.600000</td>\n",
       "      <td>0.300000</td>\n",
       "    </tr>\n",
       "    <tr>\n",
       "      <th>50%</th>\n",
       "      <td>75.500000</td>\n",
       "      <td>5.800000</td>\n",
       "      <td>3.000000</td>\n",
       "      <td>4.350000</td>\n",
       "      <td>1.300000</td>\n",
       "    </tr>\n",
       "    <tr>\n",
       "      <th>75%</th>\n",
       "      <td>112.750000</td>\n",
       "      <td>6.400000</td>\n",
       "      <td>3.300000</td>\n",
       "      <td>5.100000</td>\n",
       "      <td>1.800000</td>\n",
       "    </tr>\n",
       "    <tr>\n",
       "      <th>max</th>\n",
       "      <td>150.000000</td>\n",
       "      <td>7.900000</td>\n",
       "      <td>4.400000</td>\n",
       "      <td>6.900000</td>\n",
       "      <td>2.500000</td>\n",
       "    </tr>\n",
       "  </tbody>\n",
       "</table>\n",
       "</div>"
      ],
      "text/plain": [
       "               Id  SepalLengthCm  SepalWidthCm  PetalLengthCm  PetalWidthCm\n",
       "count  150.000000     150.000000    150.000000     150.000000    150.000000\n",
       "mean    75.500000       5.843333      3.054000       3.758667      1.198667\n",
       "std     43.445368       0.828066      0.433594       1.764420      0.763161\n",
       "min      1.000000       4.300000      2.000000       1.000000      0.100000\n",
       "25%     38.250000       5.100000      2.800000       1.600000      0.300000\n",
       "50%     75.500000       5.800000      3.000000       4.350000      1.300000\n",
       "75%    112.750000       6.400000      3.300000       5.100000      1.800000\n",
       "max    150.000000       7.900000      4.400000       6.900000      2.500000"
      ]
     },
     "execution_count": 29,
     "metadata": {},
     "output_type": "execute_result"
    }
   ],
   "source": [
    "data.describe()"
   ]
  },
  {
   "cell_type": "code",
   "execution_count": 30,
   "id": "f3f845b5",
   "metadata": {},
   "outputs": [
    {
     "data": {
      "text/plain": [
       "Id                 int64\n",
       "SepalLengthCm    float64\n",
       "SepalWidthCm     float64\n",
       "PetalLengthCm    float64\n",
       "PetalWidthCm     float64\n",
       "Species           object\n",
       "dtype: object"
      ]
     },
     "execution_count": 30,
     "metadata": {},
     "output_type": "execute_result"
    }
   ],
   "source": [
    "data.dtypes"
   ]
  },
  {
   "cell_type": "markdown",
   "id": "fe56d28b",
   "metadata": {},
   "source": [
    "We can select part of the dataset based on column values"
   ]
  },
  {
   "cell_type": "code",
   "execution_count": 31,
   "id": "2628137d",
   "metadata": {
    "scrolled": true
   },
   "outputs": [
    {
     "name": "stdout",
     "output_type": "stream",
     "text": [
      "0       True\n",
      "1       True\n",
      "2       True\n",
      "3       True\n",
      "4       True\n",
      "       ...  \n",
      "145    False\n",
      "146    False\n",
      "147    False\n",
      "148    False\n",
      "149    False\n",
      "Name: Species, Length: 150, dtype: bool\n",
      "====================\n",
      "    Id  SepalLengthCm  SepalWidthCm  PetalLengthCm  PetalWidthCm      Species\n",
      "0    1            5.1           3.5            1.4           0.2  Iris-setosa\n",
      "1    2            4.9           3.0            1.4           0.2  Iris-setosa\n",
      "2    3            4.7           3.2            1.3           0.2  Iris-setosa\n",
      "3    4            4.6           3.1            1.5           0.2  Iris-setosa\n",
      "4    5            5.0           3.6            1.4           0.2  Iris-setosa\n",
      "5    6            5.4           3.9            1.7           0.4  Iris-setosa\n",
      "6    7            4.6           3.4            1.4           0.3  Iris-setosa\n",
      "7    8            5.0           3.4            1.5           0.2  Iris-setosa\n",
      "8    9            4.4           2.9            1.4           0.2  Iris-setosa\n",
      "9   10            4.9           3.1            1.5           0.1  Iris-setosa\n",
      "10  11            5.4           3.7            1.5           0.2  Iris-setosa\n",
      "11  12            4.8           3.4            1.6           0.2  Iris-setosa\n",
      "12  13            4.8           3.0            1.4           0.1  Iris-setosa\n",
      "13  14            4.3           3.0            1.1           0.1  Iris-setosa\n",
      "14  15            5.8           4.0            1.2           0.2  Iris-setosa\n",
      "15  16            5.7           4.4            1.5           0.4  Iris-setosa\n",
      "16  17            5.4           3.9            1.3           0.4  Iris-setosa\n",
      "17  18            5.1           3.5            1.4           0.3  Iris-setosa\n",
      "18  19            5.7           3.8            1.7           0.3  Iris-setosa\n",
      "19  20            5.1           3.8            1.5           0.3  Iris-setosa\n",
      "20  21            5.4           3.4            1.7           0.2  Iris-setosa\n",
      "21  22            5.1           3.7            1.5           0.4  Iris-setosa\n",
      "22  23            4.6           3.6            1.0           0.2  Iris-setosa\n",
      "23  24            5.1           3.3            1.7           0.5  Iris-setosa\n",
      "24  25            4.8           3.4            1.9           0.2  Iris-setosa\n",
      "25  26            5.0           3.0            1.6           0.2  Iris-setosa\n",
      "26  27            5.0           3.4            1.6           0.4  Iris-setosa\n",
      "27  28            5.2           3.5            1.5           0.2  Iris-setosa\n",
      "28  29            5.2           3.4            1.4           0.2  Iris-setosa\n",
      "29  30            4.7           3.2            1.6           0.2  Iris-setosa\n",
      "30  31            4.8           3.1            1.6           0.2  Iris-setosa\n",
      "31  32            5.4           3.4            1.5           0.4  Iris-setosa\n",
      "32  33            5.2           4.1            1.5           0.1  Iris-setosa\n",
      "33  34            5.5           4.2            1.4           0.2  Iris-setosa\n",
      "34  35            4.9           3.1            1.5           0.1  Iris-setosa\n",
      "35  36            5.0           3.2            1.2           0.2  Iris-setosa\n",
      "36  37            5.5           3.5            1.3           0.2  Iris-setosa\n",
      "37  38            4.9           3.1            1.5           0.1  Iris-setosa\n",
      "38  39            4.4           3.0            1.3           0.2  Iris-setosa\n",
      "39  40            5.1           3.4            1.5           0.2  Iris-setosa\n",
      "40  41            5.0           3.5            1.3           0.3  Iris-setosa\n",
      "41  42            4.5           2.3            1.3           0.3  Iris-setosa\n",
      "42  43            4.4           3.2            1.3           0.2  Iris-setosa\n",
      "43  44            5.0           3.5            1.6           0.6  Iris-setosa\n",
      "44  45            5.1           3.8            1.9           0.4  Iris-setosa\n",
      "45  46            4.8           3.0            1.4           0.3  Iris-setosa\n",
      "46  47            5.1           3.8            1.6           0.2  Iris-setosa\n",
      "47  48            4.6           3.2            1.4           0.2  Iris-setosa\n",
      "48  49            5.3           3.7            1.5           0.2  Iris-setosa\n",
      "49  50            5.0           3.3            1.4           0.2  Iris-setosa\n"
     ]
    }
   ],
   "source": [
    "print(data['Species']=='Iris-setosa')\n",
    "print('====================')\n",
    "print(data[data['Species']=='Iris-setosa'])\n"
   ]
  },
  {
   "cell_type": "markdown",
   "id": "c3abb139",
   "metadata": {},
   "source": [
    "We can rename columns"
   ]
  },
  {
   "cell_type": "code",
   "execution_count": 32,
   "id": "eb50f06b",
   "metadata": {},
   "outputs": [
    {
     "data": {
      "text/html": [
       "<div>\n",
       "<style scoped>\n",
       "    .dataframe tbody tr th:only-of-type {\n",
       "        vertical-align: middle;\n",
       "    }\n",
       "\n",
       "    .dataframe tbody tr th {\n",
       "        vertical-align: top;\n",
       "    }\n",
       "\n",
       "    .dataframe thead th {\n",
       "        text-align: right;\n",
       "    }\n",
       "</style>\n",
       "<table border=\"1\" class=\"dataframe\">\n",
       "  <thead>\n",
       "    <tr style=\"text-align: right;\">\n",
       "      <th></th>\n",
       "      <th>Id</th>\n",
       "      <th>Sepal_Length</th>\n",
       "      <th>SepalWidthCm</th>\n",
       "      <th>PetalLengthCm</th>\n",
       "      <th>PetalWidthCm</th>\n",
       "      <th>Species</th>\n",
       "    </tr>\n",
       "  </thead>\n",
       "  <tbody>\n",
       "    <tr>\n",
       "      <th>0</th>\n",
       "      <td>1</td>\n",
       "      <td>5.1</td>\n",
       "      <td>3.5</td>\n",
       "      <td>1.4</td>\n",
       "      <td>0.2</td>\n",
       "      <td>Iris-setosa</td>\n",
       "    </tr>\n",
       "    <tr>\n",
       "      <th>1</th>\n",
       "      <td>2</td>\n",
       "      <td>4.9</td>\n",
       "      <td>3.0</td>\n",
       "      <td>1.4</td>\n",
       "      <td>0.2</td>\n",
       "      <td>Iris-setosa</td>\n",
       "    </tr>\n",
       "    <tr>\n",
       "      <th>2</th>\n",
       "      <td>3</td>\n",
       "      <td>4.7</td>\n",
       "      <td>3.2</td>\n",
       "      <td>1.3</td>\n",
       "      <td>0.2</td>\n",
       "      <td>Iris-setosa</td>\n",
       "    </tr>\n",
       "    <tr>\n",
       "      <th>3</th>\n",
       "      <td>4</td>\n",
       "      <td>4.6</td>\n",
       "      <td>3.1</td>\n",
       "      <td>1.5</td>\n",
       "      <td>0.2</td>\n",
       "      <td>Iris-setosa</td>\n",
       "    </tr>\n",
       "    <tr>\n",
       "      <th>4</th>\n",
       "      <td>5</td>\n",
       "      <td>5.0</td>\n",
       "      <td>3.6</td>\n",
       "      <td>1.4</td>\n",
       "      <td>0.2</td>\n",
       "      <td>Iris-setosa</td>\n",
       "    </tr>\n",
       "    <tr>\n",
       "      <th>...</th>\n",
       "      <td>...</td>\n",
       "      <td>...</td>\n",
       "      <td>...</td>\n",
       "      <td>...</td>\n",
       "      <td>...</td>\n",
       "      <td>...</td>\n",
       "    </tr>\n",
       "    <tr>\n",
       "      <th>145</th>\n",
       "      <td>146</td>\n",
       "      <td>6.7</td>\n",
       "      <td>3.0</td>\n",
       "      <td>5.2</td>\n",
       "      <td>2.3</td>\n",
       "      <td>Iris-virginica</td>\n",
       "    </tr>\n",
       "    <tr>\n",
       "      <th>146</th>\n",
       "      <td>147</td>\n",
       "      <td>6.3</td>\n",
       "      <td>2.5</td>\n",
       "      <td>5.0</td>\n",
       "      <td>1.9</td>\n",
       "      <td>Iris-virginica</td>\n",
       "    </tr>\n",
       "    <tr>\n",
       "      <th>147</th>\n",
       "      <td>148</td>\n",
       "      <td>6.5</td>\n",
       "      <td>3.0</td>\n",
       "      <td>5.2</td>\n",
       "      <td>2.0</td>\n",
       "      <td>Iris-virginica</td>\n",
       "    </tr>\n",
       "    <tr>\n",
       "      <th>148</th>\n",
       "      <td>149</td>\n",
       "      <td>6.2</td>\n",
       "      <td>3.4</td>\n",
       "      <td>5.4</td>\n",
       "      <td>2.3</td>\n",
       "      <td>Iris-virginica</td>\n",
       "    </tr>\n",
       "    <tr>\n",
       "      <th>149</th>\n",
       "      <td>150</td>\n",
       "      <td>5.9</td>\n",
       "      <td>3.0</td>\n",
       "      <td>5.1</td>\n",
       "      <td>1.8</td>\n",
       "      <td>Iris-virginica</td>\n",
       "    </tr>\n",
       "  </tbody>\n",
       "</table>\n",
       "<p>150 rows × 6 columns</p>\n",
       "</div>"
      ],
      "text/plain": [
       "      Id  Sepal_Length  SepalWidthCm  PetalLengthCm  PetalWidthCm  \\\n",
       "0      1           5.1           3.5            1.4           0.2   \n",
       "1      2           4.9           3.0            1.4           0.2   \n",
       "2      3           4.7           3.2            1.3           0.2   \n",
       "3      4           4.6           3.1            1.5           0.2   \n",
       "4      5           5.0           3.6            1.4           0.2   \n",
       "..   ...           ...           ...            ...           ...   \n",
       "145  146           6.7           3.0            5.2           2.3   \n",
       "146  147           6.3           2.5            5.0           1.9   \n",
       "147  148           6.5           3.0            5.2           2.0   \n",
       "148  149           6.2           3.4            5.4           2.3   \n",
       "149  150           5.9           3.0            5.1           1.8   \n",
       "\n",
       "            Species  \n",
       "0       Iris-setosa  \n",
       "1       Iris-setosa  \n",
       "2       Iris-setosa  \n",
       "3       Iris-setosa  \n",
       "4       Iris-setosa  \n",
       "..              ...  \n",
       "145  Iris-virginica  \n",
       "146  Iris-virginica  \n",
       "147  Iris-virginica  \n",
       "148  Iris-virginica  \n",
       "149  Iris-virginica  \n",
       "\n",
       "[150 rows x 6 columns]"
      ]
     },
     "execution_count": 32,
     "metadata": {},
     "output_type": "execute_result"
    }
   ],
   "source": [
    "#Renaming one column\n",
    "data.rename(columns={'SepalLengthCm':'Sepal_Length'})\n"
   ]
  },
  {
   "cell_type": "markdown",
   "id": "0e45369c",
   "metadata": {},
   "source": [
    "We can group the data and do operations on each group. "
   ]
  },
  {
   "cell_type": "code",
   "execution_count": 33,
   "id": "c18aaf2f",
   "metadata": {},
   "outputs": [
    {
     "name": "stdout",
     "output_type": "stream",
     "text": [
      "Group Name: Iris-setosa\n",
      "Group Mean:\n",
      "SepalLengthCm    5.006\n",
      "SepalWidthCm     3.418\n",
      "PetalLengthCm    1.464\n",
      "PetalWidthCm     0.244\n",
      "dtype: float64\n",
      "------------------\n",
      "Group Name: Iris-versicolor\n",
      "Group Mean:\n",
      "SepalLengthCm    5.936\n",
      "SepalWidthCm     2.770\n",
      "PetalLengthCm    4.260\n",
      "PetalWidthCm     1.326\n",
      "dtype: float64\n",
      "------------------\n",
      "Group Name: Iris-virginica\n",
      "Group Mean:\n",
      "SepalLengthCm    6.588\n",
      "SepalWidthCm     2.974\n",
      "PetalLengthCm    5.552\n",
      "PetalWidthCm     2.026\n",
      "dtype: float64\n",
      "------------------\n"
     ]
    }
   ],
   "source": [
    "# Group the data by 'Species'\n",
    "grouped_data = data.groupby('Species')\n",
    "\n",
    "# Iterate over the groups and print their names and mean values\n",
    "for name, group in grouped_data:\n",
    "    print(\"Group Name:\", name)\n",
    "    \n",
    "    # Select the numeric columns and compute their mean\n",
    "    group = group.select_dtypes(include=['float64'])\n",
    "    group_mean = group.mean()\n",
    "    \n",
    "    # Print the mean values\n",
    "    print(\"Group Mean:\")\n",
    "    print(group_mean)\n",
    "    print(\"------------------\")"
   ]
  },
  {
   "cell_type": "markdown",
   "id": "6eb4786d",
   "metadata": {},
   "source": [
    "How do we use the pandas dataset for machine learning tasks? "
   ]
  },
  {
   "cell_type": "code",
   "execution_count": 34,
   "id": "409a31d9",
   "metadata": {},
   "outputs": [],
   "source": [
    "# Load the Iris dataset using pandas\n",
    "data = pd.read_csv(\"Iris.csv\")\n",
    "X = data[['SepalLengthCm', 'SepalWidthCm', 'PetalLengthCm', 'PetalWidthCm']].values\n",
    "y = data['Species'].values\n",
    "\n",
    "# Encode the target labels as numeric values\n",
    "label_encoder = LabelEncoder()\n",
    "y = label_encoder.fit_transform(y)\n",
    "\n",
    "# Split the dataset into train and test sets\n",
    "X_train, X_test, y_train, y_test = train_test_split(X, y, test_size=0.2, random_state=42)\n",
    "\n",
    "# Convert the data into PyTorch tensors\n",
    "X_train = torch.tensor(X_train, dtype=torch.float32)\n",
    "y_train = torch.tensor(y_train, dtype=torch.long)\n",
    "X_test = torch.tensor(X_test, dtype=torch.float32)\n",
    "y_test = torch.tensor(y_test, dtype=torch.long)"
   ]
  },
  {
   "cell_type": "code",
   "execution_count": 35,
   "id": "8416722b",
   "metadata": {},
   "outputs": [
    {
     "name": "stdout",
     "output_type": "stream",
     "text": [
      "Epoch 1/100, Loss: 0.017744908730189007\n",
      "Epoch 2/100, Loss: 0.017633481820424398\n",
      "Epoch 3/100, Loss: 0.017546588182449342\n",
      "Epoch 4/100, Loss: 0.017469627658526103\n",
      "Epoch 5/100, Loss: 0.01739847461382548\n",
      "Epoch 6/100, Loss: 0.01733105182647705\n",
      "Epoch 7/100, Loss: 0.017264828085899353\n",
      "Epoch 8/100, Loss: 0.01719870964686076\n",
      "Epoch 9/100, Loss: 0.01713195045789083\n",
      "Epoch 10/100, Loss: 0.017064303159713745\n",
      "Epoch 11/100, Loss: 0.01699566642443339\n",
      "Epoch 12/100, Loss: 0.016925978660583495\n",
      "Epoch 13/100, Loss: 0.01685516784588496\n",
      "Epoch 14/100, Loss: 0.016783150533835094\n",
      "Epoch 15/100, Loss: 0.01670976181825002\n",
      "Epoch 16/100, Loss: 0.016634794572989147\n",
      "Epoch 17/100, Loss: 0.01655813753604889\n",
      "Epoch 18/100, Loss: 0.01647979865471522\n",
      "Epoch 19/100, Loss: 0.01639953553676605\n",
      "Epoch 20/100, Loss: 0.016317276656627654\n",
      "Epoch 21/100, Loss: 0.016232862571875253\n",
      "Epoch 22/100, Loss: 0.016146304706732433\n",
      "Epoch 23/100, Loss: 0.016057360668977103\n",
      "Epoch 24/100, Loss: 0.015965948502222698\n",
      "Epoch 25/100, Loss: 0.015872110426425935\n",
      "Epoch 26/100, Loss: 0.015775722761948902\n",
      "Epoch 27/100, Loss: 0.015676740805308023\n",
      "Epoch 28/100, Loss: 0.01557510495185852\n",
      "Epoch 29/100, Loss: 0.01547075758377711\n",
      "Epoch 30/100, Loss: 0.015363643070062001\n",
      "Epoch 31/100, Loss: 0.015253863235314687\n",
      "Epoch 32/100, Loss: 0.015141559143861135\n",
      "Epoch 33/100, Loss: 0.015026429295539856\n",
      "Epoch 34/100, Loss: 0.014908566077550253\n",
      "Epoch 35/100, Loss: 0.01478864550590515\n",
      "Epoch 36/100, Loss: 0.014666522045930226\n",
      "Epoch 37/100, Loss: 0.01454156885544459\n",
      "Epoch 38/100, Loss: 0.014413605630397796\n",
      "Epoch 39/100, Loss: 0.01428190916776657\n",
      "Epoch 40/100, Loss: 0.014147039751211803\n",
      "Epoch 41/100, Loss: 0.014012844363848368\n",
      "Epoch 42/100, Loss: 0.01388073613246282\n",
      "Epoch 43/100, Loss: 0.01374716560045878\n",
      "Epoch 44/100, Loss: 0.013609545429547627\n",
      "Epoch 45/100, Loss: 0.013468762735525767\n",
      "Epoch 46/100, Loss: 0.013326860964298248\n",
      "Epoch 47/100, Loss: 0.013185316820939381\n",
      "Epoch 48/100, Loss: 0.013042148451010387\n",
      "Epoch 49/100, Loss: 0.01289704293012619\n",
      "Epoch 50/100, Loss: 0.01275032212336858\n",
      "Epoch 51/100, Loss: 0.012602516015370687\n",
      "Epoch 52/100, Loss: 0.01245424896478653\n",
      "Epoch 53/100, Loss: 0.012305747469266255\n",
      "Epoch 54/100, Loss: 0.012156350910663605\n",
      "Epoch 55/100, Loss: 0.012007083992163341\n",
      "Epoch 56/100, Loss: 0.01185883382956187\n",
      "Epoch 57/100, Loss: 0.011712208390235901\n",
      "Epoch 58/100, Loss: 0.01156736562649409\n",
      "Epoch 59/100, Loss: 0.011425186693668366\n",
      "Epoch 60/100, Loss: 0.011286077400048574\n",
      "Epoch 61/100, Loss: 0.01114828884601593\n",
      "Epoch 62/100, Loss: 0.011011738578478496\n",
      "Epoch 63/100, Loss: 0.01087626963853836\n",
      "Epoch 64/100, Loss: 0.010742119451363882\n",
      "Epoch 65/100, Loss: 0.010609598457813263\n",
      "Epoch 66/100, Loss: 0.010478772719701131\n",
      "Epoch 67/100, Loss: 0.010348498324553172\n",
      "Epoch 68/100, Loss: 0.010219422479470571\n",
      "Epoch 69/100, Loss: 0.010091362396876018\n",
      "Epoch 70/100, Loss: 0.009964559475580852\n",
      "Epoch 71/100, Loss: 0.009838246802488963\n",
      "Epoch 72/100, Loss: 0.009710327784220377\n",
      "Epoch 73/100, Loss: 0.00957613339026769\n",
      "Epoch 74/100, Loss: 0.009446404874324799\n",
      "Epoch 75/100, Loss: 0.009330407778422038\n",
      "Epoch 76/100, Loss: 0.009227538108825683\n",
      "Epoch 77/100, Loss: 0.00912693440914154\n",
      "Epoch 78/100, Loss: 0.009026589492956797\n",
      "Epoch 79/100, Loss: 0.0089266965786616\n",
      "Epoch 80/100, Loss: 0.00882774939139684\n",
      "Epoch 81/100, Loss: 0.008730307718118032\n",
      "Epoch 82/100, Loss: 0.008635291705528896\n",
      "Epoch 83/100, Loss: 0.008543146401643753\n",
      "Epoch 84/100, Loss: 0.008454302201668422\n",
      "Epoch 85/100, Loss: 0.008368860681851704\n",
      "Epoch 86/100, Loss: 0.008285989115635554\n",
      "Epoch 87/100, Loss: 0.008205468455950419\n",
      "Epoch 88/100, Loss: 0.008126456042130787\n",
      "Epoch 89/100, Loss: 0.008048816521962484\n",
      "Epoch 90/100, Loss: 0.007972877720991771\n",
      "Epoch 91/100, Loss: 0.007898675898710886\n",
      "Epoch 92/100, Loss: 0.007826180011034013\n",
      "Epoch 93/100, Loss: 0.007755738745133082\n",
      "Epoch 94/100, Loss: 0.007686890413363775\n",
      "Epoch 95/100, Loss: 0.007619364311297735\n",
      "Epoch 96/100, Loss: 0.00755305935939153\n",
      "Epoch 97/100, Loss: 0.007487890124320984\n",
      "Epoch 98/100, Loss: 0.007423883179823557\n",
      "Epoch 99/100, Loss: 0.0073609525958697\n",
      "Epoch 100/100, Loss: 0.0072989309827486675\n"
     ]
    }
   ],
   "source": [
    "# Define the neural network architecture\n",
    "class Net(nn.Module):\n",
    "    def __init__(self):\n",
    "        super(Net, self).__init__()\n",
    "        self.fc1 = nn.Linear(4, 16)\n",
    "        self.fc2 = nn.Linear(16, 16)\n",
    "        self.fc3 = nn.Linear(16, 3)\n",
    "\n",
    "    def forward(self, x):\n",
    "        x = torch.relu(self.fc1(x))\n",
    "        x = torch.relu(self.fc2(x))\n",
    "        x = self.fc3(x)\n",
    "        return x\n",
    "\n",
    "# Initialize the network\n",
    "model = Net()\n",
    "\n",
    "# Define the loss function and optimizer\n",
    "criterion = nn.CrossEntropyLoss()\n",
    "optimizer = optim.Adam(model.parameters(), lr=0.001)\n",
    "\n",
    "# Training loop\n",
    "num_epochs = 100\n",
    "batch_size = 64\n",
    "\n",
    "for epoch in range(num_epochs):\n",
    "    running_loss = 0.0\n",
    "    for i in range(0, len(X_train), batch_size):\n",
    "        inputs = X_train[i:i+batch_size]\n",
    "        targets = y_train[i:i+batch_size]\n",
    "        optimizer.zero_grad()\n",
    "        outputs = model(inputs)\n",
    "        loss = criterion(outputs, targets)\n",
    "        loss.backward()\n",
    "        optimizer.step()\n",
    "        running_loss += loss.item()\n",
    "    \n",
    "    print(f'Epoch {epoch+1}/{num_epochs}, Loss: {running_loss/len(X_train)}')"
   ]
  },
  {
   "cell_type": "code",
   "execution_count": 18,
   "id": "28e25312",
   "metadata": {},
   "outputs": [
    {
     "name": "stdout",
     "output_type": "stream",
     "text": [
      "Test Accuracy: 0.9666666666666667\n"
     ]
    }
   ],
   "source": [
    "# Evaluation\n",
    "model.eval()\n",
    "with torch.no_grad():\n",
    "    outputs = model(X_test)\n",
    "    _, predicted = torch.max(outputs, 1)\n",
    "    accuracy = (predicted == y_test).sum().item() / len(y_test)\n",
    "    print(f'Test Accuracy: {accuracy}')"
   ]
  },
  {
   "cell_type": "markdown",
   "id": "a7e2c66c",
   "metadata": {},
   "source": [
    "Last topic I want to touch on is normalization. Machine learning algorithms perform better when the data in each axis is from 0 to 1. "
   ]
  },
  {
   "cell_type": "code",
   "execution_count": 39,
   "id": "dfadd694",
   "metadata": {},
   "outputs": [
    {
     "data": {
      "image/png": "[encoded data removed]",
      "text/plain": [
       "<Figure size 432x288 with 1 Axes>"
      ]
     },
     "metadata": {
      "needs_background": "light"
     },
     "output_type": "display_data"
    }
   ],
   "source": [
    "features = data[['PetalLengthCm', 'PetalWidthCm']]\n",
    "\n",
    "scaler = MinMaxScaler()\n",
    "normalized_data = scaler.fit_transform(features)\n",
    "normalized_df = pd.DataFrame(normalized_data, columns=['PetalLengthCm', 'PetalWidthCm'])\n",
    "\n",
    "\n",
    "plt.scatter(normalized_df['PetalLengthCm'], normalized_df['PetalWidthCm'])\n",
    "plt.xlabel('Normalized Petal Length')\n",
    "plt.ylabel('Normalized Petal Width')\n",
    "plt.title('Normalized Data')\n",
    "plt.show()\n"
   ]
  },
  {
   "cell_type": "markdown",
   "id": "6c3943b3",
   "metadata": {},
   "source": [
    "The challenge for you is to find out how to convert the transformed data back to their original scale. \n",
    "\n",
    "No homework for this class. Good luck with your research and let me know if you have any questions! "
   ]
  }
 ],
 "metadata": {
  "kernelspec": {
   "display_name": "Python 3 (ipykernel)",
   "language": "python",
   "name": "python3"
  },
  "language_info": {
   "codemirror_mode": {
    "name": "ipython",
    "version": 3
   },
   "file_extension": ".py",
   "mimetype": "text/x-python",
   "name": "python",
   "nbconvert_exporter": "python",
   "pygments_lexer": "ipython3",
   "version": "3.9.9"
  }
 },
 "nbformat": 4,
 "nbformat_minor": 5
}
