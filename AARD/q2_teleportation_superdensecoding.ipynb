{
 "cells": [
  {
   "cell_type": "markdown",
   "metadata": {},
   "source": [
    "## _*Quantum Teleportation and Superdense Coding*_ \n",
    "\n",
    "\n",
    "The latest version of this notebook is available on https://github.com/qiskit/qiskit-tutorial.\n"
   ]
  },
  {
   "cell_type": "markdown",
   "metadata": {},
   "source": [
    "## Introduction\n",
    "\n",
    "In this notebook, we will explore how the entangled states can be used in two quantum communication protocols:\n",
    "* [Teleportation](#teleportation), where a qubit state is transmitted using two classical bits; and\n",
    "* [Superdense Coding](#superdensecoding), where two classical bits are transmitted using one qubit. "
   ]
  },
  {
   "cell_type": "code",
   "execution_count": null,
   "metadata": {
    "ExecuteTime": {
     "end_time": "2018-09-29T01:23:57.423948Z",
     "start_time": "2018-09-29T01:23:57.186244Z"
    }
   },
   "outputs": [],
   "source": [
    "# importing Qiskit\n",
    "from qiskit import QuantumCircuit, QuantumRegister, ClassicalRegister\n",
    "from qiskit import BasicAer, IBMQ, execute\n",
    "from qiskit.tools.monitor import job_monitor\n",
    "\n",
    "# import basic plot tools\n",
    "from qiskit.tools.visualization import plot_histogram\n",
    "\n",
    "# useful additional packages \n",
    "import numpy as np #library for scientific computing"
   ]
  },
  {
   "cell_type": "markdown",
   "metadata": {},
   "source": [
    "## Quantum Teleportation <a id='teleportation'></a>\n",
    "\n",
    "Quantum teleportation is a protocol to transmit quantum states from one location to another, assisted by a previously shared entangled state and a classical communication channel. It was devised by Charles H. Bennett (IBM), Gilles Brassard, Claude Crépeau, Richard Jozsa, Asher Peres, and William K. Wootters in [1993](https://journals.aps.org/prl/abstract/10.1103/PhysRevLett.70.1895). It was first demonstrated with photons in [1997](http://www.nature.com/nature/journal/v390/n6660/abs/390575a0.html), and has since been realised in [atoms](http://www.nature.com/nphys/journal/v9/n7/abs/nphys2631.html), [ions](http://www.nature.com/nature/journal/v429/n6993/full/nature02570.html, http://www.nature.com/nature/journal/v429/n6993/full/nature02608.html), [electrons](http://science.sciencemag.org/content/345/6196/532) and [superconducting circuits](http://www.nature.com/nature/journal/v500/n7462/full/nature12422.html). The [record](http://www.nature.com/nature/journal/v489/n7415/full/nature11472.html) distance for quantum teleportation is 143 km via satellite, set in 2012.\n",
    "\n",
    "<img src=\"images/teleportation.png\" alt=\"Note: In order for images to show up in this jupyter notebook you need to select File => Trusted Notebook\" width=\"600 px\" align=\"center\">\n",
    "\n",
    "As illustrated above, the protocol starts out with a shared entangled state between the sender (Alice) and the receiver (Bob):\n",
    "$$|\\psi\\rangle_{AB} = \\frac{1}{\\sqrt{2}}(|0\\rangle_A \\otimes |0\\rangle_B + |1\\rangle_A \\otimes |1\\rangle_B)$$\n",
    "The first qubit, denoted by subscript $A$, belongs to Alice, and the second qubit, $B$, belongs to Bob.\n",
    "\n",
    "Alice has a quantum state that she wants to convey to Bob:\n",
    "$$|\\psi\\rangle_{C} = \\alpha|0\\rangle_C + \\beta|1\\rangle_C$$\n",
    "\n",
    "At this point, Alice has two quantum states ($C$, the data qubit she wants to teleport, and $A$, one of the entangled pair), and Bob has one quantum state. The total state of the system is given by:\n",
    "$$|\\psi\\rangle_{AB} \\otimes |\\psi\\rangle_C = \\frac{1}{\\sqrt{2}}(|0\\rangle_A \\otimes |0\\rangle_B + |1\\rangle_A \\otimes |1\\rangle_B) \\otimes (\\alpha|0_C\\rangle + \\beta|1_C\\rangle)$$\n",
    "or, in the Bell basis:\n",
    "$$|\\psi\\rangle_{AB} \\otimes |\\psi\\rangle_C = \\frac{1}{2}[\n",
    "|\\Phi^+\\rangle_{AC}\\otimes(\\alpha|0\\rangle_B + \\beta|1\\rangle_B) + \n",
    "|\\Phi^-\\rangle_{AC}\\otimes(\\alpha|0\\rangle_B - \\beta|1\\rangle_B) + \\\\\n",
    "|\\Psi^+\\rangle_{AC}\\otimes(\\alpha|0\\rangle_B + \\beta|1\\rangle_B) + \n",
    "|\\Psi^-\\rangle_{AC}\\otimes(\\alpha|0\\rangle_B - \\beta|1\\rangle_B) ]$$\n",
    "where:\n",
    "$$|0\\rangle \\otimes |0\\rangle = \\frac{1}{\\sqrt{2}}(|\\Phi^+\\rangle + |\\Phi^-\\rangle), \n",
    "|0\\rangle \\otimes |1\\rangle = \\frac{1}{\\sqrt{2}}(|\\Psi^+\\rangle + |\\Psi^-\\rangle)\\\\\n",
    "|1\\rangle \\otimes |0\\rangle = \\frac{1}{\\sqrt{2}}(|\\Psi^+\\rangle - |\\Psi^-\\rangle), \n",
    "|1\\rangle \\otimes |1\\rangle = \\frac{1}{\\sqrt{2}}(|\\Phi^+\\rangle - |\\Phi^-\\rangle).$$\n",
    "\n",
    "Alice now measures her two quantum states, $A$ and $C$, in the Bell basis. This will collapse the three state system into the one of the following four states with equal probability, with the corresponding measurement outcomes:\n",
    "- **00**: $|\\Phi^+\\rangle_{AC}\\otimes(\\alpha|0\\rangle_B + \\beta|1\\rangle_B)$\n",
    "- **01**: $|\\Phi^-\\rangle_{AC}\\otimes(\\alpha|0\\rangle_B - \\beta|1\\rangle_B)$\n",
    "- **10**: $|\\Psi^+\\rangle_{AC}\\otimes(\\alpha|1\\rangle_B + \\beta|0\\rangle_B)$ \n",
    "- **11**: $|\\Psi^-\\rangle_{AC}\\otimes(-\\alpha|1\\rangle_B + \\beta|0\\rangle_B)$\n",
    "\n",
    "Alice now sends the results of her measurements to Bob. Using this information, he performs one of the following transformations on his quantum state to transform it to the desired state $\\alpha|0\\rangle_B + \\beta|1\\rangle_B$:\n",
    "- If he receives **00**, he applies $I = \\begin{pmatrix} 1 & 0 \\\\ 0 & 1 \\end{pmatrix}$\n",
    "- If he receives **01**, he applies $Z = \\begin{pmatrix} 1 & 0 \\\\ 0 & -1 \\end{pmatrix}$\n",
    "- If he receives **10**, he applies $X = \\begin{pmatrix} 0 & 1 \\\\ 1 & 0 \\end{pmatrix}$ \n",
    "- If he receives **11**, he applies $XZ = \\begin{pmatrix} 0 & -1 \\\\ 1 & 0 \\end{pmatrix}$ \n",
    "\n",
    "Transmission (teleportation) of $|\\psi\\rangle = \\alpha|0\\rangle + \\beta|1\\rangle$ is thus achieved. "
   ]
  },
  {
   "cell_type": "markdown",
   "metadata": {},
   "source": [
    "First, we need to setup our registers and circuit. We need three qubits (i.e. three quantum registers) and three classical registers for measurement. Note that three 1-bit classical registers must be used instead of one 3-bit register. This is to avoid errors when doing classically-controlled gates (e.g. `c_if()`) later."
   ]
  },
  {
   "cell_type": "code",
   "execution_count": null,
   "metadata": {},
   "outputs": [],
   "source": [
    "# create registers ('tq', 'tc0', 'tc1', 'tc2')\n",
    "tq = \n",
    "\n",
    "\n",
    "\n",
    "# setup the quantum circuit 'teleport'\n",
    "teleport = "
   ]
  },
  {
   "cell_type": "markdown",
   "metadata": {},
   "source": [
    "The steps to make the shared entangled state $|\\psi\\rangle = \\frac{1}{\\sqrt{2}}(|0_A 0_B\\rangle + |1_A 1_B\\rangle)$ are:\n",
    "1. Start with an initial state $|0_A 0_B\\rangle$\n",
    "2. Apply Hadamard gate $H = \\frac{1}{\\sqrt{2}}\\begin{pmatrix} 1 & 1 \\\\ 1 & -1 \\end{pmatrix}$ on $q_A$ \n",
    "3. Then a $CNOT = \\begin{pmatrix} 1 & 0 & 0 & 0\\\\ 0 & 0 & 0 & 1\\\\0& 0& 1 & 0\\\\0 & 1 & 0 & 0 \\end{pmatrix}$ from $q_A$ to $q_B$\n",
    "\n",
    "Let us use $q_A = q_1$, $q_B = q_2$ and apply the entanglement:"
   ]
  },
  {
   "cell_type": "code",
   "execution_count": null,
   "metadata": {
    "ExecuteTime": {
     "end_time": "2018-09-29T01:25:49.119614Z",
     "start_time": "2018-09-29T01:25:49.111487Z"
    }
   },
   "outputs": [],
   "source": [
    "# add gates for creating an entangled state\n",
    "teleport.\n",
    "\n",
    "teleport.barrier()"
   ]
  },
  {
   "cell_type": "markdown",
   "metadata": {},
   "source": [
    "Alice then prepares her quantum state to be teleported, $|\\psi\\rangle_{C} = \\alpha|0\\rangle_C + \\beta|1\\rangle_C$. In this experiment, $\\alpha = \\cos(\\frac{\\theta}{2})$ and $\\beta = \\sin(\\frac{\\theta}{2})$. Let's use $\\theta = \\frac{\\pi}{3}$ (or any other angle), but $\\theta$ is arbitrary in general, of course (and can include a complex phase). This state can be created by applying a rotation around the y axis:\n",
    "$R_y(\\theta)$ on $q_C$\n",
    "\n",
    "Let us use $q_C = q_0$. Now apply the single-qubit rotation:"
   ]
  },
  {
   "cell_type": "code",
   "execution_count": null,
   "metadata": {
    "ExecuteTime": {
     "end_time": "2018-09-29T01:25:49.690746Z",
     "start_time": "2018-09-29T01:25:49.684872Z"
    }
   },
   "outputs": [],
   "source": [
    "# add the single-qubit rotation with Ry gate\n",
    "# hint 'Ry' is applied in a similar way as other gates above, .ry('angle','qubit0')\n",
    "theta_y =\n",
    "\n",
    "\n",
    "teleport.barrier()"
   ]
  },
  {
   "cell_type": "markdown",
   "metadata": {},
   "source": [
    "Alice now applies $CNOT$ to her two quantum states, followed by an $H$, to entangle them and project them into the Bell basis.\n",
    "\n",
    "Apply these gates on $q_A(q_1)$ and $q_C(q_0)$:"
   ]
  },
  {
   "cell_type": "code",
   "execution_count": null,
   "metadata": {
    "ExecuteTime": {
     "end_time": "2018-09-29T01:25:50.340964Z",
     "start_time": "2018-09-29T01:25:50.335022Z"
    }
   },
   "outputs": [],
   "source": [
    "# add the gates for the second entanglement\n",
    "teleport."
   ]
  },
  {
   "cell_type": "markdown",
   "metadata": {},
   "source": [
    "Next, Alice measures her two quantum states $q_A(q_1)$ and $q_C(q_0)$. Let's measure the qubit into the same-indexed quantum register $q_i \\to c_i$:"
   ]
  },
  {
   "cell_type": "code",
   "execution_count": null,
   "metadata": {
    "ExecuteTime": {
     "end_time": "2018-09-29T01:25:50.803157Z",
     "start_time": "2018-09-29T01:25:50.794385Z"
    }
   },
   "outputs": [],
   "source": [
    "# measure the states of qubits q_a and q_c into the appropriate classical registers\n",
    "teleport.measure"
   ]
  },
  {
   "cell_type": "markdown",
   "metadata": {},
   "source": [
    "Depending on the results of these measurements, Bob has to apply an $X$ or $Z$, or both, to his quantum state $q_B(q_2)$. This uses special syntax to control the quantum gate: `.c_if()`. For the $Z$ gate, we use `teleport.z(tq[2]).c_if(tc0, 1)`, where `tc0` is compared to `1`. What is the syntax for the $X$ gate?"
   ]
  },
  {
   "cell_type": "code",
   "execution_count": null,
   "metadata": {
    "ExecuteTime": {
     "end_time": "2018-09-29T01:25:51.189309Z",
     "start_time": "2018-09-29T01:25:51.182122Z"
    }
   },
   "outputs": [],
   "source": [
    "# apply the controlled gates with conditions.\n",
    "teleport."
   ]
  },
  {
   "cell_type": "markdown",
   "metadata": {},
   "source": [
    "Now let's measure Bob's resulting qubit to make sure we have successful teleportation!:"
   ]
  },
  {
   "cell_type": "code",
   "execution_count": null,
   "metadata": {
    "ExecuteTime": {
     "end_time": "2018-09-29T01:25:51.759153Z",
     "start_time": "2018-09-29T01:25:51.752995Z"
    }
   },
   "outputs": [],
   "source": [
    "# measure the remaining qubit into the remaining classical register\n",
    "teleport.\n"
   ]
  },
  {
   "cell_type": "code",
   "execution_count": null,
   "metadata": {
    "ExecuteTime": {
     "end_time": "2018-09-29T01:25:53.317500Z",
     "start_time": "2018-09-29T01:25:51.914340Z"
    }
   },
   "outputs": [],
   "source": [
    "# draw the circuit to make sure everything is sane\n",
    "teleport.\n"
   ]
  },
  {
   "cell_type": "markdown",
   "metadata": {},
   "source": [
    "Let's now create and execute the quantum circuits and plot the results:"
   ]
  },
  {
   "cell_type": "code",
   "execution_count": null,
   "metadata": {
    "ExecuteTime": {
     "end_time": "2018-09-29T01:25:53.362137Z",
     "start_time": "2018-09-29T01:25:53.325011Z"
    }
   },
   "outputs": [],
   "source": [
    "# local simulations\n",
    "local_backend = BasicAer.get_backend('qasm_simulator') \n",
    "# note that this circuit can not be run on an IBM Q device. Due to the restrictions that measurements should be always in the end of the circuit\n",
    "\n",
    "# job and result\n",
    "teleport_job = #execute\n",
    "teleport_result = #.result\n",
    "job_monitor(teleport_job)"
   ]
  },
  {
   "cell_type": "markdown",
   "metadata": {},
   "source": [
    "We must manipulate the data to understand the results better, first only plotting the results of Alice's measurement and ignoring Bob's results (note each classical register is seperated by a space, and the order is c2 c1 c0; this is very annoying). We've filled in the first data point; what are the other three?:"
   ]
  },
  {
   "cell_type": "code",
   "execution_count": null,
   "metadata": {
    "ExecuteTime": {
     "end_time": "2018-09-29T01:25:53.600182Z",
     "start_time": "2018-09-29T01:25:53.364736Z"
    }
   },
   "outputs": [],
   "source": [
    "# sort Alice's data from Bob's\n",
    "data = teleport_result.get_counts(teleport)\n",
    "alice = {}\n",
    "alice['00'] = data['0 0 0'] + data['1 0 0']\n",
    "alice['10'] = \n",
    "\n",
    "# plot histogram\n"
   ]
  },
  {
   "cell_type": "markdown",
   "metadata": {},
   "source": [
    "The probabilities should be roughly equal.  \n",
    "\n",
    "Now, manipulate the data to plot the result of Bob's measurement:"
   ]
  },
  {
   "cell_type": "code",
   "execution_count": null,
   "metadata": {
    "ExecuteTime": {
     "end_time": "2018-09-29T01:25:53.945920Z",
     "start_time": "2018-09-29T01:25:53.606228Z"
    }
   },
   "outputs": [],
   "source": [
    "# sort Bob's data from Alice's\n",
    "bob = {}\n",
    "bob['0'] = data['0 0 0'] + \n",
    "bob['1'] = \n",
    "\n",
    "# plot histogram\n",
    "plot_histogram(bob)"
   ]
  },
  {
   "cell_type": "code",
   "execution_count": null,
   "metadata": {},
   "outputs": [],
   "source": [
    "# calculate the error of simulations\n"
   ]
  },
  {
   "cell_type": "markdown",
   "metadata": {},
   "source": [
    "We expect $|\\alpha|^2 = |\\cos(\\frac{\\pi}{6})|^2 \\approx 0.75$ (the probability of measuring 0) and $|\\beta|^2 = |\\sin(\\frac{\\pi}{6})|^2 \\approx 0.25$ (the probability of measuring 1). Why don't you try teleporting a different quantum state now?\n",
    "\n",
    "### Extended Thoughts\n",
    "\n",
    "Why are three qubits used instead of two? Couldn't we have just let Bob have $q_A$, ignored $q_B$, and only do one step of entanglement (i.e. only one bell-state measurement, rather than two)? The answer is yes, two qubits are sufficient for teleportation. However, creating long-distance entanglement is very difficult. If Alice and Bob are very far away from each other, it is sometimes better from the standpoint of system robustness to first prepare the two-qubit state (which might be probabilistic and hard) and do the (easier) local bell state measurment between Alice's control qubit afterward. Also, some systems do not permit two-qubit teleportation. For instance, The 2012 satellite quantum teleportation result would not work with two, as an entangled bell-pair of photons was sent down from the sattelite, one of which is measured in the bell basis with the data qubit at Alice's node."
   ]
  },
  {
   "cell_type": "markdown",
   "metadata": {},
   "source": [
    "## Quantum Superdense Coding<a id='superdensecoding'></a>\n",
    "\n",
    "Quantum superdense coding is the dual protocol of quantum teleportation, whereby two classical bits of information are transmitted using only one qubit and a previously shared entangled state. It was devised by Charles Bennett (IBM) and Stephen Wiesner in [1992](https://journals.aps.org/prl/abstract/10.1103/PhysRevLett.69.2881). \n",
    "\n",
    "<img src=\"images/superdensecoding.png\" alt=\"Note: In order for images to show up in this jupyter notebook you need to select File => Trusted Notebook\" width=\"600 px\" align=\"center\">\n",
    "\n",
    "As illustrated above, and as in quantum teleportation, the protocol starts out with a shared entangled state between the sender (Alice) and the receiver (Bob):\n",
    "$$|\\psi\\rangle_{AB} = \\frac{1}{\\sqrt{2}}(|0\\rangle_A \\otimes |0\\rangle_B + |1\\rangle_A \\otimes |1\\rangle_B)$$\n",
    "The first qubit, denoted by subscript $A$, belongs to Alice, and the second qubit, $B$, belongs to Bob.\n",
    "\n",
    "Alice wants to send a two bit message to Bob, 00, 01, 10, or 11.  She performs a single qubit operation on her qubit which transforms the entangled state according to which message she wants to send:\n",
    "- For a message of **00**: Alice applies $I = \\begin{pmatrix} 1 & 0 \\\\ 0 & 1 \\end{pmatrix}$. The resultant state would be $|\\psi_{00}\\rangle = \\frac{1}{\\sqrt{2}}(|0_A 0_B\\rangle + |1_A 1_B\\rangle)$\n",
    "- For a message of **01**: Alice applies $X = \\begin{pmatrix} 0 & 1 \\\\ 1 & 0 \\end{pmatrix}$. The resultant state would be $|\\psi_{01}\\rangle = \\frac{1}{\\sqrt{2}}(|1_A 0_B\\rangle + |0_A 1_B\\rangle)$  \n",
    "- For a message of **10**: Alice applies $Z = \\begin{pmatrix} 1 & 0 \\\\ 0 & -1 \\end{pmatrix}$. The resultant state would be $|\\psi_{10}\\rangle = \\frac{1}{\\sqrt{2}}(|0_A 0_B\\rangle - |1_A 1_B\\rangle)$ \n",
    "- For a message of **11**: Alice applies $XZ = \\begin{pmatrix} 0 & -1 \\\\ 1 & 0 \\end{pmatrix}$. The resultant state would be $|\\psi_{11}\\rangle = \\frac{1}{\\sqrt{2}}(- |1_A 0_B\\rangle + |0_A 1_B\\rangle)$\n",
    "\n",
    "The key to superdense coding is that these four states, $|\\psi_{00}\\rangle, |\\psi_{01}\\rangle, |\\psi_{10}\\rangle, |\\psi_{11}\\rangle$ (also known as the [Bell states](https://en.wikipedia.org/wiki/Bell_state)), are orthonormal and are hence distinguishable by a quantum measurement.\n",
    "\n",
    "First, we want to create all of the registers. Recall that this is a two qubit algorithm:"
   ]
  },
  {
   "cell_type": "code",
   "execution_count": null,
   "metadata": {
    "ExecuteTime": {
     "end_time": "2018-09-29T01:25:53.953827Z",
     "start_time": "2018-09-29T01:25:53.947814Z"
    }
   },
   "outputs": [],
   "source": [
    "# create two quantum registers 'sdq' and two classical ones 'sdc'\n",
    "sdq = "
   ]
  },
  {
   "cell_type": "markdown",
   "metadata": {},
   "source": [
    "Now, let's make ourselves a circuit and an entangled bell state:"
   ]
  },
  {
   "cell_type": "code",
   "execution_count": null,
   "metadata": {},
   "outputs": [],
   "source": [
    "# make the quantum circuit 'superdense'\n",
    "superdense = "
   ]
  },
  {
   "cell_type": "code",
   "execution_count": null,
   "metadata": {},
   "outputs": [],
   "source": [
    "# make the shared entangled state \n",
    "superdense."
   ]
  },
  {
   "cell_type": "markdown",
   "metadata": {},
   "source": [
    "Alice now needs to decide what two bit message she wants to transmit to Bob, ($00$, $01$, $10$, or $11$), and perform the corresponding to transformation ($I$, $X$, $Z$ or $XZ$ respectively) to her qubit $q_A$ ($q_0$). What would the gates be in each case? Leave all but one case uncommented:"
   ]
  },
  {
   "cell_type": "code",
   "execution_count": null,
   "metadata": {
    "ExecuteTime": {
     "end_time": "2018-09-29T01:25:54.598839Z",
     "start_time": "2018-09-29T01:25:54.591683Z"
    }
   },
   "outputs": [],
   "source": [
    "# for 00, do nothing\n",
    "\n",
    "# for 01, apply $X$\n",
    "\n",
    "\n",
    "# for 01, apply $Z$\n",
    "\n",
    "\n",
    "# for 11, apply $XZ$\n",
    "\n",
    "\n",
    "superdense.barrier()"
   ]
  },
  {
   "cell_type": "markdown",
   "metadata": {},
   "source": [
    "Bob now needs to 'decode' the message that Alice sent him. Since measurement in Qiskit is only possible in the standard computational basis, he does this by:\n",
    "1. Applying a $CNOT$ from $q_A$ to $q_B$\n",
    "2. Then a $H$ on $q_A$ \n",
    "3. And measuring $q_A$ and $q_B$\n",
    "\n",
    "It's essentially the same process as creating the state, except backwards:"
   ]
  },
  {
   "cell_type": "code",
   "execution_count": null,
   "metadata": {
    "ExecuteTime": {
     "end_time": "2018-09-29T01:25:55.121279Z",
     "start_time": "2018-09-29T01:25:55.113311Z"
    }
   },
   "outputs": [],
   "source": [
    "# apply the gates\n",
    "superdense.\n",
    "\n",
    "superdense.barrier()\n",
    "\n",
    "# measure the qubits\n",
    "superdense."
   ]
  },
  {
   "cell_type": "code",
   "execution_count": null,
   "metadata": {
    "ExecuteTime": {
     "end_time": "2018-09-29T01:25:56.638472Z",
     "start_time": "2018-09-29T01:25:55.342841Z"
    }
   },
   "outputs": [],
   "source": [
    "# draw the circuit for sanity\n",
    "superdense."
   ]
  },
  {
   "cell_type": "markdown",
   "metadata": {},
   "source": [
    "Let's now create and execute the quantum circuits, and then plot the results:"
   ]
  },
  {
   "cell_type": "code",
   "execution_count": null,
   "metadata": {
    "ExecuteTime": {
     "end_time": "2018-09-29T01:25:56.845494Z",
     "start_time": "2018-09-29T01:25:56.640356Z"
    },
    "scrolled": false
   },
   "outputs": [],
   "source": [
    "backend = BasicAer.get_backend('qasm_simulator') # run on local simulator by default \n",
    "\n",
    "## Uncomment the following lines to run on a real device\n",
    "# from qiskit import IBMQ\n",
    "# from qiskit.providers.ibmq import least_busy\n",
    "\n",
    "# # Load local account information\n",
    "# IBMQ.load_account()\n",
    "# provider = IBMQ.get_provider(hub='ibm-q')\n",
    "# backend = least_busy(provider.backends(filters=lambda x: x.configuration().n_qubits >= 2 and not x.configuration().simulator and x.status().operational==True))\n",
    "# print(\"least busy backend: \", backend)"
   ]
  },
  {
   "cell_type": "code",
   "execution_count": null,
   "metadata": {},
   "outputs": [],
   "source": [
    "# shots = 256\n",
    "# superdense_job = execute(superdense, backend=backend, shots=shots)\n",
    "\n",
    "superdense_job = execute(superdense, backend = backend)\n",
    "job_monitor(superdense_job)"
   ]
  },
  {
   "cell_type": "code",
   "execution_count": null,
   "metadata": {
    "scrolled": true
   },
   "outputs": [],
   "source": [
    "# get results\n",
    "superdense_results = #.result\n",
    "\n",
    "# plot histogram\n",
    "plot_histogram"
   ]
  },
  {
   "cell_type": "markdown",
   "metadata": {},
   "source": [
    "The state with the highest probability should match the message that Alice encoded! Try all of the cases! \n",
    "Mathematically:\n",
    "- For a message of **00**: \n",
    "    - Bob received $|\\psi_{00}\\rangle = \\frac{1}{\\sqrt{2}}(|0_A 0_B\\rangle + |1_A 1_B\\rangle)$. Applying $CNOT$ gives: $\\frac{1}{\\sqrt{2}}(|0_A 0_B\\rangle + |1_A 0_B\\rangle)$.\n",
    "    - Applying $H$ on $q_A$ results in: $\\frac{1}{\\sqrt{2}}\\frac{1}{\\sqrt{2}}[(|0_A\\rangle + |1_A\\rangle)|0_B\\rangle + (|0_A\\rangle - |1_A\\rangle)|0_B\\rangle] = |0_A 0_B\\rangle$ \n",
    "- For a message of **01**: \n",
    "    - Bob received $|\\psi_{01}\\rangle = \\frac{1}{\\sqrt{2}}(|1_A 0_B\\rangle + |0_A 1_B\\rangle)$. Applying $CNOT$ gives: $\\frac{1}{\\sqrt{2}}(|0_A 1_B\\rangle)+ |1_A 1_B\\rangle$. \n",
    "    - Applying $H$ on $q_A$ results in: $\\frac{1}{\\sqrt{2}}\\frac{1}{\\sqrt{2}}[(|0_A\\rangle + |1_A\\rangle)|1_B\\rangle + (|0_A\\rangle - |1_A\\rangle)|1_B\\rangle ] = |0_A 1_B\\rangle$ \n",
    "- For a message of **10**: \n",
    "    - Bob received $|\\psi_{10}\\rangle = \\frac{1}{\\sqrt{2}}(|0_A 0_B\\rangle - |1_A 1_B\\rangle)$. Applying $CNOT$ gives: $\\frac{1}{\\sqrt{2}}(|0_A 0_B\\rangle - |1_A 0_B\\rangle)$. \n",
    "    - Applying $H$ on $q_A$ results in: $\\frac{1}{\\sqrt{2}}\\frac{1}{\\sqrt{2}}[(|0_A\\rangle + |1_A\\rangle)|0_B\\rangle - (|0_A\\rangle - |1_A\\rangle)|0_B\\rangle] = |1_A 0_B\\rangle$ \n",
    "- For a message of **11**: \n",
    "     - Bob received $|\\psi_{11}\\rangle = \\frac{1}{\\sqrt{2}}(- |1_A 0_B\\rangle + |0_A 1_B\\rangle $. Applying $CNOT$ gives: $\\frac{1}{\\sqrt{2}}(|0_A 1_B\\rangle - |1_A 1_B\\rangle)$. \n",
    "     - Applying $H$ on $q_A$ results in: $\\frac{1}{\\sqrt{2}}\\frac{1}{\\sqrt{2}}[(|0_A\\rangle + |1_A\\rangle)|1_B\\rangle - (|0_A\\rangle - |1_A\\rangle)|1_B\\rangle] = |1_A 1_B\\rangle$ "
   ]
  },
  {
   "cell_type": "markdown",
   "metadata": {},
   "source": [
    "### Extended Thoughts\n",
    "\n",
    "We're proportedly sending two classical bits through a single quantum bit ... using two quantum bits? Wait, this doesn't seem dense (let alone superdense) at all. Actually, one can imagine that Alice is very far away from Bob, and she applies (or doesn't apply) her gates very far away from all of the other gates. That is, only one qubit is neccessarily sent to Alice and back even though two are in the system (Bob's qubit stays home). This superdense encoding has interesting security applications. If Eve is evesedropping on Alice's qubit as it shuttles back and forth, Eve cannot possibly know all the data that Alice sent because Eve can at most measure a single qubit."
   ]
  },
  {
   "cell_type": "code",
   "execution_count": null,
   "metadata": {},
   "outputs": [],
   "source": []
  }
 ],
 "metadata": {
  "kernelspec": {
   "display_name": "Python 3",
   "language": "python",
   "name": "python3"
  },
  "language_info": {
   "codemirror_mode": {
    "name": "ipython",
    "version": 3
   },
   "file_extension": ".py",
   "mimetype": "text/x-python",
   "name": "python",
   "nbconvert_exporter": "python",
   "pygments_lexer": "ipython3",
   "version": "3.7.4"
  }
 },
 "nbformat": 4,
 "nbformat_minor": 2
}
