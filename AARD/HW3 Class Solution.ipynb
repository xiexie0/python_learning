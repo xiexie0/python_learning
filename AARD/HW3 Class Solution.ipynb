{
 "cells": [
  {
   "cell_type": "code",
   "execution_count": 12,
   "id": "4c6aa935",
   "metadata": {},
   "outputs": [],
   "source": [
    "import time"
   ]
  },
  {
   "cell_type": "code",
   "execution_count": 13,
   "id": "09053165",
   "metadata": {},
   "outputs": [],
   "source": [
    "class PrimeGen:\n",
    "    def __init__(self,n):\n",
    "        self.n = n\n",
    "        self.primes = self.generate_primes()\n",
    "\n",
    "    def is_prime(self, num):\n",
    "        if num < 2:\n",
    "            return False\n",
    "\n",
    "        for i in range(2, int(num**0.5) + 1):\n",
    "            if num % i == 0:\n",
    "                return False\n",
    "\n",
    "        return True\n",
    "\n",
    "    def generate_primes(self):\n",
    "        primes = []\n",
    "        num = self.n\n",
    "\n",
    "        while len(primes) < 2:\n",
    "            if self.is_prime(num):\n",
    "                primes.append(num)\n",
    "                \n",
    "            num += 1\n",
    "\n",
    "        return primes\n",
    "\n",
    "    \n",
    "\n",
    "    \n",
    "class Encrypt(PrimeGen):\n",
    "    def __init__(self, n):\n",
    "        super().__init__(n)\n",
    "    \n",
    "    def encrypt(self):\n",
    "        p, q = self.primes\n",
    "        encrypted_message = p * q\n",
    "        \n",
    "        return encrypted_message    \n",
    "    \n",
    "    \n",
    "def decrypt(number, key):\n",
    "    if number%key == 0:\n",
    "        return min(number, number/key)\n",
    "    else:\n",
    "        return 'wrong key'\n",
    "\n",
    "def hack(number):\n",
    "    if number < 2:\n",
    "        return None\n",
    "    \n",
    "    for factor in range(2, int(number ** 0.5) + 1):\n",
    "        if number % factor == 0:\n",
    "            return factor\n",
    "    \n",
    "    # If no factor found, the number itself is prime\n",
    "    return number"
   ]
  },
  {
   "cell_type": "code",
   "execution_count": 14,
   "id": "2a9f4d7d",
   "metadata": {},
   "outputs": [
    {
     "name": "stdout",
     "output_type": "stream",
     "text": [
      "Computational time: 4.2998790740966796e-05 minutes\n"
     ]
    }
   ],
   "source": [
    "start_time = time.time()\n",
    "n=92743819\n",
    "ps = PrimeGen(n)\n",
    "end_time = time.time()\n",
    "\n",
    "execution_time = end_time - start_time\n",
    "print(\"Computational time:\", execution_time/60, \"minutes\")"
   ]
  },
  {
   "cell_type": "code",
   "execution_count": 15,
   "id": "a01e5e0b",
   "metadata": {},
   "outputs": [
    {
     "data": {
      "text/plain": [
       "[92743829, 92743841]"
      ]
     },
     "execution_count": 15,
     "metadata": {},
     "output_type": "execute_result"
    }
   ],
   "source": [
    "ps.primes"
   ]
  },
  {
   "cell_type": "code",
   "execution_count": 16,
   "id": "0a33281e",
   "metadata": {},
   "outputs": [
    {
     "name": "stdout",
     "output_type": "stream",
     "text": [
      "Computational time: 9.068648020426432e-05 minutes\n"
     ]
    }
   ],
   "source": [
    "start_time = time.time()\n",
    "msg = Encrypt(n).encrypt()\n",
    "end_time = time.time()\n",
    "execution_time = end_time - start_time\n",
    "print(\"Computational time:\", execution_time/60, \"minutes\")"
   ]
  },
  {
   "cell_type": "code",
   "execution_count": 17,
   "id": "e589ae4a",
   "metadata": {},
   "outputs": [
    {
     "name": "stdout",
     "output_type": "stream",
     "text": [
      "92743829\n",
      "Computational time: 0.24644403060277303 minutes\n"
     ]
    }
   ],
   "source": [
    "start_time = time.time()\n",
    "\n",
    "print(hack(msg))\n",
    "\n",
    "end_time = time.time()\n",
    "execution_time = end_time - start_time\n",
    "print(\"Computational time:\", execution_time/60, \"minutes\")"
   ]
  },
  {
   "cell_type": "code",
   "execution_count": null,
   "id": "f248ea3b",
   "metadata": {},
   "outputs": [],
   "source": []
  }
 ],
 "metadata": {
  "kernelspec": {
   "display_name": "Python 3.10.8 64-bit",
   "language": "python",
   "name": "python3"
  },
  "language_info": {
   "codemirror_mode": {
    "name": "ipython",
    "version": 3
   },
   "file_extension": ".py",
   "mimetype": "text/x-python",
   "name": "python",
   "nbconvert_exporter": "python",
   "pygments_lexer": "ipython3",
   "version": "3.10.8"
  },
  "vscode": {
   "interpreter": {
    "hash": "aee8b7b246df8f9039afb4144a1f6fd8d2ca17a180786b69acc140d282b71a49"
   }
  }
 },
 "nbformat": 4,
 "nbformat_minor": 5
}
