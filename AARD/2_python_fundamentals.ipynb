{
 "cells": [
  {
   "cell_type": "markdown",
   "metadata": {},
   "source": [
    "## Fundamentals of Python - part 2\n",
    "\n",
    "In the last lecture you have learned how to operate with built-in python objects (numbers, strings, lists, tuples, dictionaries, etc.). This lecture you will practice how to operate with custom-defined functions, loops and conditions."
   ]
  },
  {
   "cell_type": "markdown",
   "metadata": {},
   "source": [
    "## References\n",
    "Mark Lutz, 'Learning Python: Powerful Object-Oriented Programming', O'Reilly Media, Inc., 2013. (Chapter 4)\n",
    "\n",
    "Dane Hillard, 'Practices of the Python Pro', Manning Publications, 2020.\n",
    "\n",
    "MIT course 6.0001 (Lecture 2 and 4): https://ocw.mit.edu/courses/electrical-engineering-and-computer-science/6-0001-introduction-to-computer-science-and-programming-in-python-fall-2016/lecture-videos/"
   ]
  },
  {
   "cell_type": "markdown",
   "metadata": {},
   "source": [
    "### 1. Branches and Loops\n",
    "branching and conditioning: <b>if</b>, <b>elif</b>, <b>else</b> <br>\n",
    "boolean operators (and ,or, not), comparisons (==, !=, >,>=)<br>"
   ]
  },
  {
   "cell_type": "code",
   "execution_count": null,
   "metadata": {},
   "outputs": [],
   "source": [
    "#write a sentence with an if clause\n"
   ]
  },
  {
   "cell_type": "code",
   "execution_count": null,
   "metadata": {},
   "outputs": [],
   "source": [
    "#logic: if (condition = True or False), then do the instructions (formatted with indentations)\n",
    "#compare two numbers and print out the comparison conclusion\n",
    "x = 15\n",
    "y = 15\n"
   ]
  },
  {
   "cell_type": "code",
   "execution_count": null,
   "metadata": {},
   "outputs": [],
   "source": [
    "# other branching constructs: elif, else\n",
    "# only one branch is selected\n",
    "parameters = [0, 1, 2, 10, 3.141]\n",
    "if 3.14 in parameters:\n",
    "    print('We added 3.14!')\n",
    "elif parameters[0]==0:    #else if\n",
    "    print('Discarded dataset')\n",
    "else:\n",
    "    print('Proceed further')"
   ]
  },
  {
   "cell_type": "code",
   "execution_count": null,
   "metadata": {},
   "outputs": [],
   "source": [
    "# use if-constructs to output x values until they are less than xmax = 32; \n",
    "# each step x is multiplied by 2\n",
    "x = 2\n",
    "xmax = 32\n",
    "\n",
    "if x<xmax:\n"
   ]
  },
  {
   "cell_type": "code",
   "execution_count": null,
   "metadata": {},
   "outputs": [],
   "source": [
    "#iterative if conditions can be substituted with \n"
   ]
  },
  {
   "cell_type": "code",
   "execution_count": null,
   "metadata": {},
   "outputs": [],
   "source": [
    "# while can lead to an infinite loop\n"
   ]
  },
  {
   "cell_type": "code",
   "execution_count": null,
   "metadata": {},
   "outputs": [],
   "source": [
    "# adding a counter to a while loop\n"
   ]
  },
  {
   "cell_type": "code",
   "execution_count": null,
   "metadata": {},
   "outputs": [],
   "source": [
    "#for loop: for 'variable' in range 'number'\n"
   ]
  },
  {
   "cell_type": "markdown",
   "metadata": {},
   "source": [
    "\"for-cycle\" - run the cycle N number of times\n",
    "e.g. <b>for i in range(N)</b>\n",
    "\n",
    "\"while-loops\" - keep running the cycle until the condition is satisfied\n",
    "e.g. <b> while a < 10</b> ; <b>while a not in b </b>"
   ]
  },
  {
   "cell_type": "code",
   "execution_count": null,
   "metadata": {},
   "outputs": [],
   "source": [
    "#print integers in the range from 0 to 4\n",
    "#range (start, stop, step)\n",
    "\n"
   ]
  },
  {
   "cell_type": "markdown",
   "metadata": {},
   "source": [
    "Note that it starts at 0 (by default), and ends at n-1 for `range(n)`."
   ]
  },
  {
   "cell_type": "markdown",
   "metadata": {},
   "source": [
    "You can also loop over any 'iterable' object, such as lists"
   ]
  },
  {
   "cell_type": "code",
   "execution_count": null,
   "metadata": {},
   "outputs": [],
   "source": [
    "#sequentially print values from the 'parameters' list\n",
    "parameters = [0, 1, 2, 10, 3.14]\n"
   ]
  },
  {
   "cell_type": "code",
   "execution_count": null,
   "metadata": {},
   "outputs": [],
   "source": [
    "#scan the list, take each element, square it and add it to the new list 'squares'\n"
   ]
  },
  {
   "cell_type": "code",
   "execution_count": null,
   "metadata": {},
   "outputs": [],
   "source": [
    "#list comprehensions (run twice faster than traditional for loops)\n"
   ]
  },
  {
   "cell_type": "code",
   "execution_count": null,
   "metadata": {},
   "outputs": [],
   "source": [
    "#what is the sum of all numbers from 1 to 100?\n"
   ]
  },
  {
   "cell_type": "code",
   "execution_count": null,
   "metadata": {},
   "outputs": [],
   "source": [
    "#for loops for strings\n",
    "#change all of the letters to capitals\n"
   ]
  },
  {
   "cell_type": "code",
   "execution_count": null,
   "metadata": {
    "scrolled": true
   },
   "outputs": [],
   "source": [
    "#problem: each year you can increase your capital by 10% in how many years you will double it\n"
   ]
  },
  {
   "cell_type": "markdown",
   "metadata": {},
   "source": [
    "### 2. Functions - abstractions and decompositions\n",
    "defining a function\n",
    "\n",
    "def 'name'('input_parameters'):<br>\n",
    "    'body'<br>\n",
    "    return 'output'<br>"
   ]
  },
  {
   "cell_type": "code",
   "execution_count": null,
   "metadata": {},
   "outputs": [],
   "source": [
    "#define a function which performs summation of two inputs 'a' and 'b'\n",
    "def sum(a,b):\n",
    "    y = a+b\n",
    "    return y"
   ]
  },
  {
   "cell_type": "code",
   "execution_count": null,
   "metadata": {},
   "outputs": [],
   "source": [
    "sum(3,5)"
   ]
  },
  {
   "cell_type": "code",
   "execution_count": null,
   "metadata": {},
   "outputs": [],
   "source": [
    "#define the function: 'even or odd'\n"
   ]
  },
  {
   "cell_type": "code",
   "execution_count": null,
   "metadata": {},
   "outputs": [],
   "source": [
    "#calling function from a module\n"
   ]
  },
  {
   "cell_type": "code",
   "execution_count": null,
   "metadata": {},
   "outputs": [],
   "source": []
  },
  {
   "cell_type": "code",
   "execution_count": null,
   "metadata": {},
   "outputs": [],
   "source": [
    "#numerical functions in numpy and math libraries\n"
   ]
  },
  {
   "cell_type": "code",
   "execution_count": null,
   "metadata": {},
   "outputs": [],
   "source": [
    "#function is an object, complex object\n",
    "#make function of a function\n",
    "def sumEven(a,b,c):\n",
    "    if evenOrOdd(a) == 'even' and evenOrOdd(b) == 'even':\n",
    "        y = summary(a,b)\n",
    "    elif evenOrOdd(b) == 'even' and evenOrOdd(c) == 'even':\n",
    "        y = summary(b,c)\n",
    "    elif evenOrOdd(a) == 'even' and evenOrOdd(c) == 'even':\n",
    "        y = summary(c,a)\n",
    "    else:\n",
    "        y = 'no even numbers'\n",
    "    return y"
   ]
  },
  {
   "cell_type": "code",
   "execution_count": null,
   "metadata": {},
   "outputs": [],
   "source": [
    "print(sumEven(2,3,12))"
   ]
  },
  {
   "cell_type": "code",
   "execution_count": null,
   "metadata": {},
   "outputs": [],
   "source": [
    "#function is an object, complex object\n",
    "#make function of a function\n",
    "from mys_functions import*\n",
    "print(sumEven(2,3,8))"
   ]
  },
  {
   "cell_type": "code",
   "execution_count": null,
   "metadata": {},
   "outputs": [],
   "source": [
    "#global and local variables (e.g. global x)\n",
    "#define a function for a circle area\n",
    "\n"
   ]
  },
  {
   "cell_type": "code",
   "execution_count": null,
   "metadata": {},
   "outputs": [],
   "source": []
  },
  {
   "cell_type": "code",
   "execution_count": null,
   "metadata": {},
   "outputs": [],
   "source": []
  },
  {
   "cell_type": "markdown",
   "metadata": {},
   "source": [
    "### 3. Plots"
   ]
  },
  {
   "cell_type": "code",
   "execution_count": 1,
   "metadata": {},
   "outputs": [
    {
     "data": {
      "image/png": "[encoded data removed]",
      "text/plain": [
       "<Figure size 2000x400 with 1 Axes>"
      ]
     },
     "metadata": {},
     "output_type": "display_data"
    }
   ],
   "source": [
    "#example of 1D plot\n",
    "import numpy as np\n",
    "import matplotlib.pylab as plt\n",
    "import matplotlib.pyplot\n",
    "\n",
    "x = np.linspace(-10,10,100)\n",
    "y = np.sin(x)\n",
    "\n",
    "#plotting the phase dependence\n",
    "plt.plot(x, y)\n",
    "plt.xlabel('x')\n",
    "plt.ylabel('y')\n",
    "fig = matplotlib.pyplot.gcf()\n",
    "fig.set_size_inches(20, 4)"
   ]
  },
  {
   "cell_type": "markdown",
   "metadata": {},
   "source": [
    "### 4. Creative zone (Homework 2)"
   ]
  },
  {
   "cell_type": "code",
   "execution_count": null,
   "metadata": {},
   "outputs": [],
   "source": [
    "#write your own program using the knowledge from the lecture"
   ]
  },
  {
   "cell_type": "code",
   "execution_count": null,
   "metadata": {},
   "outputs": [],
   "source": []
  }
 ],
 "metadata": {
  "kernelspec": {
   "display_name": "Python 3 (ipykernel)",
   "language": "python",
   "name": "python3"
  },
  "language_info": {
   "codemirror_mode": {
    "name": "ipython",
    "version": 3
   },
   "file_extension": ".py",
   "mimetype": "text/x-python",
   "name": "python",
   "nbconvert_exporter": "python",
   "pygments_lexer": "ipython3",
   "version": "3.11.7"
  }
 },
 "nbformat": 4,
 "nbformat_minor": 4
}
